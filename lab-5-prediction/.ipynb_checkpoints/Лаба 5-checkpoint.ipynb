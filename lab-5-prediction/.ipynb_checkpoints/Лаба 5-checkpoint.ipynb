{
 "cells": [
  {
   "cell_type": "markdown",
   "id": "92f55580",
   "metadata": {},
   "source": [
    "# Лаба 5: Chicago_hotels"
   ]
  },
  {
   "cell_type": "markdown",
   "id": "b542115e",
   "metadata": {},
   "source": [
    "##### Вариант 1: АЗИЗИ БАХРАМ"
   ]
  },
  {
   "cell_type": "markdown",
   "id": "5885916e",
   "metadata": {},
   "source": [
    "### Let's Import all necessary libraries"
   ]
  },
  {
   "cell_type": "code",
   "execution_count": 199,
   "id": "34b3a6f1",
   "metadata": {},
   "outputs": [],
   "source": [
    "import pandas as pd\n",
    "import numpy as np\n",
    "import matplotlib\n",
    "import matplotlib.pyplot as plt\n",
    "\n",
    "%matplotlib inline\n",
    "from sklearn.linear_model import LinearRegression\n",
    "from sklearn.feature_selection import f_regression\n",
    "from scipy import stats\n",
    "import seaborn as sns"
   ]
  },
  {
   "cell_type": "code",
   "execution_count": 200,
   "id": "2b9bce96",
   "metadata": {},
   "outputs": [],
   "source": [
    "import os\n",
    "\n",
    "# This is my file path for the lab works\n",
    "os.chdir(\"C:/Users/bahra/Desktop/Lect_01/Lect_10/Задачи для лабораторной 5/Задачи для лабораторной 5\")"
   ]
  },
  {
   "cell_type": "markdown",
   "id": "9e71e9b9",
   "metadata": {},
   "source": [
    "#### Вариант 1: \n",
    "* Коэффициент загрузки гостиниц в процентах (Hotel Occupancy (in %))\n",
    "* Данные для Chicago Central Business District Hotel Statistics. \n",
    "* Предоставлены средние значения процента занятых номеров за один день. \n",
    "* Усреднение по отелям и по дням месяца.\n",
    "* Данные расположены в столбце x1 файла Chicago_hotels.csv"
   ]
  },
  {
   "cell_type": "code",
   "execution_count": 201,
   "id": "41535b14",
   "metadata": {},
   "outputs": [
    {
     "data": {
      "text/html": [
       "<div>\n",
       "<style scoped>\n",
       "    .dataframe tbody tr th:only-of-type {\n",
       "        vertical-align: middle;\n",
       "    }\n",
       "\n",
       "    .dataframe tbody tr th {\n",
       "        vertical-align: top;\n",
       "    }\n",
       "\n",
       "    .dataframe thead th {\n",
       "        text-align: right;\n",
       "    }\n",
       "</style>\n",
       "<table border=\"1\" class=\"dataframe\">\n",
       "  <thead>\n",
       "    <tr style=\"text-align: right;\">\n",
       "      <th></th>\n",
       "      <th>date1</th>\n",
       "      <th>date2</th>\n",
       "      <th>x1</th>\n",
       "      <th>x2</th>\n",
       "      <th>x3</th>\n",
       "      <th>x4</th>\n",
       "    </tr>\n",
       "  </thead>\n",
       "  <tbody>\n",
       "    <tr>\n",
       "      <th>0</th>\n",
       "      <td>January</td>\n",
       "      <td>1994</td>\n",
       "      <td>44,3</td>\n",
       "      <td>104,04</td>\n",
       "      <td>51,9</td>\n",
       "      <td>72,15</td>\n",
       "    </tr>\n",
       "    <tr>\n",
       "      <th>1</th>\n",
       "      <td>February</td>\n",
       "      <td>1994</td>\n",
       "      <td>54,7</td>\n",
       "      <td>102,74</td>\n",
       "      <td>60,1</td>\n",
       "      <td>73,47</td>\n",
       "    </tr>\n",
       "    <tr>\n",
       "      <th>2</th>\n",
       "      <td>March</td>\n",
       "      <td>1994</td>\n",
       "      <td>61,9</td>\n",
       "      <td>105,23</td>\n",
       "      <td>65</td>\n",
       "      <td>74,91</td>\n",
       "    </tr>\n",
       "    <tr>\n",
       "      <th>3</th>\n",
       "      <td>April</td>\n",
       "      <td>1994</td>\n",
       "      <td>69,1</td>\n",
       "      <td>113,63</td>\n",
       "      <td>69,8</td>\n",
       "      <td>79,06</td>\n",
       "    </tr>\n",
       "    <tr>\n",
       "      <th>4</th>\n",
       "      <td>May</td>\n",
       "      <td>1994</td>\n",
       "      <td>70,8</td>\n",
       "      <td>120,77</td>\n",
       "      <td>72,4</td>\n",
       "      <td>82,07</td>\n",
       "    </tr>\n",
       "  </tbody>\n",
       "</table>\n",
       "</div>"
      ],
      "text/plain": [
       "      date1  date2    x1      x2    x3     x4\n",
       "0   January   1994  44,3  104,04  51,9  72,15\n",
       "1  February   1994  54,7  102,74  60,1  73,47\n",
       "2     March   1994  61,9  105,23    65  74,91\n",
       "3     April   1994  69,1  113,63  69,8  79,06\n",
       "4       May   1994  70,8  120,77  72,4  82,07"
      ]
     },
     "execution_count": 201,
     "metadata": {},
     "output_type": "execute_result"
    }
   ],
   "source": [
    "# Let's read the data\n",
    "df = pd.read_csv(\"Chicago_hotels.csv\", sep = ';')\n",
    "# Let's see what we have\n",
    "df.head()"
   ]
  },
  {
   "cell_type": "markdown",
   "id": "8fc8f495",
   "metadata": {},
   "source": [
    "* In our version, we only need to work with the 'x1', so we will only look at that."
   ]
  },
  {
   "cell_type": "code",
   "execution_count": 202,
   "id": "a54d5a60",
   "metadata": {},
   "outputs": [],
   "source": [
    "df = df[['date1','date2','x1']]\n",
    "df.columns = ['month', 'year', 'data_x1']"
   ]
  },
  {
   "cell_type": "code",
   "execution_count": 203,
   "id": "2ddc86b2",
   "metadata": {},
   "outputs": [
    {
     "data": {
      "text/html": [
       "<div>\n",
       "<style scoped>\n",
       "    .dataframe tbody tr th:only-of-type {\n",
       "        vertical-align: middle;\n",
       "    }\n",
       "\n",
       "    .dataframe tbody tr th {\n",
       "        vertical-align: top;\n",
       "    }\n",
       "\n",
       "    .dataframe thead th {\n",
       "        text-align: right;\n",
       "    }\n",
       "</style>\n",
       "<table border=\"1\" class=\"dataframe\">\n",
       "  <thead>\n",
       "    <tr style=\"text-align: right;\">\n",
       "      <th></th>\n",
       "      <th>month</th>\n",
       "      <th>year</th>\n",
       "      <th>data_x1</th>\n",
       "    </tr>\n",
       "  </thead>\n",
       "  <tbody>\n",
       "    <tr>\n",
       "      <th>0</th>\n",
       "      <td>January</td>\n",
       "      <td>1994</td>\n",
       "      <td>44,3</td>\n",
       "    </tr>\n",
       "    <tr>\n",
       "      <th>1</th>\n",
       "      <td>February</td>\n",
       "      <td>1994</td>\n",
       "      <td>54,7</td>\n",
       "    </tr>\n",
       "    <tr>\n",
       "      <th>2</th>\n",
       "      <td>March</td>\n",
       "      <td>1994</td>\n",
       "      <td>61,9</td>\n",
       "    </tr>\n",
       "    <tr>\n",
       "      <th>3</th>\n",
       "      <td>April</td>\n",
       "      <td>1994</td>\n",
       "      <td>69,1</td>\n",
       "    </tr>\n",
       "    <tr>\n",
       "      <th>4</th>\n",
       "      <td>May</td>\n",
       "      <td>1994</td>\n",
       "      <td>70,8</td>\n",
       "    </tr>\n",
       "  </tbody>\n",
       "</table>\n",
       "</div>"
      ],
      "text/plain": [
       "      month  year data_x1\n",
       "0   January  1994    44,3\n",
       "1  February  1994    54,7\n",
       "2     March  1994    61,9\n",
       "3     April  1994    69,1\n",
       "4       May  1994    70,8"
      ]
     },
     "execution_count": 203,
     "metadata": {},
     "output_type": "execute_result"
    }
   ],
   "source": [
    "df.head()"
   ]
  },
  {
   "cell_type": "code",
   "execution_count": 204,
   "id": "47fb09c6",
   "metadata": {},
   "outputs": [
    {
     "name": "stdout",
     "output_type": "stream",
     "text": [
      "<class 'pandas.core.frame.DataFrame'>\n",
      "RangeIndex: 120 entries, 0 to 119\n",
      "Data columns (total 3 columns):\n",
      " #   Column   Non-Null Count  Dtype \n",
      "---  ------   --------------  ----- \n",
      " 0   month    120 non-null    object\n",
      " 1   year     120 non-null    int64 \n",
      " 2   data_x1  120 non-null    object\n",
      "dtypes: int64(1), object(2)\n",
      "memory usage: 2.9+ KB\n"
     ]
    }
   ],
   "source": [
    "df.info()"
   ]
  },
  {
   "cell_type": "markdown",
   "id": "c8c584f0",
   "metadata": {},
   "source": [
    "* For now we have a non empty rows and columns, that is good."
   ]
  },
  {
   "cell_type": "markdown",
   "id": "24007260",
   "metadata": {},
   "source": [
    "##### Let's check clean and standardize our data\n",
    "* The target values are stored in strings, so it will be necessary to transform them into an adequate format"
   ]
  },
  {
   "cell_type": "code",
   "execution_count": 205,
   "id": "4d6a8873",
   "metadata": {},
   "outputs": [],
   "source": [
    "def to_float (x):\n",
    "    if x==' ' or x == '':\n",
    "        return 0\n",
    "    else:\n",
    "        parts = x.split(',')\n",
    "        if len(parts)>1:\n",
    "            return float(parts[0]+'.'+parts[1])\n",
    "        else:\n",
    "            return float(parts[0])"
   ]
  },
  {
   "cell_type": "code",
   "execution_count": 206,
   "id": "424af881",
   "metadata": {},
   "outputs": [
    {
     "data": {
      "text/plain": [
       "array(['January', 'February', 'March', 'April', 'May', 'June', 'July',\n",
       "       'August', 'September', 'October', 'November', 'December'],\n",
       "      dtype=object)"
      ]
     },
     "execution_count": 206,
     "metadata": {},
     "output_type": "execute_result"
    }
   ],
   "source": [
    "df.month.unique()"
   ]
  },
  {
   "cell_type": "markdown",
   "id": "d5b2df53",
   "metadata": {},
   "source": [
    "* Let's build a function for month conversion, adding the month and time of the year, because there are so few parameters"
   ]
  },
  {
   "cell_type": "code",
   "execution_count": 207,
   "id": "1359c923",
   "metadata": {},
   "outputs": [],
   "source": [
    "def month_to_number(x):\n",
    "    if x == 'January':\n",
    "        return 1\n",
    "    if x == 'February':\n",
    "        return 2\n",
    "    if x == 'March':\n",
    "        return 3\n",
    "    if x == 'April':\n",
    "        return 4\n",
    "    if x == 'May':\n",
    "        return 5\n",
    "    if x == 'June':\n",
    "        return 6\n",
    "    if x == 'July':\n",
    "        return 7\n",
    "    if x == 'August':\n",
    "        return 8\n",
    "    if x == 'September':\n",
    "        return 9\n",
    "    if x == 'October':\n",
    "        return 10\n",
    "    if x == 'November':\n",
    "        return 11\n",
    "    if x == 'December':\n",
    "        return 12"
   ]
  },
  {
   "cell_type": "markdown",
   "id": "c8d2306a",
   "metadata": {},
   "source": [
    "* Let's build a function for seasons as well"
   ]
  },
  {
   "cell_type": "code",
   "execution_count": 208,
   "id": "a9248649",
   "metadata": {},
   "outputs": [],
   "source": [
    "def month_to_season(x):\n",
    "    if x in [11,12,1]:\n",
    "        return 1\n",
    "    if x in [2,3,4]:\n",
    "        return 2\n",
    "    if x in [5,6,7]:\n",
    "        return 3\n",
    "    if x in [8,9,10]:\n",
    "        return 4"
   ]
  },
  {
   "cell_type": "markdown",
   "id": "5bd9ad77",
   "metadata": {},
   "source": [
    "* Now let's use our fanctions"
   ]
  },
  {
   "cell_type": "code",
   "execution_count": 209,
   "id": "1dc01c22",
   "metadata": {},
   "outputs": [],
   "source": [
    "# Converting months to numeric values\n",
    "df.month = df.month.apply(month_to_number)"
   ]
  },
  {
   "cell_type": "code",
   "execution_count": 210,
   "id": "c3c36738",
   "metadata": {},
   "outputs": [],
   "source": [
    "# New column for seasons\n",
    "df['season']=df.month.apply(month_to_season)"
   ]
  },
  {
   "cell_type": "code",
   "execution_count": 211,
   "id": "6245542c",
   "metadata": {},
   "outputs": [],
   "source": [
    "# let's change the data type into float for better representation\n",
    "df.data_x1 = df.data_x1.apply(to_float)"
   ]
  },
  {
   "cell_type": "code",
   "execution_count": 212,
   "id": "761dd67d",
   "metadata": {},
   "outputs": [],
   "source": [
    "# Let's add the index column\n",
    "df['ind_date'] = df.index.values"
   ]
  },
  {
   "cell_type": "code",
   "execution_count": 213,
   "id": "e6698873",
   "metadata": {},
   "outputs": [
    {
     "data": {
      "text/plain": [
       "0      1994\n",
       "1      1994\n",
       "2      1994\n",
       "3      1994\n",
       "4      1994\n",
       "       ... \n",
       "115    2003\n",
       "116    2003\n",
       "117    2003\n",
       "118    2003\n",
       "119    2003\n",
       "Name: year, Length: 120, dtype: int64"
      ]
     },
     "execution_count": 213,
     "metadata": {},
     "output_type": "execute_result"
    }
   ],
   "source": [
    "df.year"
   ]
  },
  {
   "cell_type": "code",
   "execution_count": 214,
   "id": "09adffcc",
   "metadata": {},
   "outputs": [],
   "source": [
    "# Let's change the date to numeric value by subtracting 1993\n",
    "# We will get 1 through 10 (10 years)\n",
    "df.year= df.year - 1993"
   ]
  },
  {
   "cell_type": "code",
   "execution_count": 215,
   "id": "1f1f00ce",
   "metadata": {},
   "outputs": [
    {
     "data": {
      "text/plain": [
       "0       1\n",
       "1       1\n",
       "2       1\n",
       "3       1\n",
       "4       1\n",
       "       ..\n",
       "115    10\n",
       "116    10\n",
       "117    10\n",
       "118    10\n",
       "119    10\n",
       "Name: year, Length: 120, dtype: int64"
      ]
     },
     "execution_count": 215,
     "metadata": {},
     "output_type": "execute_result"
    }
   ],
   "source": [
    "df.year"
   ]
  },
  {
   "cell_type": "code",
   "execution_count": 216,
   "id": "9ddeac0a",
   "metadata": {},
   "outputs": [
    {
     "data": {
      "text/html": [
       "<div>\n",
       "<style scoped>\n",
       "    .dataframe tbody tr th:only-of-type {\n",
       "        vertical-align: middle;\n",
       "    }\n",
       "\n",
       "    .dataframe tbody tr th {\n",
       "        vertical-align: top;\n",
       "    }\n",
       "\n",
       "    .dataframe thead th {\n",
       "        text-align: right;\n",
       "    }\n",
       "</style>\n",
       "<table border=\"1\" class=\"dataframe\">\n",
       "  <thead>\n",
       "    <tr style=\"text-align: right;\">\n",
       "      <th></th>\n",
       "      <th>month</th>\n",
       "      <th>year</th>\n",
       "      <th>data_x1</th>\n",
       "      <th>season</th>\n",
       "      <th>ind_date</th>\n",
       "    </tr>\n",
       "  </thead>\n",
       "  <tbody>\n",
       "    <tr>\n",
       "      <th>0</th>\n",
       "      <td>1</td>\n",
       "      <td>1</td>\n",
       "      <td>44.3</td>\n",
       "      <td>1</td>\n",
       "      <td>0</td>\n",
       "    </tr>\n",
       "    <tr>\n",
       "      <th>1</th>\n",
       "      <td>2</td>\n",
       "      <td>1</td>\n",
       "      <td>54.7</td>\n",
       "      <td>2</td>\n",
       "      <td>1</td>\n",
       "    </tr>\n",
       "    <tr>\n",
       "      <th>2</th>\n",
       "      <td>3</td>\n",
       "      <td>1</td>\n",
       "      <td>61.9</td>\n",
       "      <td>2</td>\n",
       "      <td>2</td>\n",
       "    </tr>\n",
       "    <tr>\n",
       "      <th>3</th>\n",
       "      <td>4</td>\n",
       "      <td>1</td>\n",
       "      <td>69.1</td>\n",
       "      <td>2</td>\n",
       "      <td>3</td>\n",
       "    </tr>\n",
       "    <tr>\n",
       "      <th>4</th>\n",
       "      <td>5</td>\n",
       "      <td>1</td>\n",
       "      <td>70.8</td>\n",
       "      <td>3</td>\n",
       "      <td>4</td>\n",
       "    </tr>\n",
       "  </tbody>\n",
       "</table>\n",
       "</div>"
      ],
      "text/plain": [
       "   month  year  data_x1  season  ind_date\n",
       "0      1     1     44.3       1         0\n",
       "1      2     1     54.7       2         1\n",
       "2      3     1     61.9       2         2\n",
       "3      4     1     69.1       2         3\n",
       "4      5     1     70.8       3         4"
      ]
     },
     "execution_count": 216,
     "metadata": {},
     "output_type": "execute_result"
    }
   ],
   "source": [
    "df.head()"
   ]
  },
  {
   "cell_type": "markdown",
   "id": "16871026",
   "metadata": {},
   "source": [
    "* That is more readable."
   ]
  },
  {
   "cell_type": "markdown",
   "id": "0852f775",
   "metadata": {},
   "source": [
    "###### Now let's add data for every month for seasonal analysis"
   ]
  },
  {
   "cell_type": "code",
   "execution_count": 217,
   "id": "9387d23e",
   "metadata": {},
   "outputs": [],
   "source": [
    "df[\"m01\"] = [1,0,0,0,0,0,0,0,0,0,0,0]*10\n",
    "df[\"m02\"] = [0,1,0,0,0,0,0,0,0,0,0,0]*10\n",
    "df[\"m03\"] = [0,0,1,0,0,0,0,0,0,0,0,0]*10\n",
    "df[\"m04\"] = [0,0,0,1,0,0,0,0,0,0,0,0]*10\n",
    "df[\"m05\"] = [0,0,0,0,1,0,0,0,0,0,0,0]*10\n",
    "df[\"m06\"] = [0,0,0,0,0,1,0,0,0,0,0,0]*10\n",
    "df[\"m07\"] = [0,0,0,0,0,0,1,0,0,0,0,0]*10\n",
    "df[\"m08\"] = [0,0,0,0,0,0,0,1,0,0,0,0]*10\n",
    "df[\"m09\"] = [0,0,0,0,0,0,0,0,1,0,0,0]*10\n",
    "df[\"m10\"] = [0,0,0,0,0,0,0,0,0,1,0,0]*10\n",
    "df[\"m11\"] = [0,0,0,0,0,0,0,0,0,0,1,0]*10\n",
    "df[\"m12\"] = [0,0,0,0,0,0,0,0,0,0,0,1]*10"
   ]
  },
  {
   "cell_type": "code",
   "execution_count": 218,
   "id": "df4fee6b",
   "metadata": {},
   "outputs": [
    {
     "data": {
      "text/html": [
       "<div>\n",
       "<style scoped>\n",
       "    .dataframe tbody tr th:only-of-type {\n",
       "        vertical-align: middle;\n",
       "    }\n",
       "\n",
       "    .dataframe tbody tr th {\n",
       "        vertical-align: top;\n",
       "    }\n",
       "\n",
       "    .dataframe thead th {\n",
       "        text-align: right;\n",
       "    }\n",
       "</style>\n",
       "<table border=\"1\" class=\"dataframe\">\n",
       "  <thead>\n",
       "    <tr style=\"text-align: right;\">\n",
       "      <th></th>\n",
       "      <th>month</th>\n",
       "      <th>year</th>\n",
       "      <th>data_x1</th>\n",
       "      <th>season</th>\n",
       "      <th>ind_date</th>\n",
       "      <th>m01</th>\n",
       "      <th>m02</th>\n",
       "      <th>m03</th>\n",
       "      <th>m04</th>\n",
       "      <th>m05</th>\n",
       "      <th>m06</th>\n",
       "      <th>m07</th>\n",
       "      <th>m08</th>\n",
       "      <th>m09</th>\n",
       "      <th>m10</th>\n",
       "      <th>m11</th>\n",
       "      <th>m12</th>\n",
       "    </tr>\n",
       "  </thead>\n",
       "  <tbody>\n",
       "    <tr>\n",
       "      <th>0</th>\n",
       "      <td>1</td>\n",
       "      <td>1</td>\n",
       "      <td>44.3</td>\n",
       "      <td>1</td>\n",
       "      <td>0</td>\n",
       "      <td>1</td>\n",
       "      <td>0</td>\n",
       "      <td>0</td>\n",
       "      <td>0</td>\n",
       "      <td>0</td>\n",
       "      <td>0</td>\n",
       "      <td>0</td>\n",
       "      <td>0</td>\n",
       "      <td>0</td>\n",
       "      <td>0</td>\n",
       "      <td>0</td>\n",
       "      <td>0</td>\n",
       "    </tr>\n",
       "    <tr>\n",
       "      <th>1</th>\n",
       "      <td>2</td>\n",
       "      <td>1</td>\n",
       "      <td>54.7</td>\n",
       "      <td>2</td>\n",
       "      <td>1</td>\n",
       "      <td>0</td>\n",
       "      <td>1</td>\n",
       "      <td>0</td>\n",
       "      <td>0</td>\n",
       "      <td>0</td>\n",
       "      <td>0</td>\n",
       "      <td>0</td>\n",
       "      <td>0</td>\n",
       "      <td>0</td>\n",
       "      <td>0</td>\n",
       "      <td>0</td>\n",
       "      <td>0</td>\n",
       "    </tr>\n",
       "    <tr>\n",
       "      <th>2</th>\n",
       "      <td>3</td>\n",
       "      <td>1</td>\n",
       "      <td>61.9</td>\n",
       "      <td>2</td>\n",
       "      <td>2</td>\n",
       "      <td>0</td>\n",
       "      <td>0</td>\n",
       "      <td>1</td>\n",
       "      <td>0</td>\n",
       "      <td>0</td>\n",
       "      <td>0</td>\n",
       "      <td>0</td>\n",
       "      <td>0</td>\n",
       "      <td>0</td>\n",
       "      <td>0</td>\n",
       "      <td>0</td>\n",
       "      <td>0</td>\n",
       "    </tr>\n",
       "    <tr>\n",
       "      <th>3</th>\n",
       "      <td>4</td>\n",
       "      <td>1</td>\n",
       "      <td>69.1</td>\n",
       "      <td>2</td>\n",
       "      <td>3</td>\n",
       "      <td>0</td>\n",
       "      <td>0</td>\n",
       "      <td>0</td>\n",
       "      <td>1</td>\n",
       "      <td>0</td>\n",
       "      <td>0</td>\n",
       "      <td>0</td>\n",
       "      <td>0</td>\n",
       "      <td>0</td>\n",
       "      <td>0</td>\n",
       "      <td>0</td>\n",
       "      <td>0</td>\n",
       "    </tr>\n",
       "    <tr>\n",
       "      <th>4</th>\n",
       "      <td>5</td>\n",
       "      <td>1</td>\n",
       "      <td>70.8</td>\n",
       "      <td>3</td>\n",
       "      <td>4</td>\n",
       "      <td>0</td>\n",
       "      <td>0</td>\n",
       "      <td>0</td>\n",
       "      <td>0</td>\n",
       "      <td>1</td>\n",
       "      <td>0</td>\n",
       "      <td>0</td>\n",
       "      <td>0</td>\n",
       "      <td>0</td>\n",
       "      <td>0</td>\n",
       "      <td>0</td>\n",
       "      <td>0</td>\n",
       "    </tr>\n",
       "    <tr>\n",
       "      <th>5</th>\n",
       "      <td>6</td>\n",
       "      <td>1</td>\n",
       "      <td>76.9</td>\n",
       "      <td>3</td>\n",
       "      <td>5</td>\n",
       "      <td>0</td>\n",
       "      <td>0</td>\n",
       "      <td>0</td>\n",
       "      <td>0</td>\n",
       "      <td>0</td>\n",
       "      <td>1</td>\n",
       "      <td>0</td>\n",
       "      <td>0</td>\n",
       "      <td>0</td>\n",
       "      <td>0</td>\n",
       "      <td>0</td>\n",
       "      <td>0</td>\n",
       "    </tr>\n",
       "    <tr>\n",
       "      <th>6</th>\n",
       "      <td>7</td>\n",
       "      <td>1</td>\n",
       "      <td>77.5</td>\n",
       "      <td>3</td>\n",
       "      <td>6</td>\n",
       "      <td>0</td>\n",
       "      <td>0</td>\n",
       "      <td>0</td>\n",
       "      <td>0</td>\n",
       "      <td>0</td>\n",
       "      <td>0</td>\n",
       "      <td>1</td>\n",
       "      <td>0</td>\n",
       "      <td>0</td>\n",
       "      <td>0</td>\n",
       "      <td>0</td>\n",
       "      <td>0</td>\n",
       "    </tr>\n",
       "    <tr>\n",
       "      <th>7</th>\n",
       "      <td>8</td>\n",
       "      <td>1</td>\n",
       "      <td>75.0</td>\n",
       "      <td>4</td>\n",
       "      <td>7</td>\n",
       "      <td>0</td>\n",
       "      <td>0</td>\n",
       "      <td>0</td>\n",
       "      <td>0</td>\n",
       "      <td>0</td>\n",
       "      <td>0</td>\n",
       "      <td>0</td>\n",
       "      <td>1</td>\n",
       "      <td>0</td>\n",
       "      <td>0</td>\n",
       "      <td>0</td>\n",
       "      <td>0</td>\n",
       "    </tr>\n",
       "  </tbody>\n",
       "</table>\n",
       "</div>"
      ],
      "text/plain": [
       "   month  year  data_x1  season  ind_date  m01  m02  m03  m04  m05  m06  m07  \\\n",
       "0      1     1     44.3       1         0    1    0    0    0    0    0    0   \n",
       "1      2     1     54.7       2         1    0    1    0    0    0    0    0   \n",
       "2      3     1     61.9       2         2    0    0    1    0    0    0    0   \n",
       "3      4     1     69.1       2         3    0    0    0    1    0    0    0   \n",
       "4      5     1     70.8       3         4    0    0    0    0    1    0    0   \n",
       "5      6     1     76.9       3         5    0    0    0    0    0    1    0   \n",
       "6      7     1     77.5       3         6    0    0    0    0    0    0    1   \n",
       "7      8     1     75.0       4         7    0    0    0    0    0    0    0   \n",
       "\n",
       "   m08  m09  m10  m11  m12  \n",
       "0    0    0    0    0    0  \n",
       "1    0    0    0    0    0  \n",
       "2    0    0    0    0    0  \n",
       "3    0    0    0    0    0  \n",
       "4    0    0    0    0    0  \n",
       "5    0    0    0    0    0  \n",
       "6    0    0    0    0    0  \n",
       "7    1    0    0    0    0  "
      ]
     },
     "execution_count": 218,
     "metadata": {},
     "output_type": "execute_result"
    }
   ],
   "source": [
    "df.head(8)"
   ]
  },
  {
   "cell_type": "code",
   "execution_count": 219,
   "id": "49020455",
   "metadata": {},
   "outputs": [],
   "source": [
    "train = df[df.data_x1 > 0 ]\n",
    "test = df[df.data_x1 == 0 ]"
   ]
  },
  {
   "cell_type": "code",
   "execution_count": 220,
   "id": "c3c5c812",
   "metadata": {},
   "outputs": [
    {
     "data": {
      "text/plain": [
       "<AxesSubplot:>"
      ]
     },
     "execution_count": 220,
     "metadata": {},
     "output_type": "execute_result"
    },
    {
     "data": {
      "image/png": "[encoded data removed]",
      "text/plain": [
       "<Figure size 1296x360 with 1 Axes>"
      ]
     },
     "metadata": {
      "needs_background": "light"
     },
     "output_type": "display_data"
    }
   ],
   "source": [
    "fig = plt.figure(figsize=(18, 5))\n",
    "ax1 = fig.add_subplot(121)\n",
    "train['data_x1'].plot(ax=ax1)"
   ]
  },
  {
   "cell_type": "markdown",
   "id": "a80a8caa",
   "metadata": {},
   "source": [
    "* We got a nice seasonal chart\n",
    "* According to the graph, there is a visible seasonality and, apparently, a polynomial trend, most likely a quadratic one, but first we will try to build a purely linear model\n",
    "\n"
   ]
  },
  {
   "cell_type": "markdown",
   "id": "32a3db3e",
   "metadata": {},
   "source": [
    "### Let's divide the data into train and test sample"
   ]
  },
  {
   "cell_type": "code",
   "execution_count": 221,
   "id": "060e8cbe",
   "metadata": {},
   "outputs": [],
   "source": [
    "# Data for X\n",
    "X_test =  test.drop('data_x1', axis=1)\n",
    "X_train = train.drop('data_x1', axis=1)\n",
    "\n",
    "# Data for y\n",
    "y_test =  test['data_x1']\n",
    "y_train = train['data_x1']"
   ]
  },
  {
   "cell_type": "markdown",
   "id": "aebdb632",
   "metadata": {},
   "source": [
    "### Training our linear regression model"
   ]
  },
  {
   "cell_type": "code",
   "execution_count": 222,
   "id": "bdb1098b",
   "metadata": {},
   "outputs": [
    {
     "data": {
      "text/plain": [
       "LinearRegression()"
      ]
     },
     "execution_count": 222,
     "metadata": {},
     "output_type": "execute_result"
    }
   ],
   "source": [
    "model = LinearRegression()\n",
    "model.fit(X_train, y_train)"
   ]
  },
  {
   "cell_type": "code",
   "execution_count": 223,
   "id": "9dfd2e5c",
   "metadata": {},
   "outputs": [
    {
     "data": {
      "text/html": [
       "<div>\n",
       "<style scoped>\n",
       "    .dataframe tbody tr th:only-of-type {\n",
       "        vertical-align: middle;\n",
       "    }\n",
       "\n",
       "    .dataframe tbody tr th {\n",
       "        vertical-align: top;\n",
       "    }\n",
       "\n",
       "    .dataframe thead th {\n",
       "        text-align: right;\n",
       "    }\n",
       "</style>\n",
       "<table border=\"1\" class=\"dataframe\">\n",
       "  <thead>\n",
       "    <tr style=\"text-align: right;\">\n",
       "      <th></th>\n",
       "      <th>month</th>\n",
       "      <th>year</th>\n",
       "      <th>season</th>\n",
       "      <th>ind_date</th>\n",
       "      <th>m01</th>\n",
       "      <th>m02</th>\n",
       "      <th>m03</th>\n",
       "      <th>m04</th>\n",
       "      <th>m05</th>\n",
       "      <th>m06</th>\n",
       "      <th>m07</th>\n",
       "      <th>m08</th>\n",
       "      <th>m09</th>\n",
       "      <th>m10</th>\n",
       "      <th>m11</th>\n",
       "      <th>m12</th>\n",
       "    </tr>\n",
       "  </thead>\n",
       "  <tbody>\n",
       "    <tr>\n",
       "      <th>0</th>\n",
       "      <td>1</td>\n",
       "      <td>1</td>\n",
       "      <td>1</td>\n",
       "      <td>0</td>\n",
       "      <td>1</td>\n",
       "      <td>0</td>\n",
       "      <td>0</td>\n",
       "      <td>0</td>\n",
       "      <td>0</td>\n",
       "      <td>0</td>\n",
       "      <td>0</td>\n",
       "      <td>0</td>\n",
       "      <td>0</td>\n",
       "      <td>0</td>\n",
       "      <td>0</td>\n",
       "      <td>0</td>\n",
       "    </tr>\n",
       "    <tr>\n",
       "      <th>1</th>\n",
       "      <td>2</td>\n",
       "      <td>1</td>\n",
       "      <td>2</td>\n",
       "      <td>1</td>\n",
       "      <td>0</td>\n",
       "      <td>1</td>\n",
       "      <td>0</td>\n",
       "      <td>0</td>\n",
       "      <td>0</td>\n",
       "      <td>0</td>\n",
       "      <td>0</td>\n",
       "      <td>0</td>\n",
       "      <td>0</td>\n",
       "      <td>0</td>\n",
       "      <td>0</td>\n",
       "      <td>0</td>\n",
       "    </tr>\n",
       "    <tr>\n",
       "      <th>2</th>\n",
       "      <td>3</td>\n",
       "      <td>1</td>\n",
       "      <td>2</td>\n",
       "      <td>2</td>\n",
       "      <td>0</td>\n",
       "      <td>0</td>\n",
       "      <td>1</td>\n",
       "      <td>0</td>\n",
       "      <td>0</td>\n",
       "      <td>0</td>\n",
       "      <td>0</td>\n",
       "      <td>0</td>\n",
       "      <td>0</td>\n",
       "      <td>0</td>\n",
       "      <td>0</td>\n",
       "      <td>0</td>\n",
       "    </tr>\n",
       "    <tr>\n",
       "      <th>3</th>\n",
       "      <td>4</td>\n",
       "      <td>1</td>\n",
       "      <td>2</td>\n",
       "      <td>3</td>\n",
       "      <td>0</td>\n",
       "      <td>0</td>\n",
       "      <td>0</td>\n",
       "      <td>1</td>\n",
       "      <td>0</td>\n",
       "      <td>0</td>\n",
       "      <td>0</td>\n",
       "      <td>0</td>\n",
       "      <td>0</td>\n",
       "      <td>0</td>\n",
       "      <td>0</td>\n",
       "      <td>0</td>\n",
       "    </tr>\n",
       "    <tr>\n",
       "      <th>4</th>\n",
       "      <td>5</td>\n",
       "      <td>1</td>\n",
       "      <td>3</td>\n",
       "      <td>4</td>\n",
       "      <td>0</td>\n",
       "      <td>0</td>\n",
       "      <td>0</td>\n",
       "      <td>0</td>\n",
       "      <td>1</td>\n",
       "      <td>0</td>\n",
       "      <td>0</td>\n",
       "      <td>0</td>\n",
       "      <td>0</td>\n",
       "      <td>0</td>\n",
       "      <td>0</td>\n",
       "      <td>0</td>\n",
       "    </tr>\n",
       "    <tr>\n",
       "      <th>...</th>\n",
       "      <td>...</td>\n",
       "      <td>...</td>\n",
       "      <td>...</td>\n",
       "      <td>...</td>\n",
       "      <td>...</td>\n",
       "      <td>...</td>\n",
       "      <td>...</td>\n",
       "      <td>...</td>\n",
       "      <td>...</td>\n",
       "      <td>...</td>\n",
       "      <td>...</td>\n",
       "      <td>...</td>\n",
       "      <td>...</td>\n",
       "      <td>...</td>\n",
       "      <td>...</td>\n",
       "      <td>...</td>\n",
       "    </tr>\n",
       "    <tr>\n",
       "      <th>107</th>\n",
       "      <td>12</td>\n",
       "      <td>9</td>\n",
       "      <td>1</td>\n",
       "      <td>107</td>\n",
       "      <td>0</td>\n",
       "      <td>0</td>\n",
       "      <td>0</td>\n",
       "      <td>0</td>\n",
       "      <td>0</td>\n",
       "      <td>0</td>\n",
       "      <td>0</td>\n",
       "      <td>0</td>\n",
       "      <td>0</td>\n",
       "      <td>0</td>\n",
       "      <td>0</td>\n",
       "      <td>1</td>\n",
       "    </tr>\n",
       "    <tr>\n",
       "      <th>108</th>\n",
       "      <td>1</td>\n",
       "      <td>10</td>\n",
       "      <td>1</td>\n",
       "      <td>108</td>\n",
       "      <td>1</td>\n",
       "      <td>0</td>\n",
       "      <td>0</td>\n",
       "      <td>0</td>\n",
       "      <td>0</td>\n",
       "      <td>0</td>\n",
       "      <td>0</td>\n",
       "      <td>0</td>\n",
       "      <td>0</td>\n",
       "      <td>0</td>\n",
       "      <td>0</td>\n",
       "      <td>0</td>\n",
       "    </tr>\n",
       "    <tr>\n",
       "      <th>109</th>\n",
       "      <td>2</td>\n",
       "      <td>10</td>\n",
       "      <td>2</td>\n",
       "      <td>109</td>\n",
       "      <td>0</td>\n",
       "      <td>1</td>\n",
       "      <td>0</td>\n",
       "      <td>0</td>\n",
       "      <td>0</td>\n",
       "      <td>0</td>\n",
       "      <td>0</td>\n",
       "      <td>0</td>\n",
       "      <td>0</td>\n",
       "      <td>0</td>\n",
       "      <td>0</td>\n",
       "      <td>0</td>\n",
       "    </tr>\n",
       "    <tr>\n",
       "      <th>110</th>\n",
       "      <td>3</td>\n",
       "      <td>10</td>\n",
       "      <td>2</td>\n",
       "      <td>110</td>\n",
       "      <td>0</td>\n",
       "      <td>0</td>\n",
       "      <td>1</td>\n",
       "      <td>0</td>\n",
       "      <td>0</td>\n",
       "      <td>0</td>\n",
       "      <td>0</td>\n",
       "      <td>0</td>\n",
       "      <td>0</td>\n",
       "      <td>0</td>\n",
       "      <td>0</td>\n",
       "      <td>0</td>\n",
       "    </tr>\n",
       "    <tr>\n",
       "      <th>111</th>\n",
       "      <td>4</td>\n",
       "      <td>10</td>\n",
       "      <td>2</td>\n",
       "      <td>111</td>\n",
       "      <td>0</td>\n",
       "      <td>0</td>\n",
       "      <td>0</td>\n",
       "      <td>1</td>\n",
       "      <td>0</td>\n",
       "      <td>0</td>\n",
       "      <td>0</td>\n",
       "      <td>0</td>\n",
       "      <td>0</td>\n",
       "      <td>0</td>\n",
       "      <td>0</td>\n",
       "      <td>0</td>\n",
       "    </tr>\n",
       "  </tbody>\n",
       "</table>\n",
       "<p>112 rows × 16 columns</p>\n",
       "</div>"
      ],
      "text/plain": [
       "     month  year  season  ind_date  m01  m02  m03  m04  m05  m06  m07  m08  \\\n",
       "0        1     1       1         0    1    0    0    0    0    0    0    0   \n",
       "1        2     1       2         1    0    1    0    0    0    0    0    0   \n",
       "2        3     1       2         2    0    0    1    0    0    0    0    0   \n",
       "3        4     1       2         3    0    0    0    1    0    0    0    0   \n",
       "4        5     1       3         4    0    0    0    0    1    0    0    0   \n",
       "..     ...   ...     ...       ...  ...  ...  ...  ...  ...  ...  ...  ...   \n",
       "107     12     9       1       107    0    0    0    0    0    0    0    0   \n",
       "108      1    10       1       108    1    0    0    0    0    0    0    0   \n",
       "109      2    10       2       109    0    1    0    0    0    0    0    0   \n",
       "110      3    10       2       110    0    0    1    0    0    0    0    0   \n",
       "111      4    10       2       111    0    0    0    1    0    0    0    0   \n",
       "\n",
       "     m09  m10  m11  m12  \n",
       "0      0    0    0    0  \n",
       "1      0    0    0    0  \n",
       "2      0    0    0    0  \n",
       "3      0    0    0    0  \n",
       "4      0    0    0    0  \n",
       "..   ...  ...  ...  ...  \n",
       "107    0    0    0    1  \n",
       "108    0    0    0    0  \n",
       "109    0    0    0    0  \n",
       "110    0    0    0    0  \n",
       "111    0    0    0    0  \n",
       "\n",
       "[112 rows x 16 columns]"
      ]
     },
     "execution_count": 223,
     "metadata": {},
     "output_type": "execute_result"
    }
   ],
   "source": [
    "X_train"
   ]
  },
  {
   "cell_type": "markdown",
   "id": "062b87b0",
   "metadata": {},
   "source": [
    "### Assessment models"
   ]
  },
  {
   "cell_type": "code",
   "execution_count": 224,
   "id": "2c61daeb",
   "metadata": {},
   "outputs": [
    {
     "data": {
      "text/html": [
       "<div>\n",
       "<style scoped>\n",
       "    .dataframe tbody tr th:only-of-type {\n",
       "        vertical-align: middle;\n",
       "    }\n",
       "\n",
       "    .dataframe tbody tr th {\n",
       "        vertical-align: top;\n",
       "    }\n",
       "\n",
       "    .dataframe thead th {\n",
       "        text-align: right;\n",
       "    }\n",
       "</style>\n",
       "<table border=\"1\" class=\"dataframe\">\n",
       "  <thead>\n",
       "    <tr style=\"text-align: right;\">\n",
       "      <th></th>\n",
       "      <th>predictor</th>\n",
       "      <th>coef</th>\n",
       "    </tr>\n",
       "  </thead>\n",
       "  <tbody>\n",
       "    <tr>\n",
       "      <th>0</th>\n",
       "      <td>intercept</td>\n",
       "      <td>50.944792</td>\n",
       "    </tr>\n",
       "    <tr>\n",
       "      <th>1</th>\n",
       "      <td>month</td>\n",
       "      <td>0.892169</td>\n",
       "    </tr>\n",
       "    <tr>\n",
       "      <th>2</th>\n",
       "      <td>year</td>\n",
       "      <td>-0.076282</td>\n",
       "    </tr>\n",
       "    <tr>\n",
       "      <th>3</th>\n",
       "      <td>season</td>\n",
       "      <td>6.388048</td>\n",
       "    </tr>\n",
       "    <tr>\n",
       "      <th>4</th>\n",
       "      <td>ind_date</td>\n",
       "      <td>-0.023216</td>\n",
       "    </tr>\n",
       "    <tr>\n",
       "      <th>5</th>\n",
       "      <td>m01</td>\n",
       "      <td>-6.701783</td>\n",
       "    </tr>\n",
       "    <tr>\n",
       "      <th>6</th>\n",
       "      <td>m02</td>\n",
       "      <td>-7.608784</td>\n",
       "    </tr>\n",
       "    <tr>\n",
       "      <th>7</th>\n",
       "      <td>m03</td>\n",
       "      <td>2.702263</td>\n",
       "    </tr>\n",
       "    <tr>\n",
       "      <th>8</th>\n",
       "      <td>m04</td>\n",
       "      <td>5.733310</td>\n",
       "    </tr>\n",
       "    <tr>\n",
       "      <th>9</th>\n",
       "      <td>m05</td>\n",
       "      <td>3.363315</td>\n",
       "    </tr>\n",
       "    <tr>\n",
       "      <th>10</th>\n",
       "      <td>m06</td>\n",
       "      <td>8.683251</td>\n",
       "    </tr>\n",
       "    <tr>\n",
       "      <th>11</th>\n",
       "      <td>m07</td>\n",
       "      <td>4.503187</td>\n",
       "    </tr>\n",
       "    <tr>\n",
       "      <th>12</th>\n",
       "      <td>m08</td>\n",
       "      <td>-3.587148</td>\n",
       "    </tr>\n",
       "    <tr>\n",
       "      <th>13</th>\n",
       "      <td>m09</td>\n",
       "      <td>-4.433879</td>\n",
       "    </tr>\n",
       "    <tr>\n",
       "      <th>14</th>\n",
       "      <td>m10</td>\n",
       "      <td>-1.158387</td>\n",
       "    </tr>\n",
       "    <tr>\n",
       "      <th>15</th>\n",
       "      <td>m11</td>\n",
       "      <td>10.536805</td>\n",
       "    </tr>\n",
       "    <tr>\n",
       "      <th>16</th>\n",
       "      <td>m12</td>\n",
       "      <td>-12.032148</td>\n",
       "    </tr>\n",
       "  </tbody>\n",
       "</table>\n",
       "</div>"
      ],
      "text/plain": [
       "    predictor       coef\n",
       "0   intercept  50.944792\n",
       "1       month   0.892169\n",
       "2        year  -0.076282\n",
       "3      season   6.388048\n",
       "4    ind_date  -0.023216\n",
       "5         m01  -6.701783\n",
       "6         m02  -7.608784\n",
       "7         m03   2.702263\n",
       "8         m04   5.733310\n",
       "9         m05   3.363315\n",
       "10        m06   8.683251\n",
       "11        m07   4.503187\n",
       "12        m08  -3.587148\n",
       "13        m09  -4.433879\n",
       "14        m10  -1.158387\n",
       "15        m11  10.536805\n",
       "16        m12 -12.032148"
      ]
     },
     "execution_count": 224,
     "metadata": {},
     "output_type": "execute_result"
    }
   ],
   "source": [
    "coef = pd.DataFrame(list(zip(['intercept'] + X_train.columns.tolist(), [model.intercept_] + model.coef_.tolist())),\n",
    "                    columns=['predictor', 'coef'])\n",
    "coef"
   ]
  },
  {
   "cell_type": "markdown",
   "id": "82596e67",
   "metadata": {},
   "source": [
    "* Let's define our regression coefficient model function."
   ]
  },
  {
   "cell_type": "code",
   "execution_count": 225,
   "id": "2f7902bd",
   "metadata": {},
   "outputs": [],
   "source": [
    "def regression_coef(model, X, y):\n",
    "    coef = pd.DataFrame(list(zip(['intercept'] + X.columns.tolist(), [model.intercept_] + model.coef_.tolist())),\n",
    "                    columns=['predictor', 'coef'])\n",
    "    X1 = np.append(np.ones((len(X),1)), X, axis=1)\n",
    "    b = np.append(model.intercept_, model.coef_)\n",
    "    MSE = np.sum((model.predict(X) - y) ** 2, axis=0) / float(X.shape[0] - X.shape[1])\n",
    "    var_b = MSE * (np.linalg.inv(np.dot(X1.T, X1)).diagonal())\n",
    "    sd_b = np.sqrt(np.abs(var_b))\n",
    "    t = b / sd_b\n",
    "    coef['pvalue'] = [2 * (1 - stats.t.cdf(np.abs(i), (len(X1) - 1))) for i in t]\n",
    "    return coef"
   ]
  },
  {
   "cell_type": "code",
   "execution_count": 226,
   "id": "d6cba4fe",
   "metadata": {},
   "outputs": [
    {
     "data": {
      "text/plain": [
       "Index(['month', 'year', 'season', 'ind_date', 'm01', 'm02', 'm03', 'm04',\n",
       "       'm05', 'm06', 'm07', 'm08', 'm09', 'm10', 'm11', 'm12'],\n",
       "      dtype='object')"
      ]
     },
     "execution_count": 226,
     "metadata": {},
     "output_type": "execute_result"
    }
   ],
   "source": [
    "X_train.columns"
   ]
  },
  {
   "cell_type": "code",
   "execution_count": 227,
   "id": "37f9a25b",
   "metadata": {},
   "outputs": [
    {
     "data": {
      "text/html": [
       "<div>\n",
       "<style scoped>\n",
       "    .dataframe tbody tr th:only-of-type {\n",
       "        vertical-align: middle;\n",
       "    }\n",
       "\n",
       "    .dataframe tbody tr th {\n",
       "        vertical-align: top;\n",
       "    }\n",
       "\n",
       "    .dataframe thead th {\n",
       "        text-align: right;\n",
       "    }\n",
       "</style>\n",
       "<table border=\"1\" class=\"dataframe\">\n",
       "  <thead>\n",
       "    <tr style=\"text-align: right;\">\n",
       "      <th></th>\n",
       "      <th>predictor</th>\n",
       "      <th>coef</th>\n",
       "      <th>pvalue</th>\n",
       "    </tr>\n",
       "  </thead>\n",
       "  <tbody>\n",
       "    <tr>\n",
       "      <th>0</th>\n",
       "      <td>intercept</td>\n",
       "      <td>50.944792</td>\n",
       "      <td>0.999999</td>\n",
       "    </tr>\n",
       "    <tr>\n",
       "      <th>1</th>\n",
       "      <td>month</td>\n",
       "      <td>0.892169</td>\n",
       "      <td>1.000000</td>\n",
       "    </tr>\n",
       "    <tr>\n",
       "      <th>2</th>\n",
       "      <td>year</td>\n",
       "      <td>-0.076282</td>\n",
       "      <td>1.000000</td>\n",
       "    </tr>\n",
       "    <tr>\n",
       "      <th>3</th>\n",
       "      <td>season</td>\n",
       "      <td>6.388048</td>\n",
       "      <td>1.000000</td>\n",
       "    </tr>\n",
       "    <tr>\n",
       "      <th>4</th>\n",
       "      <td>ind_date</td>\n",
       "      <td>-0.023216</td>\n",
       "      <td>1.000000</td>\n",
       "    </tr>\n",
       "    <tr>\n",
       "      <th>5</th>\n",
       "      <td>m01</td>\n",
       "      <td>-6.701783</td>\n",
       "      <td>1.000000</td>\n",
       "    </tr>\n",
       "    <tr>\n",
       "      <th>6</th>\n",
       "      <td>m02</td>\n",
       "      <td>-7.608784</td>\n",
       "      <td>1.000000</td>\n",
       "    </tr>\n",
       "    <tr>\n",
       "      <th>7</th>\n",
       "      <td>m03</td>\n",
       "      <td>2.702263</td>\n",
       "      <td>1.000000</td>\n",
       "    </tr>\n",
       "    <tr>\n",
       "      <th>8</th>\n",
       "      <td>m04</td>\n",
       "      <td>5.733310</td>\n",
       "      <td>1.000000</td>\n",
       "    </tr>\n",
       "    <tr>\n",
       "      <th>9</th>\n",
       "      <td>m05</td>\n",
       "      <td>3.363315</td>\n",
       "      <td>1.000000</td>\n",
       "    </tr>\n",
       "    <tr>\n",
       "      <th>10</th>\n",
       "      <td>m06</td>\n",
       "      <td>8.683251</td>\n",
       "      <td>1.000000</td>\n",
       "    </tr>\n",
       "    <tr>\n",
       "      <th>11</th>\n",
       "      <td>m07</td>\n",
       "      <td>4.503187</td>\n",
       "      <td>1.000000</td>\n",
       "    </tr>\n",
       "    <tr>\n",
       "      <th>12</th>\n",
       "      <td>m08</td>\n",
       "      <td>-3.587148</td>\n",
       "      <td>1.000000</td>\n",
       "    </tr>\n",
       "    <tr>\n",
       "      <th>13</th>\n",
       "      <td>m09</td>\n",
       "      <td>-4.433879</td>\n",
       "      <td>1.000000</td>\n",
       "    </tr>\n",
       "    <tr>\n",
       "      <th>14</th>\n",
       "      <td>m10</td>\n",
       "      <td>-1.158387</td>\n",
       "      <td>1.000000</td>\n",
       "    </tr>\n",
       "    <tr>\n",
       "      <th>15</th>\n",
       "      <td>m11</td>\n",
       "      <td>10.536805</td>\n",
       "      <td>1.000000</td>\n",
       "    </tr>\n",
       "    <tr>\n",
       "      <th>16</th>\n",
       "      <td>m12</td>\n",
       "      <td>-12.032148</td>\n",
       "      <td>1.000000</td>\n",
       "    </tr>\n",
       "  </tbody>\n",
       "</table>\n",
       "</div>"
      ],
      "text/plain": [
       "    predictor       coef    pvalue\n",
       "0   intercept  50.944792  0.999999\n",
       "1       month   0.892169  1.000000\n",
       "2        year  -0.076282  1.000000\n",
       "3      season   6.388048  1.000000\n",
       "4    ind_date  -0.023216  1.000000\n",
       "5         m01  -6.701783  1.000000\n",
       "6         m02  -7.608784  1.000000\n",
       "7         m03   2.702263  1.000000\n",
       "8         m04   5.733310  1.000000\n",
       "9         m05   3.363315  1.000000\n",
       "10        m06   8.683251  1.000000\n",
       "11        m07   4.503187  1.000000\n",
       "12        m08  -3.587148  1.000000\n",
       "13        m09  -4.433879  1.000000\n",
       "14        m10  -1.158387  1.000000\n",
       "15        m11  10.536805  1.000000\n",
       "16        m12 -12.032148  1.000000"
      ]
     },
     "execution_count": 227,
     "metadata": {},
     "output_type": "execute_result"
    }
   ],
   "source": [
    "regression_coef(model, X_train, y_train)"
   ]
  },
  {
   "cell_type": "code",
   "execution_count": 228,
   "id": "ae71a59c",
   "metadata": {},
   "outputs": [
    {
     "name": "stdout",
     "output_type": "stream",
     "text": [
      "R^2: 0.8361731186813546\n"
     ]
    }
   ],
   "source": [
    "print('R^2: {0}'.format(model.score(X_train, y_train)))"
   ]
  },
  {
   "cell_type": "markdown",
   "id": "02c65ac4",
   "metadata": {},
   "source": [
    "* We got a good metric for the training data, now let's evaluate the predictions visually"
   ]
  },
  {
   "cell_type": "code",
   "execution_count": 229,
   "id": "d9916e22",
   "metadata": {},
   "outputs": [
    {
     "data": {
      "text/plain": [
       "<AxesSubplot:>"
      ]
     },
     "execution_count": 229,
     "metadata": {},
     "output_type": "execute_result"
    },
    {
     "data": {
      "image/png": "[encoded data removed]",
      "text/plain": [
       "<Figure size 864x504 with 1 Axes>"
      ]
     },
     "metadata": {
      "needs_background": "light"
     },
     "output_type": "display_data"
    }
   ],
   "source": [
    "pred = pd.DataFrame({\n",
    "    'pred': model.predict(X_train),\n",
    "    'real': y_train})\n",
    "pred.plot(figsize=(12, 7))"
   ]
  },
  {
   "cell_type": "markdown",
   "id": "21126e3b",
   "metadata": {},
   "source": [
    "* The model did a pretty good job of predicting our training data."
   ]
  },
  {
   "cell_type": "code",
   "execution_count": 230,
   "id": "ffb56337",
   "metadata": {},
   "outputs": [],
   "source": [
    "pred_2 = pd.DataFrame(model.predict(X_test), columns=['forecast'])\n",
    "pred_2['real'] = np.nan\n",
    "pred_2['pred'] = np.nan"
   ]
  },
  {
   "cell_type": "code",
   "execution_count": 232,
   "id": "74f77467",
   "metadata": {},
   "outputs": [
    {
     "data": {
      "text/plain": [
       "<AxesSubplot:>"
      ]
     },
     "execution_count": 232,
     "metadata": {},
     "output_type": "execute_result"
    },
    {
     "data": {
      "image/png": "[encoded data removed]",
      "text/plain": [
       "<Figure size 864x504 with 1 Axes>"
      ]
     },
     "metadata": {
      "needs_background": "light"
     },
     "output_type": "display_data"
    }
   ],
   "source": [
    "pred_3 = pd.concat(\n",
    "    [pred, pred_2],\n",
    "    sort=False\n",
    ").reset_index(drop=True)\n",
    "\n",
    "pred_3.plot(figsize=(12, 7))"
   ]
  },
  {
   "cell_type": "markdown",
   "id": "2a0c91ae",
   "metadata": {},
   "source": [
    "### Conclusion\n",
    "* We see that the model has learned to catch the trend and the model’s prediction for the future is very similar to the truth"
   ]
  }
 ],
 "metadata": {
  "kernelspec": {
   "display_name": "Python 3 (ipykernel)",
   "language": "python",
   "name": "python3"
  },
  "language_info": {
   "codemirror_mode": {
    "name": "ipython",
    "version": 3
   },
   "file_extension": ".py",
   "mimetype": "text/x-python",
   "name": "python",
   "nbconvert_exporter": "python",
   "pygments_lexer": "ipython3",
   "version": "3.9.12"
  }
 },
 "nbformat": 4,
 "nbformat_minor": 5
}
