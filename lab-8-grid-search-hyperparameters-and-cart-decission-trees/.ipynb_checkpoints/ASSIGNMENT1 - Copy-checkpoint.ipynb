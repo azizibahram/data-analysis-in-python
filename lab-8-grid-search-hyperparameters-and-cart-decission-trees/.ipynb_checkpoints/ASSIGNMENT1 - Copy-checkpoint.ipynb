{
 "cells": [
  {
   "cell_type": "code",
   "execution_count": 2,
   "id": "719b71c2",
   "metadata": {},
   "outputs": [],
   "source": [
    "#   активируем библиотеки\n",
    "\n",
    "import numpy as np\n",
    "import pandas as pd\n",
    "import matplotlib\n",
    "import matplotlib.pyplot as plt\n",
    "matplotlib.style.use('ggplot')\n",
    "%matplotlib inline\n",
    "#  Еще одна графическая библиотека\n",
    "import seaborn as sns\n",
    "\n",
    "#  Эта строчка нужна для того, чтобы картинки отображались в ячейках\n",
    "%matplotlib inline\n",
    "\n",
    "import warnings\n",
    "warnings.filterwarnings('ignore')\n"
   ]
  },
  {
   "cell_type": "code",
   "execution_count": 3,
   "id": "221444e2",
   "metadata": {},
   "outputs": [],
   "source": [
    "import seaborn as sns"
   ]
  },
  {
   "cell_type": "code",
   "execution_count": 4,
   "id": "4f8ae73c",
   "metadata": {
    "scrolled": true
   },
   "outputs": [
    {
     "data": {
      "text/html": [
       "<div>\n",
       "<style scoped>\n",
       "    .dataframe tbody tr th:only-of-type {\n",
       "        vertical-align: middle;\n",
       "    }\n",
       "\n",
       "    .dataframe tbody tr th {\n",
       "        vertical-align: top;\n",
       "    }\n",
       "\n",
       "    .dataframe thead th {\n",
       "        text-align: right;\n",
       "    }\n",
       "</style>\n",
       "<table border=\"1\" class=\"dataframe\">\n",
       "  <thead>\n",
       "    <tr style=\"text-align: right;\">\n",
       "      <th></th>\n",
       "      <th>V1</th>\n",
       "      <th>V2</th>\n",
       "      <th>V3</th>\n",
       "      <th>V4</th>\n",
       "      <th>V5</th>\n",
       "      <th>V6</th>\n",
       "      <th>V7</th>\n",
       "      <th>V8</th>\n",
       "      <th>V9</th>\n",
       "      <th>V10</th>\n",
       "      <th>V11</th>\n",
       "    </tr>\n",
       "  </thead>\n",
       "  <tbody>\n",
       "    <tr>\n",
       "      <th>0</th>\n",
       "      <td>4</td>\n",
       "      <td>5</td>\n",
       "      <td>5</td>\n",
       "      <td>5</td>\n",
       "      <td>3</td>\n",
       "      <td>3</td>\n",
       "      <td>3</td>\n",
       "      <td>3</td>\n",
       "      <td>3</td>\n",
       "      <td>3</td>\n",
       "      <td>3</td>\n",
       "    </tr>\n",
       "    <tr>\n",
       "      <th>1</th>\n",
       "      <td>5</td>\n",
       "      <td>4</td>\n",
       "      <td>5</td>\n",
       "      <td>5</td>\n",
       "      <td>3</td>\n",
       "      <td>3</td>\n",
       "      <td>3</td>\n",
       "      <td>3</td>\n",
       "      <td>3</td>\n",
       "      <td>3</td>\n",
       "      <td>3</td>\n",
       "    </tr>\n",
       "    <tr>\n",
       "      <th>2</th>\n",
       "      <td>5</td>\n",
       "      <td>5</td>\n",
       "      <td>4</td>\n",
       "      <td>5</td>\n",
       "      <td>3</td>\n",
       "      <td>3</td>\n",
       "      <td>3</td>\n",
       "      <td>3</td>\n",
       "      <td>3</td>\n",
       "      <td>3</td>\n",
       "      <td>3</td>\n",
       "    </tr>\n",
       "    <tr>\n",
       "      <th>3</th>\n",
       "      <td>5</td>\n",
       "      <td>4</td>\n",
       "      <td>5</td>\n",
       "      <td>5</td>\n",
       "      <td>3</td>\n",
       "      <td>3</td>\n",
       "      <td>3</td>\n",
       "      <td>3</td>\n",
       "      <td>3</td>\n",
       "      <td>3</td>\n",
       "      <td>3</td>\n",
       "    </tr>\n",
       "    <tr>\n",
       "      <th>4</th>\n",
       "      <td>4</td>\n",
       "      <td>5</td>\n",
       "      <td>5</td>\n",
       "      <td>5</td>\n",
       "      <td>3</td>\n",
       "      <td>3</td>\n",
       "      <td>3</td>\n",
       "      <td>3</td>\n",
       "      <td>3</td>\n",
       "      <td>3</td>\n",
       "      <td>3</td>\n",
       "    </tr>\n",
       "    <tr>\n",
       "      <th>5</th>\n",
       "      <td>5</td>\n",
       "      <td>4</td>\n",
       "      <td>5</td>\n",
       "      <td>5</td>\n",
       "      <td>3</td>\n",
       "      <td>3</td>\n",
       "      <td>3</td>\n",
       "      <td>3</td>\n",
       "      <td>3</td>\n",
       "      <td>3</td>\n",
       "      <td>3</td>\n",
       "    </tr>\n",
       "    <tr>\n",
       "      <th>6</th>\n",
       "      <td>5</td>\n",
       "      <td>5</td>\n",
       "      <td>4</td>\n",
       "      <td>5</td>\n",
       "      <td>3</td>\n",
       "      <td>3</td>\n",
       "      <td>3</td>\n",
       "      <td>3</td>\n",
       "      <td>3</td>\n",
       "      <td>3</td>\n",
       "      <td>3</td>\n",
       "    </tr>\n",
       "    <tr>\n",
       "      <th>7</th>\n",
       "      <td>5</td>\n",
       "      <td>4</td>\n",
       "      <td>5</td>\n",
       "      <td>5</td>\n",
       "      <td>3</td>\n",
       "      <td>3</td>\n",
       "      <td>3</td>\n",
       "      <td>3</td>\n",
       "      <td>3</td>\n",
       "      <td>3</td>\n",
       "      <td>3</td>\n",
       "    </tr>\n",
       "  </tbody>\n",
       "</table>\n",
       "</div>"
      ],
      "text/plain": [
       "   V1  V2  V3  V4  V5  V6  V7  V8  V9  V10  V11\n",
       "0   4   5   5   5   3   3   3   3   3    3    3\n",
       "1   5   4   5   5   3   3   3   3   3    3    3\n",
       "2   5   5   4   5   3   3   3   3   3    3    3\n",
       "3   5   4   5   5   3   3   3   3   3    3    3\n",
       "4   4   5   5   5   3   3   3   3   3    3    3\n",
       "5   5   4   5   5   3   3   3   3   3    3    3\n",
       "6   5   5   4   5   3   3   3   3   3    3    3\n",
       "7   5   4   5   5   3   3   3   3   3    3    3"
      ]
     },
     "execution_count": 4,
     "metadata": {},
     "output_type": "execute_result"
    }
   ],
   "source": [
    "df = pd.read_csv('Леденцы.dat', sep=\";\", header = 0, index_col=False)\n",
    "df.head(8)"
   ]
  },
  {
   "cell_type": "code",
   "execution_count": 5,
   "id": "1819be22",
   "metadata": {},
   "outputs": [
    {
     "data": {
      "text/plain": [
       "Index(['V1', 'V2', 'V3', 'V4', 'V5', 'V6', 'V7', 'V8', 'V9', 'V10', 'V11'], dtype='object')"
      ]
     },
     "execution_count": 5,
     "metadata": {},
     "output_type": "execute_result"
    }
   ],
   "source": [
    "df.columns"
   ]
  },
  {
   "cell_type": "code",
   "execution_count": 6,
   "id": "a9c33c1e",
   "metadata": {},
   "outputs": [
    {
     "name": "stdout",
     "output_type": "stream",
     "text": [
      "(338, 11)\n"
     ]
    }
   ],
   "source": [
    "print(df.shape)"
   ]
  },
  {
   "cell_type": "code",
   "execution_count": 7,
   "id": "83d8ae0b",
   "metadata": {},
   "outputs": [
    {
     "data": {
      "text/plain": [
       "V1     int64\n",
       "V2     int64\n",
       "V3     int64\n",
       "V4     int64\n",
       "V5     int64\n",
       "V6     int64\n",
       "V7     int64\n",
       "V8     int64\n",
       "V9     int64\n",
       "V10    int64\n",
       "V11    int64\n",
       "dtype: object"
      ]
     },
     "execution_count": 7,
     "metadata": {},
     "output_type": "execute_result"
    }
   ],
   "source": [
    "df.dtypes"
   ]
  },
  {
   "cell_type": "code",
   "execution_count": 8,
   "id": "d2e79933",
   "metadata": {},
   "outputs": [
    {
     "data": {
      "text/html": [
       "<div>\n",
       "<style scoped>\n",
       "    .dataframe tbody tr th:only-of-type {\n",
       "        vertical-align: middle;\n",
       "    }\n",
       "\n",
       "    .dataframe tbody tr th {\n",
       "        vertical-align: top;\n",
       "    }\n",
       "\n",
       "    .dataframe thead th {\n",
       "        text-align: right;\n",
       "    }\n",
       "</style>\n",
       "<table border=\"1\" class=\"dataframe\">\n",
       "  <thead>\n",
       "    <tr style=\"text-align: right;\">\n",
       "      <th></th>\n",
       "      <th>V1</th>\n",
       "      <th>V2</th>\n",
       "      <th>V3</th>\n",
       "      <th>V4</th>\n",
       "      <th>V5</th>\n",
       "      <th>V6</th>\n",
       "      <th>V7</th>\n",
       "      <th>V8</th>\n",
       "      <th>V9</th>\n",
       "      <th>V10</th>\n",
       "      <th>V11</th>\n",
       "    </tr>\n",
       "  </thead>\n",
       "  <tbody>\n",
       "    <tr>\n",
       "      <th>count</th>\n",
       "      <td>338.000000</td>\n",
       "      <td>338.000000</td>\n",
       "      <td>338.000000</td>\n",
       "      <td>338.000000</td>\n",
       "      <td>338.000000</td>\n",
       "      <td>338.000000</td>\n",
       "      <td>338.000000</td>\n",
       "      <td>338.000000</td>\n",
       "      <td>338.000000</td>\n",
       "      <td>338.000000</td>\n",
       "      <td>338.000000</td>\n",
       "    </tr>\n",
       "    <tr>\n",
       "      <th>mean</th>\n",
       "      <td>3.544379</td>\n",
       "      <td>3.526627</td>\n",
       "      <td>3.517751</td>\n",
       "      <td>3.411243</td>\n",
       "      <td>3.207101</td>\n",
       "      <td>3.204142</td>\n",
       "      <td>3.254438</td>\n",
       "      <td>3.289941</td>\n",
       "      <td>3.603550</td>\n",
       "      <td>3.550296</td>\n",
       "      <td>3.565089</td>\n",
       "    </tr>\n",
       "    <tr>\n",
       "      <th>std</th>\n",
       "      <td>0.955748</td>\n",
       "      <td>0.956410</td>\n",
       "      <td>0.990150</td>\n",
       "      <td>0.992311</td>\n",
       "      <td>0.867314</td>\n",
       "      <td>0.869725</td>\n",
       "      <td>0.844107</td>\n",
       "      <td>0.821784</td>\n",
       "      <td>0.969682</td>\n",
       "      <td>0.927082</td>\n",
       "      <td>0.942042</td>\n",
       "    </tr>\n",
       "    <tr>\n",
       "      <th>min</th>\n",
       "      <td>2.000000</td>\n",
       "      <td>2.000000</td>\n",
       "      <td>2.000000</td>\n",
       "      <td>2.000000</td>\n",
       "      <td>2.000000</td>\n",
       "      <td>2.000000</td>\n",
       "      <td>2.000000</td>\n",
       "      <td>2.000000</td>\n",
       "      <td>2.000000</td>\n",
       "      <td>2.000000</td>\n",
       "      <td>2.000000</td>\n",
       "    </tr>\n",
       "    <tr>\n",
       "      <th>25%</th>\n",
       "      <td>3.000000</td>\n",
       "      <td>3.000000</td>\n",
       "      <td>3.000000</td>\n",
       "      <td>3.000000</td>\n",
       "      <td>3.000000</td>\n",
       "      <td>3.000000</td>\n",
       "      <td>3.000000</td>\n",
       "      <td>3.000000</td>\n",
       "      <td>3.000000</td>\n",
       "      <td>3.000000</td>\n",
       "      <td>3.000000</td>\n",
       "    </tr>\n",
       "    <tr>\n",
       "      <th>50%</th>\n",
       "      <td>3.000000</td>\n",
       "      <td>3.000000</td>\n",
       "      <td>3.000000</td>\n",
       "      <td>3.000000</td>\n",
       "      <td>3.000000</td>\n",
       "      <td>3.000000</td>\n",
       "      <td>3.000000</td>\n",
       "      <td>3.000000</td>\n",
       "      <td>3.000000</td>\n",
       "      <td>3.000000</td>\n",
       "      <td>3.000000</td>\n",
       "    </tr>\n",
       "    <tr>\n",
       "      <th>75%</th>\n",
       "      <td>5.000000</td>\n",
       "      <td>5.000000</td>\n",
       "      <td>5.000000</td>\n",
       "      <td>4.000000</td>\n",
       "      <td>3.000000</td>\n",
       "      <td>3.000000</td>\n",
       "      <td>3.000000</td>\n",
       "      <td>3.000000</td>\n",
       "      <td>5.000000</td>\n",
       "      <td>5.000000</td>\n",
       "      <td>5.000000</td>\n",
       "    </tr>\n",
       "    <tr>\n",
       "      <th>max</th>\n",
       "      <td>5.000000</td>\n",
       "      <td>5.000000</td>\n",
       "      <td>5.000000</td>\n",
       "      <td>5.000000</td>\n",
       "      <td>5.000000</td>\n",
       "      <td>5.000000</td>\n",
       "      <td>5.000000</td>\n",
       "      <td>5.000000</td>\n",
       "      <td>5.000000</td>\n",
       "      <td>5.000000</td>\n",
       "      <td>5.000000</td>\n",
       "    </tr>\n",
       "  </tbody>\n",
       "</table>\n",
       "</div>"
      ],
      "text/plain": [
       "               V1          V2          V3          V4          V5          V6  \\\n",
       "count  338.000000  338.000000  338.000000  338.000000  338.000000  338.000000   \n",
       "mean     3.544379    3.526627    3.517751    3.411243    3.207101    3.204142   \n",
       "std      0.955748    0.956410    0.990150    0.992311    0.867314    0.869725   \n",
       "min      2.000000    2.000000    2.000000    2.000000    2.000000    2.000000   \n",
       "25%      3.000000    3.000000    3.000000    3.000000    3.000000    3.000000   \n",
       "50%      3.000000    3.000000    3.000000    3.000000    3.000000    3.000000   \n",
       "75%      5.000000    5.000000    5.000000    4.000000    3.000000    3.000000   \n",
       "max      5.000000    5.000000    5.000000    5.000000    5.000000    5.000000   \n",
       "\n",
       "               V7          V8          V9         V10         V11  \n",
       "count  338.000000  338.000000  338.000000  338.000000  338.000000  \n",
       "mean     3.254438    3.289941    3.603550    3.550296    3.565089  \n",
       "std      0.844107    0.821784    0.969682    0.927082    0.942042  \n",
       "min      2.000000    2.000000    2.000000    2.000000    2.000000  \n",
       "25%      3.000000    3.000000    3.000000    3.000000    3.000000  \n",
       "50%      3.000000    3.000000    3.000000    3.000000    3.000000  \n",
       "75%      3.000000    3.000000    5.000000    5.000000    5.000000  \n",
       "max      5.000000    5.000000    5.000000    5.000000    5.000000  "
      ]
     },
     "execution_count": 8,
     "metadata": {},
     "output_type": "execute_result"
    }
   ],
   "source": [
    "df.describe(include='all')"
   ]
  },
  {
   "cell_type": "code",
   "execution_count": 9,
   "id": "7e2d68a8",
   "metadata": {},
   "outputs": [
    {
     "data": {
      "text/plain": [
       "<AxesSubplot:ylabel='Density'>"
      ]
     },
     "execution_count": 9,
     "metadata": {},
     "output_type": "execute_result"
    },
    {
     "data": {
      "image/png": "[encoded data removed]",
      "text/plain": [
       "<Figure size 432x288 with 1 Axes>"
      ]
     },
     "metadata": {
      "needs_background": "light"
     },
     "output_type": "display_data"
    }
   ],
   "source": [
    "sns.distplot(df)"
   ]
  },
  {
   "cell_type": "code",
   "execution_count": 10,
   "id": "6c78cfe6",
   "metadata": {},
   "outputs": [
    {
     "data": {
      "text/plain": [
       "(array([[ 19.,   0.,   0., 209.,   0.,   0.,  17.,   0.,   0.,  93.],\n",
       "        [ 24.,   0.,   0., 200.,   0.,   0.,  26.,   0.,   0.,  88.],\n",
       "        [ 31.,   0.,   0., 193.,   0.,   0.,  22.,   0.,   0.,  92.],\n",
       "        [ 50.,   0.,   0., 174.,   0.,   0.,  39.,   0.,   0.,  75.],\n",
       "        [ 47.,   0.,   0., 226.,   0.,   0.,  13.,   0.,   0.,  52.],\n",
       "        [ 48.,   0.,   0., 225.,   0.,   0.,  13.,   0.,   0.,  52.],\n",
       "        [ 34.,   0.,   0., 238.,   0.,   0.,  12.,   0.,   0.,  54.],\n",
       "        [ 25.,   0.,   0., 244.,   0.,   0.,  15.,   0.,   0.,  54.],\n",
       "        [ 15.,   0.,   0., 207.,   0.,   0.,  13.,   0.,   0., 103.],\n",
       "        [ 15.,   0.,   0., 210.,   0.,   0.,  25.,   0.,   0.,  88.],\n",
       "        [ 15.,   0.,   0., 210.,   0.,   0.,  20.,   0.,   0.,  93.]]),\n",
       " array([2. , 2.3, 2.6, 2.9, 3.2, 3.5, 3.8, 4.1, 4.4, 4.7, 5. ]),\n",
       " <a list of 11 BarContainer objects>)"
      ]
     },
     "execution_count": 10,
     "metadata": {},
     "output_type": "execute_result"
    },
    {
     "data": {
      "image/png": "[encoded data removed]",
      "text/plain": [
       "<Figure size 432x288 with 1 Axes>"
      ]
     },
     "metadata": {
      "needs_background": "light"
     },
     "output_type": "display_data"
    }
   ],
   "source": [
    "plt.hist(df)"
   ]
  },
  {
   "cell_type": "code",
   "execution_count": 11,
   "id": "c6641321",
   "metadata": {},
   "outputs": [],
   "source": [
    "from scipy.cluster.hierarchy import dendrogram, linkage, fcluster\n"
   ]
  },
  {
   "cell_type": "code",
   "execution_count": 12,
   "id": "b32136c3",
   "metadata": {},
   "outputs": [
    {
     "ename": "NameError",
     "evalue": "name 'link' is not defined",
     "output_type": "error",
     "traceback": [
      "\u001b[1;31m---------------------------------------------------------------------------\u001b[0m",
      "\u001b[1;31mNameError\u001b[0m                                 Traceback (most recent call last)",
      "Input \u001b[1;32mIn [12]\u001b[0m, in \u001b[0;36m<cell line: 1>\u001b[1;34m()\u001b[0m\n\u001b[1;32m----> 1\u001b[0m \u001b[43mlink\u001b[49m[:\u001b[38;5;241m5\u001b[39m]\n",
      "\u001b[1;31mNameError\u001b[0m: name 'link' is not defined"
     ]
    }
   ],
   "source": [
    "link[:5]"
   ]
  },
  {
   "cell_type": "code",
   "execution_count": 13,
   "id": "cb43097b",
   "metadata": {},
   "outputs": [
    {
     "data": {
      "image/png": "[encoded data removed]",
      "text/plain": [
       "<Figure size 432x288 with 1 Axes>"
      ]
     },
     "metadata": {
      "needs_background": "light"
     },
     "output_type": "display_data"
    }
   ],
   "source": [
    "\n",
    "link = linkage(df, 'ward', 'euclidean')\n",
    "dn = dendrogram(link)"
   ]
  },
  {
   "cell_type": "code",
   "execution_count": 14,
   "id": "9c5f7ae0",
   "metadata": {},
   "outputs": [
    {
     "data": {
      "image/png": "[encoded data removed]",
      "text/plain": [
       "<Figure size 432x288 with 1 Axes>"
      ]
     },
     "metadata": {
      "needs_background": "light"
     },
     "output_type": "display_data"
    }
   ],
   "source": [
    "dn = dendrogram(link, color_threshold = -1)"
   ]
  },
  {
   "cell_type": "code",
   "execution_count": 15,
   "id": "ddd3bfbe",
   "metadata": {},
   "outputs": [],
   "source": [
    "df['cluster'] = fcluster(link, 3, criterion='maxclust')"
   ]
  },
  {
   "cell_type": "code",
   "execution_count": 16,
   "id": "92000f4d",
   "metadata": {},
   "outputs": [
    {
     "data": {
      "text/html": [
       "<div>\n",
       "<style scoped>\n",
       "    .dataframe tbody tr th:only-of-type {\n",
       "        vertical-align: middle;\n",
       "    }\n",
       "\n",
       "    .dataframe tbody tr th {\n",
       "        vertical-align: top;\n",
       "    }\n",
       "\n",
       "    .dataframe thead th {\n",
       "        text-align: right;\n",
       "    }\n",
       "</style>\n",
       "<table border=\"1\" class=\"dataframe\">\n",
       "  <thead>\n",
       "    <tr style=\"text-align: right;\">\n",
       "      <th></th>\n",
       "      <th>V1</th>\n",
       "      <th>V2</th>\n",
       "      <th>V3</th>\n",
       "      <th>V4</th>\n",
       "      <th>V5</th>\n",
       "      <th>V6</th>\n",
       "      <th>V7</th>\n",
       "      <th>V8</th>\n",
       "      <th>V9</th>\n",
       "      <th>V10</th>\n",
       "      <th>V11</th>\n",
       "    </tr>\n",
       "    <tr>\n",
       "      <th>cluster</th>\n",
       "      <th></th>\n",
       "      <th></th>\n",
       "      <th></th>\n",
       "      <th></th>\n",
       "      <th></th>\n",
       "      <th></th>\n",
       "      <th></th>\n",
       "      <th></th>\n",
       "      <th></th>\n",
       "      <th></th>\n",
       "      <th></th>\n",
       "    </tr>\n",
       "  </thead>\n",
       "  <tbody>\n",
       "    <tr>\n",
       "      <th>1</th>\n",
       "      <td>2.824074</td>\n",
       "      <td>2.833333</td>\n",
       "      <td>2.768519</td>\n",
       "      <td>2.620370</td>\n",
       "      <td>2.611111</td>\n",
       "      <td>2.583333</td>\n",
       "      <td>2.750000</td>\n",
       "      <td>2.916667</td>\n",
       "      <td>4.953704</td>\n",
       "      <td>4.814815</td>\n",
       "      <td>4.861111</td>\n",
       "    </tr>\n",
       "    <tr>\n",
       "      <th>2</th>\n",
       "      <td>4.845455</td>\n",
       "      <td>4.800000</td>\n",
       "      <td>4.836364</td>\n",
       "      <td>4.681818</td>\n",
       "      <td>3.036364</td>\n",
       "      <td>3.036364</td>\n",
       "      <td>3.000000</td>\n",
       "      <td>2.990909</td>\n",
       "      <td>3.072727</td>\n",
       "      <td>3.045455</td>\n",
       "      <td>3.045455</td>\n",
       "    </tr>\n",
       "    <tr>\n",
       "      <th>3</th>\n",
       "      <td>3.000000</td>\n",
       "      <td>2.983333</td>\n",
       "      <td>2.983333</td>\n",
       "      <td>2.958333</td>\n",
       "      <td>3.900000</td>\n",
       "      <td>3.916667</td>\n",
       "      <td>3.941667</td>\n",
       "      <td>3.900000</td>\n",
       "      <td>2.875000</td>\n",
       "      <td>2.875000</td>\n",
       "      <td>2.875000</td>\n",
       "    </tr>\n",
       "  </tbody>\n",
       "</table>\n",
       "</div>"
      ],
      "text/plain": [
       "               V1        V2        V3        V4        V5        V6        V7  \\\n",
       "cluster                                                                         \n",
       "1        2.824074  2.833333  2.768519  2.620370  2.611111  2.583333  2.750000   \n",
       "2        4.845455  4.800000  4.836364  4.681818  3.036364  3.036364  3.000000   \n",
       "3        3.000000  2.983333  2.983333  2.958333  3.900000  3.916667  3.941667   \n",
       "\n",
       "               V8        V9       V10       V11  \n",
       "cluster                                          \n",
       "1        2.916667  4.953704  4.814815  4.861111  \n",
       "2        2.990909  3.072727  3.045455  3.045455  \n",
       "3        3.900000  2.875000  2.875000  2.875000  "
      ]
     },
     "execution_count": 16,
     "metadata": {},
     "output_type": "execute_result"
    }
   ],
   "source": [
    "df.groupby('cluster').mean()"
   ]
  },
  {
   "cell_type": "code",
   "execution_count": 17,
   "id": "ddc2c222",
   "metadata": {},
   "outputs": [
    {
     "data": {
      "text/plain": [
       "cluster\n",
       "1    108\n",
       "2    110\n",
       "3    120\n",
       "dtype: int64"
      ]
     },
     "execution_count": 17,
     "metadata": {},
     "output_type": "execute_result"
    }
   ],
   "source": [
    "df.groupby('cluster').size()"
   ]
  },
  {
   "cell_type": "code",
   "execution_count": 18,
   "id": "5672590a",
   "metadata": {},
   "outputs": [
    {
     "ename": "NameError",
     "evalue": "name 'KMeans' is not defined",
     "output_type": "error",
     "traceback": [
      "\u001b[1;31m---------------------------------------------------------------------------\u001b[0m",
      "\u001b[1;31mNameError\u001b[0m                                 Traceback (most recent call last)",
      "Input \u001b[1;32mIn [18]\u001b[0m, in \u001b[0;36m<cell line: 3>\u001b[1;34m()\u001b[0m\n\u001b[0;32m      2\u001b[0m sse \u001b[38;5;241m=\u001b[39m []\n\u001b[0;32m      3\u001b[0m \u001b[38;5;28;01mfor\u001b[39;00m k \u001b[38;5;129;01min\u001b[39;00m k_rng:\n\u001b[1;32m----> 4\u001b[0m     km \u001b[38;5;241m=\u001b[39m \u001b[43mKMeans\u001b[49m(n_clusters\u001b[38;5;241m=\u001b[39mk, init\u001b[38;5;241m=\u001b[39m\u001b[38;5;124m'\u001b[39m\u001b[38;5;124mk-means++\u001b[39m\u001b[38;5;124m'\u001b[39m, random_state\u001b[38;5;241m=\u001b[39m\u001b[38;5;241m0\u001b[39m)\n\u001b[0;32m      5\u001b[0m     km\u001b[38;5;241m.\u001b[39mfit(lollipops[[\u001b[38;5;124m'\u001b[39m\u001b[38;5;124mV1\u001b[39m\u001b[38;5;124m'\u001b[39m, \u001b[38;5;124m'\u001b[39m\u001b[38;5;124mV2\u001b[39m\u001b[38;5;124m'\u001b[39m, \u001b[38;5;124m'\u001b[39m\u001b[38;5;124mV3\u001b[39m\u001b[38;5;124m'\u001b[39m, \u001b[38;5;124m'\u001b[39m\u001b[38;5;124mV4\u001b[39m\u001b[38;5;124m'\u001b[39m, \u001b[38;5;124m'\u001b[39m\u001b[38;5;124mV5\u001b[39m\u001b[38;5;124m'\u001b[39m, \u001b[38;5;124m'\u001b[39m\u001b[38;5;124mV6\u001b[39m\u001b[38;5;124m'\u001b[39m, \u001b[38;5;124m'\u001b[39m\u001b[38;5;124mV7\u001b[39m\u001b[38;5;124m'\u001b[39m, \u001b[38;5;124m'\u001b[39m\u001b[38;5;124mV8\u001b[39m\u001b[38;5;124m'\u001b[39m, \u001b[38;5;124m'\u001b[39m\u001b[38;5;124mV9\u001b[39m\u001b[38;5;124m'\u001b[39m, \u001b[38;5;124m'\u001b[39m\u001b[38;5;124mV10\u001b[39m\u001b[38;5;124m'\u001b[39m, \u001b[38;5;124m'\u001b[39m\u001b[38;5;124mV11\u001b[39m\u001b[38;5;124m'\u001b[39m]])\n\u001b[0;32m      6\u001b[0m     sse\u001b[38;5;241m.\u001b[39mappend(km\u001b[38;5;241m.\u001b[39minertia_)\n",
      "\u001b[1;31mNameError\u001b[0m: name 'KMeans' is not defined"
     ]
    }
   ],
   "source": [
    "k_rng = range(1,11)\n",
    "sse = []\n",
    "for k in k_rng:\n",
    "    km = KMeans(n_clusters=k, init='k-means++', random_state=0)\n",
    "    km.fit(lollipops[['V1', 'V2', 'V3', 'V4', 'V5', 'V6', 'V7', 'V8', 'V9', 'V10', 'V11']])\n",
    "    sse.append(km.inertia_)"
   ]
  },
  {
   "cell_type": "code",
   "execution_count": 188,
   "id": "b477ffd7",
   "metadata": {},
   "outputs": [
    {
     "data": {
      "text/plain": [
       "[3160.03550295858,\n",
       " 1823.3037037037038,\n",
       " 879.7165824915826,\n",
       " 423.1440507698079,\n",
       " 326.24554187129905,\n",
       " 286.58518833594553,\n",
       " 250.52793007982768,\n",
       " 228.53745388935147,\n",
       " 200.3790437005065,\n",
       " 174.04060550233356]"
      ]
     },
     "execution_count": 188,
     "metadata": {},
     "output_type": "execute_result"
    }
   ],
   "source": [
    "sse"
   ]
  },
  {
   "cell_type": "code",
   "execution_count": 167,
   "id": "f2df83f5",
   "metadata": {},
   "outputs": [
    {
     "data": {
      "text/plain": [
       "[<matplotlib.lines.Line2D at 0x1f9b6f99790>]"
      ]
     },
     "execution_count": 167,
     "metadata": {},
     "output_type": "execute_result"
    },
    {
     "data": {
      "image/png": "[encoded data removed]",
      "text/plain": [
       "<Figure size 432x288 with 1 Axes>"
      ]
     },
     "metadata": {
      "needs_background": "light"
     },
     "output_type": "display_data"
    }
   ],
   "source": [
    "plt.xlabel('k')\n",
    "plt.ylabel('sum')\n",
    "plt.plot(k_rng, sse)"
   ]
  },
  {
   "cell_type": "code",
   "execution_count": 168,
   "id": "caf2b411",
   "metadata": {},
   "outputs": [
    {
     "name": "stdout",
     "output_type": "stream",
     "text": [
      "<class 'pandas.core.frame.DataFrame'>\n",
      "RangeIndex: 338 entries, 0 to 337\n",
      "Data columns (total 12 columns):\n",
      " #   Column   Non-Null Count  Dtype\n",
      "---  ------   --------------  -----\n",
      " 0   V1       338 non-null    int64\n",
      " 1   V2       338 non-null    int64\n",
      " 2   V3       338 non-null    int64\n",
      " 3   V4       338 non-null    int64\n",
      " 4   V5       338 non-null    int64\n",
      " 5   V6       338 non-null    int64\n",
      " 6   V7       338 non-null    int64\n",
      " 7   V8       338 non-null    int64\n",
      " 8   V9       338 non-null    int64\n",
      " 9   V10      338 non-null    int64\n",
      " 10  V11      338 non-null    int64\n",
      " 11  cluster  338 non-null    int32\n",
      "dtypes: int32(1), int64(11)\n",
      "memory usage: 30.5 KB\n"
     ]
    }
   ],
   "source": [
    "df.info()"
   ]
  },
  {
   "cell_type": "code",
   "execution_count": 169,
   "id": "0b4fe6aa",
   "metadata": {},
   "outputs": [],
   "source": [
    "X = df.iloc[:, [0,1,2,3,4,5,6,7,8,9,10]].values"
   ]
  },
  {
   "cell_type": "code",
   "execution_count": 170,
   "id": "132badab",
   "metadata": {},
   "outputs": [
    {
     "data": {
      "text/plain": [
       "array([[4, 5, 5, ..., 3, 3, 3],\n",
       "       [5, 4, 5, ..., 3, 3, 3],\n",
       "       [5, 5, 4, ..., 3, 3, 3],\n",
       "       ...,\n",
       "       [3, 3, 3, ..., 3, 3, 3],\n",
       "       [3, 3, 3, ..., 3, 3, 3],\n",
       "       [3, 3, 3, ..., 3, 3, 3]], dtype=int64)"
      ]
     },
     "execution_count": 170,
     "metadata": {},
     "output_type": "execute_result"
    }
   ],
   "source": [
    "X"
   ]
  },
  {
   "cell_type": "code",
   "execution_count": 200,
   "id": "840cc4e6",
   "metadata": {},
   "outputs": [],
   "source": [
    "kmeansmodel = KMeans(n_clusters = 3, init='k-means++', random_state=0)"
   ]
  },
  {
   "cell_type": "code",
   "execution_count": 201,
   "id": "0628e47b",
   "metadata": {},
   "outputs": [],
   "source": [
    "y_kmeans = kmeansmodel.fit_predict(X)"
   ]
  },
  {
   "cell_type": "code",
   "execution_count": 204,
   "id": "70ce864f",
   "metadata": {},
   "outputs": [
    {
     "data": {
      "image/png": "[encoded data removed]",
      "text/plain": [
       "<Figure size 432x288 with 1 Axes>"
      ]
     },
     "metadata": {
      "needs_background": "light"
     },
     "output_type": "display_data"
    }
   ],
   "source": [
    "plt.scatter(X[y_kmeans == 0,0], X[y_kmeans == 0,1], s= 80, c = 'red')\n",
    "plt.scatter(X[y_kmeans == 1,0], X[y_kmeans == 1,1], s= 80, c = 'blue')\n",
    "plt.scatter(X[y_kmeans == 2,0], X[y_kmeans == 2,1], s= 80, c = 'black')\n",
    "plt.scatter(km.cluster_centers_[:, 0], km.cluster_centers_[:, 1], s= 120, c = 'green')\n",
    "plt.show()"
   ]
  },
  {
   "cell_type": "code",
   "execution_count": 224,
   "id": "ebdb4558",
   "metadata": {},
   "outputs": [
    {
     "data": {
      "image/png": "[encoded data removed]",
      "text/plain": [
       "<Figure size 432x288 with 1 Axes>"
      ]
     },
     "metadata": {
      "needs_background": "light"
     },
     "output_type": "display_data"
    }
   ],
   "source": [
    "df['V1'].hist(bins = 5, alpha = 0.5)\n",
    "df['V2'].hist(bins = 5,alpha = 0.5)\n",
    "df['V3'].hist(bins = 5,alpha = 0.5)\n",
    "df['V4'].hist(bins = 5,alpha = 0.5)\n",
    "df['V5'].hist(bins = 5,alpha = 0.5)\n",
    "df['V6'].hist(bins = 5,alpha = 0.5)\n",
    "df['V7'].hist(bins = 5,alpha = 0.5)\n",
    "df['V8'].hist(bins = 5,alpha = 0.5)\n",
    "df['V9'].hist(bins = 5,alpha = 0.5)\n",
    "df['V10'].hist(bins = 5,alpha = 0.5)\n",
    "df['V11'].hist(bins = 5,alpha = 0.5)\n",
    "plt.show()"
   ]
  },
  {
   "cell_type": "code",
   "execution_count": 233,
   "id": "2ef3f5f9",
   "metadata": {},
   "outputs": [
    {
     "data": {
      "image/png": "[encoded data removed]",
      "text/plain": [
       "<Figure size 432x288 with 1 Axes>"
      ]
     },
     "metadata": {
      "needs_background": "light"
     },
     "output_type": "display_data"
    }
   ],
   "source": [
    "plt.hist(X[y_kmeans],bins = 1, alpha = 1)\n",
    "plt.hist(X[y_kmeans],bins = 1, alpha = 1)\n",
    "plt.hist(X[y_kmeans],bins = 1, alpha = 1)\n",
    "plt.show()"
   ]
  },
  {
   "cell_type": "code",
   "execution_count": null,
   "id": "f17f6182",
   "metadata": {},
   "outputs": [],
   "source": []
  }
 ],
 "metadata": {
  "kernelspec": {
   "display_name": "Python 3 (ipykernel)",
   "language": "python",
   "name": "python3"
  },
  "language_info": {
   "codemirror_mode": {
    "name": "ipython",
    "version": 3
   },
   "file_extension": ".py",
   "mimetype": "text/x-python",
   "name": "python",
   "nbconvert_exporter": "python",
   "pygments_lexer": "ipython3",
   "version": "3.9.12"
  }
 },
 "nbformat": 4,
 "nbformat_minor": 5
}
