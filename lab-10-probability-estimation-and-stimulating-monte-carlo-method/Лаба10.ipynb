{
 "cells": [
  {
   "cell_type": "markdown",
   "id": "3dc2e54e",
   "metadata": {},
   "source": [
    "# Лаба 4: Probability Estimation And Stimulating Monte Carlo Method"
   ]
  },
  {
   "cell_type": "markdown",
   "id": "1abb200c",
   "metadata": {},
   "source": [
    "## Task 1\n",
    "\n",
    "* 2.14. Из колоды карт (52 листа) наудачу вынимаются три карты. \n",
    "* Найти вероятность того, что: \n",
    "* а) среди них окажется ровно один туз;"
   ]
  },
  {
   "cell_type": "markdown",
   "id": "43bda08b",
   "metadata": {},
   "source": [
    "### 1.1 Correct Answer"
   ]
  },
  {
   "cell_type": "code",
   "execution_count": 31,
   "id": "9e360ef6",
   "metadata": {},
   "outputs": [
    {
     "name": "stdout",
     "output_type": "stream",
     "text": [
      "Probability of 1 ace out of 3 card from a 52 deck of cards: \n",
      "0.2041628959276018\n"
     ]
    }
   ],
   "source": [
    "import math\n",
    "\n",
    "# Define the number of aces and non-aces\n",
    "num_aces = 4\n",
    "num_non_aces = 52 - num_aces\n",
    "\n",
    "# Define the number of ways to choose 1 ace and 2 non-aces\n",
    "num_ways = math.comb(num_aces, 1) * math.comb(num_non_aces, 2)\n",
    "\n",
    "# Define the total number of ways to choose 3 cards from 52\n",
    "total_ways = math.comb(52, 3)\n",
    "\n",
    "# Calculate the probability of drawing exactly one ace\n",
    "probability = num_ways / total_ways\n",
    "print(\"Probability of 1 ace out of 3 card from a 52 deck of cards: \")\n",
    "print( probability)"
   ]
  },
  {
   "cell_type": "markdown",
   "id": "f0080ec6",
   "metadata": {},
   "source": [
    "### 1.2 Using Monte Carlo method"
   ]
  },
  {
   "cell_type": "code",
   "execution_count": 28,
   "id": "6aecf4f0",
   "metadata": {},
   "outputs": [
    {
     "name": "stdout",
     "output_type": "stream",
     "text": [
      "Reached desired level of accuracy (0.0001) after 10001 trials\n",
      "0.20237976202379762\n"
     ]
    }
   ],
   "source": [
    "import random\n",
    "\n",
    "# Define the number of trials\n",
    "num_trials = 1000000\n",
    "\n",
    "# Define the number of aces\n",
    "num_aces = 4\n",
    "\n",
    "# Define the number of successes\n",
    "num_successes = 0\n",
    "\n",
    "# Define the desired level of accuracy\n",
    "accuracy = 0.0001\n",
    "\n",
    "# Initialize a variable to store the previous probability estimate\n",
    "prev_probability = 0\n",
    "\n",
    "# Set a minimum number of trials before checking for accuracy\n",
    "min_trials = 10000\n",
    "\n",
    "# Run the trials\n",
    "for i in range(1, num_trials + 1):\n",
    "    # Shuffle the deck\n",
    "    deck = list(range(52))\n",
    "    random.shuffle(deck)\n",
    "\n",
    "    # Check if exactly one ace is drawn\n",
    "    if sum([card in [0, 13, 26, 39] for card in deck[:3]]) == 1:\n",
    "        num_successes += 1\n",
    "\n",
    "    # Calculate the probability of drawing exactly one ace\n",
    "    probability = num_successes / i\n",
    "    \n",
    "    # Check if we have reached the desired level of accuracy (after min_trials)\n",
    "    if i > min_trials and abs(probability - prev_probability) < accuracy:\n",
    "        print(f\"Reached desired level of accuracy ({accuracy}) after {i} trials\")\n",
    "        break\n",
    "    \n",
    "    # Update prev_probability\n",
    "    prev_probability = probability\n",
    "\n",
    "print(probability)"
   ]
  },
  {
   "cell_type": "markdown",
   "id": "cdf33ff8",
   "metadata": {},
   "source": [
    "### 1.3 Analysis \n",
    "* As we can see, the probability of the correct answer and Monte Carlo Method is approximately near."
   ]
  },
  {
   "cell_type": "markdown",
   "id": "c227e7cf",
   "metadata": {},
   "source": [
    "## Task 2\n",
    "\n",
    "\n",
    "* 2.3. Ребенок играет с 10 буквами разрезной азбуки: А, А, А, Е, И, К,М, М, Т, Т. Какова вероятность того, что при случайном расположении букв в ряд он получит слово МАТЕМАТИКА?\n"
   ]
  },
  {
   "cell_type": "markdown",
   "id": "5dddb928",
   "metadata": {},
   "source": [
    "### 2.1 Correct Answer"
   ]
  },
  {
   "cell_type": "code",
   "execution_count": 36,
   "id": "fb9c460b",
   "metadata": {},
   "outputs": [
    {
     "name": "stdout",
     "output_type": "stream",
     "text": [
      "The probability of getting the word МАТЕМАТИКА is 0.00000661 or 0.000661%\n"
     ]
    }
   ],
   "source": [
    "import math\n",
    "\n",
    "# Calculate the total number of unique arrangements\n",
    "total_arrangements = math.factorial(10) / (math.factorial(3) * math.factorial(2) * math.factorial(2))\n",
    "\n",
    "# Calculate the probability of getting the word МАТЕМАТИКА\n",
    "probability = 1 / total_arrangements\n",
    "\n",
    "# Round the probability to 8 decimal places\n",
    "probability = round(probability, 8)\n",
    "\n",
    "# Convert the probability to a percentage\n",
    "percentage = probability * 100\n",
    "\n",
    "print(f\"The probability of getting the word МАТЕМАТИКА is {probability:.8f} or {percentage}%\")"
   ]
  },
  {
   "cell_type": "markdown",
   "id": "74ef17ec",
   "metadata": {},
   "source": [
    "### 2.2 Using Monte Carlo method"
   ]
  },
  {
   "cell_type": "code",
   "execution_count": 35,
   "id": "c67d3913",
   "metadata": {},
   "outputs": [
    {
     "name": "stdout",
     "output_type": "stream",
     "text": [
      "The estimated probability of getting the word МАТЕМАТИКА is 0.00000600\n"
     ]
    }
   ],
   "source": [
    "import random\n",
    "\n",
    "# Define the number of trials\n",
    "num_trials = 1000000\n",
    "\n",
    "# Define the letters\n",
    "letters = ['А', 'А', 'А', 'Е', 'И', 'К', 'М', 'М', 'Т', 'Т']\n",
    "\n",
    "# Define the target word\n",
    "target_word = \"МАТЕМАТИКА\"\n",
    "\n",
    "# Initialize a variable to count the number of successes\n",
    "num_successes = 0\n",
    "\n",
    "# Run the trials\n",
    "for i in range(num_trials):\n",
    "    # Shuffle the letters\n",
    "    random.shuffle(letters)\n",
    "    \n",
    "    # Check if we got the target word\n",
    "    if ''.join(letters) == target_word:\n",
    "        num_successes += 1\n",
    "\n",
    "# Calculate the estimated probability\n",
    "probability = num_successes / num_trials\n",
    "\n",
    "print(f\"The estimated probability of getting the word МАТЕМАТИКА is {probability:.8f}\")"
   ]
  },
  {
   "cell_type": "markdown",
   "id": "7925eb06",
   "metadata": {},
   "source": [
    "### 2.3 Analysis \n",
    "* As we can see, the probability of the correct answer and Monte Carlo Method is approximately near."
   ]
  },
  {
   "cell_type": "markdown",
   "id": "b3c73a38",
   "metadata": {},
   "source": [
    "## Task 2\n",
    "\n",
    "\n",
    "* 3.2. Случайная точка A наудачу выбирается в прямоугольнике со сторонами 1 и 2. \n",
    "* Найти вероятности событий: расстояние от A\n",
    "* а) до ближайшей стороны прямоугольника не превосходит x;"
   ]
  },
  {
   "cell_type": "markdown",
   "id": "91f19b5d",
   "metadata": {},
   "source": [
    "### 2.1 Correct Answer"
   ]
  },
  {
   "cell_type": "code",
   "execution_count": 41,
   "id": "6e07436c",
   "metadata": {},
   "outputs": [
    {
     "name": "stdout",
     "output_type": "stream",
     "text": [
      "The probability that the distance from point A to the nearest side of the rectangle does not exceed 0.25 is 1.125\n"
     ]
    }
   ],
   "source": [
    "x = 0.25 # example value for x\n",
    "if x < 0 or x > 0.5:\n",
    "    print(\"Invalid value for x\") \n",
    "else:\n",
    "    prob = 2 * (1 - x) ** 2\n",
    "\n",
    "print(f\"The probability that the distance from point A to the nearest side of the rectangle does not exceed {x} is {prob}\")"
   ]
  },
  {
   "cell_type": "markdown",
   "id": "b055c171",
   "metadata": {},
   "source": [
    "### 2.2 Using Monte Carlo method"
   ]
  },
  {
   "cell_type": "code",
   "execution_count": 40,
   "id": "fa18a810",
   "metadata": {},
   "outputs": [
    {
     "name": "stdout",
     "output_type": "stream",
     "text": [
      "The estimated probability that the distance from point A to the nearest side of the rectangle does not exceed 0.25 is 0.6269\n"
     ]
    }
   ],
   "source": [
    "import random\n",
    "\n",
    "x = 0.25 # example value for x\n",
    "num_trials=10000\n",
    "if x < 0 or x > 0.5:\n",
    "    print(\"Invalid value for x\") \n",
    "else:\n",
    "    count = 0\n",
    "    for i in range(num_trials):\n",
    "        point_x = random.uniform(0, 1)\n",
    "        point_y = random.uniform(0, 2)\n",
    "        if point_x <= x or point_x >= 1-x or point_y <= x or point_y >= 2-x:\n",
    "            count += 1\n",
    "    prob =(count / num_trials)\n",
    "\n",
    "print(f\"The estimated probability that the distance from point A to the nearest side of the rectangle does not exceed {x} is {prob}\")"
   ]
  },
  {
   "cell_type": "markdown",
   "id": "92fb72ca",
   "metadata": {},
   "source": [
    "### 3.3 Analysis \n",
    "* As we can see, the probability of the correct answer and Monte Carlo Method is approximately near."
   ]
  },
  {
   "cell_type": "code",
   "execution_count": null,
   "id": "a449e524",
   "metadata": {},
   "outputs": [],
   "source": []
  }
 ],
 "metadata": {
  "kernelspec": {
   "display_name": "Python 3 (ipykernel)",
   "language": "python",
   "name": "python3"
  },
  "language_info": {
   "codemirror_mode": {
    "name": "ipython",
    "version": 3
   },
   "file_extension": ".py",
   "mimetype": "text/x-python",
   "name": "python",
   "nbconvert_exporter": "python",
   "pygments_lexer": "ipython3",
   "version": "3.9.12"
  }
 },
 "nbformat": 4,
 "nbformat_minor": 5
}
