{
 "cells": [
  {
   "cell_type": "markdown",
   "id": "89b386fb",
   "metadata": {},
   "source": [
    "# Лаба 4: Две задачи на сравнение центров распределений\n"
   ]
  },
  {
   "cell_type": "markdown",
   "id": "b4af1aec",
   "metadata": {},
   "source": [
    "### Let's Import all necessary libraries"
   ]
  },
  {
   "cell_type": "code",
   "execution_count": 196,
   "id": "5f66f9b7",
   "metadata": {},
   "outputs": [],
   "source": [
    "import numpy as np\n",
    "import pandas as pd\n",
    "import matplotlib.pyplot as plt\n",
    "import seaborn as sns\n",
    "import scipy.stats as stats\n",
    "\n",
    "from collections import defaultdict\n",
    "from tqdm.notebook import tqdm"
   ]
  },
  {
   "cell_type": "code",
   "execution_count": 197,
   "id": "cb92606e",
   "metadata": {},
   "outputs": [],
   "source": [
    "import os\n",
    "\n",
    "# This is my file path for the lab works\n",
    "os.chdir(\"C:/Users/bahra/Desktop/Lect_01/Задачи для лабораторной 4\")"
   ]
  },
  {
   "cell_type": "markdown",
   "id": "8894de37",
   "metadata": {},
   "source": [
    "# #Task 1: Nursing Home Data \n",
    "Variable Names:\n",
    "\n",
    "* BED = number of beds in home\n",
    "* MCDAYS = annual medical in-patient days (hundreds)\n",
    "* TDAYS = annual total patient days (hundreds)\n",
    "* PCREV = annual total patient care revenue (ℎ𝑢𝑛𝑑𝑟𝑒𝑑𝑠)∗𝑁𝑆𝐴𝐿=𝑎𝑛𝑛𝑢𝑎𝑙𝑛𝑢𝑟𝑠𝑖𝑛𝑔𝑠𝑎𝑙𝑎𝑟𝑖𝑒𝑠(hundreds)\n",
    "* FEXP = annual facilities expenditures (hundreds)\n",
    "* RURAL = rural (1) and non-rural (0) homes\n",
    "\n",
    "Number of cases: 52\n",
    "\n",
    "The data were collected by the Department of Social Services of the State of New Mexico, and cover 52 of the 60 licensed nursing facilities in the state in 1988. The operating statistics are number of beds, medical in-patient days, total patient days, total patient care revenue, annual nursing salaries, and annual facilities expenditures for rural and non-rural nursing homes.\n",
    "\n",
    "These data are part of the data analyzed in Howard L. Smith, Niell F. Piland, and Nancy Fisher, \"A Comparison of Financial Performance, Organizational Characteristics, and Management Strategy Among Rural and Urban Nursing Facilities, Journal of Rural Health, Winter 1992, pp 27-40.\n",
    "\n",
    "Compare indicators for hospitals located outside the city and in the city. \n",
    "### Option 2: Annual Hospital Expenses (hundreds of dollars) "
   ]
  },
  {
   "cell_type": "code",
   "execution_count": 198,
   "id": "b20464cd",
   "metadata": {},
   "outputs": [
    {
     "data": {
      "text/html": [
       "<div>\n",
       "<style scoped>\n",
       "    .dataframe tbody tr th:only-of-type {\n",
       "        vertical-align: middle;\n",
       "    }\n",
       "\n",
       "    .dataframe tbody tr th {\n",
       "        vertical-align: top;\n",
       "    }\n",
       "\n",
       "    .dataframe thead th {\n",
       "        text-align: right;\n",
       "    }\n",
       "</style>\n",
       "<table border=\"1\" class=\"dataframe\">\n",
       "  <thead>\n",
       "    <tr style=\"text-align: right;\">\n",
       "      <th></th>\n",
       "      <th>BED  MCDAYS  TDAYS   PCREV   NSAL   FEXP  RURAL</th>\n",
       "    </tr>\n",
       "  </thead>\n",
       "  <tbody>\n",
       "    <tr>\n",
       "      <th>0</th>\n",
       "      <td>244           128        385      23521  5230 ...</td>\n",
       "    </tr>\n",
       "    <tr>\n",
       "      <th>1</th>\n",
       "      <td>59           155        203       9160   245...</td>\n",
       "    </tr>\n",
       "    <tr>\n",
       "      <th>2</th>\n",
       "      <td>120           281        392     21900   6304 ...</td>\n",
       "    </tr>\n",
       "    <tr>\n",
       "      <th>3</th>\n",
       "      <td>120           291        419     22354   6590 ...</td>\n",
       "    </tr>\n",
       "    <tr>\n",
       "      <th>4</th>\n",
       "      <td>120           238        363     17421   5362 ...</td>\n",
       "    </tr>\n",
       "  </tbody>\n",
       "</table>\n",
       "</div>"
      ],
      "text/plain": [
       "    BED  MCDAYS  TDAYS   PCREV   NSAL   FEXP  RURAL \n",
       "0  244           128        385      23521  5230 ...\n",
       "1    59           155        203       9160   245...\n",
       "2  120           281        392     21900   6304 ...\n",
       "3  120           291        419     22354   6590 ...\n",
       "4  120           238        363     17421   5362 ..."
      ]
     },
     "execution_count": 198,
     "metadata": {},
     "output_type": "execute_result"
    }
   ],
   "source": [
    "# Let's read the data\n",
    "df = pd.read_csv(\"Nursing Home Data/Nursing Home Data_data\")\n",
    "# Let's see what we have\n",
    "df.head()"
   ]
  },
  {
   "cell_type": "markdown",
   "id": "7a4841fa",
   "metadata": {},
   "source": [
    "As you can see the data is not well organized, so I will transform it to a convenient form"
   ]
  },
  {
   "cell_type": "code",
   "execution_count": 199,
   "id": "af0d207a",
   "metadata": {},
   "outputs": [],
   "source": [
    "# Let's retrive the columns\n",
    "cols = [i for i in df.columns.values[0].split(\" \") if i != \"\"]\n",
    "\n",
    "# Let's retrive the rows\n",
    "rows = []\n",
    "for arr in df.values:\n",
    "    row = arr[0]\n",
    "    new_row = [int(i) for i in row.split(\" \") if i != \"\"]\n",
    "    rows.append(new_row)"
   ]
  },
  {
   "cell_type": "code",
   "execution_count": 200,
   "id": "1e663f1e",
   "metadata": {},
   "outputs": [],
   "source": [
    "# Let's the columns and rows in a dataframe\n",
    "df = pd.DataFrame(rows, columns=cols)"
   ]
  },
  {
   "cell_type": "code",
   "execution_count": 201,
   "id": "d252e88b",
   "metadata": {},
   "outputs": [
    {
     "data": {
      "text/html": [
       "<div>\n",
       "<style scoped>\n",
       "    .dataframe tbody tr th:only-of-type {\n",
       "        vertical-align: middle;\n",
       "    }\n",
       "\n",
       "    .dataframe tbody tr th {\n",
       "        vertical-align: top;\n",
       "    }\n",
       "\n",
       "    .dataframe thead th {\n",
       "        text-align: right;\n",
       "    }\n",
       "</style>\n",
       "<table border=\"1\" class=\"dataframe\">\n",
       "  <thead>\n",
       "    <tr style=\"text-align: right;\">\n",
       "      <th></th>\n",
       "      <th>BED</th>\n",
       "      <th>MCDAYS</th>\n",
       "      <th>TDAYS</th>\n",
       "      <th>PCREV</th>\n",
       "      <th>NSAL</th>\n",
       "      <th>FEXP</th>\n",
       "    </tr>\n",
       "    <tr>\n",
       "      <th>RURAL</th>\n",
       "      <th></th>\n",
       "      <th></th>\n",
       "      <th></th>\n",
       "      <th></th>\n",
       "      <th></th>\n",
       "      <th></th>\n",
       "    </tr>\n",
       "  </thead>\n",
       "  <tbody>\n",
       "    <tr>\n",
       "      <th>0</th>\n",
       "      <td>18</td>\n",
       "      <td>18</td>\n",
       "      <td>18</td>\n",
       "      <td>18</td>\n",
       "      <td>18</td>\n",
       "      <td>18</td>\n",
       "    </tr>\n",
       "    <tr>\n",
       "      <th>1</th>\n",
       "      <td>34</td>\n",
       "      <td>34</td>\n",
       "      <td>34</td>\n",
       "      <td>34</td>\n",
       "      <td>34</td>\n",
       "      <td>34</td>\n",
       "    </tr>\n",
       "  </tbody>\n",
       "</table>\n",
       "</div>"
      ],
      "text/plain": [
       "       BED  MCDAYS  TDAYS  PCREV  NSAL  FEXP\n",
       "RURAL                                       \n",
       "0       18      18     18     18    18    18\n",
       "1       34      34     34     34    34    34"
      ]
     },
     "execution_count": 201,
     "metadata": {},
     "output_type": "execute_result"
    }
   ],
   "source": [
    "# Let's group by RURAL and count the values\n",
    "df.groupby([\"RURAL\"]).count()"
   ]
  },
  {
   "cell_type": "markdown",
   "id": "041efe10",
   "metadata": {},
   "source": [
    "* Now that looks good\n",
    "* I will divide the data into rural and non-rural houses"
   ]
  },
  {
   "cell_type": "code",
   "execution_count": 202,
   "id": "10f3554f",
   "metadata": {},
   "outputs": [
    {
     "data": {
      "text/html": [
       "<div>\n",
       "<style scoped>\n",
       "    .dataframe tbody tr th:only-of-type {\n",
       "        vertical-align: middle;\n",
       "    }\n",
       "\n",
       "    .dataframe tbody tr th {\n",
       "        vertical-align: top;\n",
       "    }\n",
       "\n",
       "    .dataframe thead th {\n",
       "        text-align: right;\n",
       "    }\n",
       "</style>\n",
       "<table border=\"1\" class=\"dataframe\">\n",
       "  <thead>\n",
       "    <tr style=\"text-align: right;\">\n",
       "      <th></th>\n",
       "      <th>BED</th>\n",
       "      <th>MCDAYS</th>\n",
       "      <th>TDAYS</th>\n",
       "      <th>PCREV</th>\n",
       "      <th>NSAL</th>\n",
       "      <th>FEXP</th>\n",
       "      <th>RURAL</th>\n",
       "    </tr>\n",
       "  </thead>\n",
       "  <tbody>\n",
       "    <tr>\n",
       "      <th>1</th>\n",
       "      <td>59</td>\n",
       "      <td>155</td>\n",
       "      <td>203</td>\n",
       "      <td>9160</td>\n",
       "      <td>2459</td>\n",
       "      <td>493</td>\n",
       "      <td>1</td>\n",
       "    </tr>\n",
       "    <tr>\n",
       "      <th>5</th>\n",
       "      <td>65</td>\n",
       "      <td>180</td>\n",
       "      <td>234</td>\n",
       "      <td>10531</td>\n",
       "      <td>3622</td>\n",
       "      <td>449</td>\n",
       "      <td>1</td>\n",
       "    </tr>\n",
       "    <tr>\n",
       "      <th>6</th>\n",
       "      <td>120</td>\n",
       "      <td>306</td>\n",
       "      <td>372</td>\n",
       "      <td>22147</td>\n",
       "      <td>4406</td>\n",
       "      <td>4998</td>\n",
       "      <td>1</td>\n",
       "    </tr>\n",
       "    <tr>\n",
       "      <th>7</th>\n",
       "      <td>90</td>\n",
       "      <td>214</td>\n",
       "      <td>305</td>\n",
       "      <td>14025</td>\n",
       "      <td>4173</td>\n",
       "      <td>966</td>\n",
       "      <td>1</td>\n",
       "    </tr>\n",
       "    <tr>\n",
       "      <th>9</th>\n",
       "      <td>120</td>\n",
       "      <td>133</td>\n",
       "      <td>188</td>\n",
       "      <td>11729</td>\n",
       "      <td>3224</td>\n",
       "      <td>6442</td>\n",
       "      <td>1</td>\n",
       "    </tr>\n",
       "  </tbody>\n",
       "</table>\n",
       "</div>"
      ],
      "text/plain": [
       "   BED  MCDAYS  TDAYS  PCREV  NSAL  FEXP  RURAL\n",
       "1   59     155    203   9160  2459   493      1\n",
       "5   65     180    234  10531  3622   449      1\n",
       "6  120     306    372  22147  4406  4998      1\n",
       "7   90     214    305  14025  4173   966      1\n",
       "9  120     133    188  11729  3224  6442      1"
      ]
     },
     "execution_count": 202,
     "metadata": {},
     "output_type": "execute_result"
    }
   ],
   "source": [
    "df_rural = df[df[\"RURAL\"] == 1]\n",
    "df_rural.head()"
   ]
  },
  {
   "cell_type": "code",
   "execution_count": 203,
   "id": "20a023ab",
   "metadata": {},
   "outputs": [
    {
     "data": {
      "text/html": [
       "<div>\n",
       "<style scoped>\n",
       "    .dataframe tbody tr th:only-of-type {\n",
       "        vertical-align: middle;\n",
       "    }\n",
       "\n",
       "    .dataframe tbody tr th {\n",
       "        vertical-align: top;\n",
       "    }\n",
       "\n",
       "    .dataframe thead th {\n",
       "        text-align: right;\n",
       "    }\n",
       "</style>\n",
       "<table border=\"1\" class=\"dataframe\">\n",
       "  <thead>\n",
       "    <tr style=\"text-align: right;\">\n",
       "      <th></th>\n",
       "      <th>BED</th>\n",
       "      <th>MCDAYS</th>\n",
       "      <th>TDAYS</th>\n",
       "      <th>PCREV</th>\n",
       "      <th>NSAL</th>\n",
       "      <th>FEXP</th>\n",
       "      <th>RURAL</th>\n",
       "    </tr>\n",
       "  </thead>\n",
       "  <tbody>\n",
       "    <tr>\n",
       "      <th>0</th>\n",
       "      <td>244</td>\n",
       "      <td>128</td>\n",
       "      <td>385</td>\n",
       "      <td>23521</td>\n",
       "      <td>5230</td>\n",
       "      <td>5334</td>\n",
       "      <td>0</td>\n",
       "    </tr>\n",
       "    <tr>\n",
       "      <th>2</th>\n",
       "      <td>120</td>\n",
       "      <td>281</td>\n",
       "      <td>392</td>\n",
       "      <td>21900</td>\n",
       "      <td>6304</td>\n",
       "      <td>6115</td>\n",
       "      <td>0</td>\n",
       "    </tr>\n",
       "    <tr>\n",
       "      <th>3</th>\n",
       "      <td>120</td>\n",
       "      <td>291</td>\n",
       "      <td>419</td>\n",
       "      <td>22354</td>\n",
       "      <td>6590</td>\n",
       "      <td>6346</td>\n",
       "      <td>0</td>\n",
       "    </tr>\n",
       "    <tr>\n",
       "      <th>4</th>\n",
       "      <td>120</td>\n",
       "      <td>238</td>\n",
       "      <td>363</td>\n",
       "      <td>17421</td>\n",
       "      <td>5362</td>\n",
       "      <td>6225</td>\n",
       "      <td>0</td>\n",
       "    </tr>\n",
       "    <tr>\n",
       "      <th>8</th>\n",
       "      <td>96</td>\n",
       "      <td>155</td>\n",
       "      <td>169</td>\n",
       "      <td>8812</td>\n",
       "      <td>1955</td>\n",
       "      <td>1260</td>\n",
       "      <td>0</td>\n",
       "    </tr>\n",
       "  </tbody>\n",
       "</table>\n",
       "</div>"
      ],
      "text/plain": [
       "   BED  MCDAYS  TDAYS  PCREV  NSAL  FEXP  RURAL\n",
       "0  244     128    385  23521  5230  5334      0\n",
       "2  120     281    392  21900  6304  6115      0\n",
       "3  120     291    419  22354  6590  6346      0\n",
       "4  120     238    363  17421  5362  6225      0\n",
       "8   96     155    169   8812  1955  1260      0"
      ]
     },
     "execution_count": 203,
     "metadata": {},
     "output_type": "execute_result"
    }
   ],
   "source": [
    "df_non_rural = df[df[\"RURAL\"] == 0]\n",
    "df_non_rural.head()"
   ]
  },
  {
   "cell_type": "markdown",
   "id": "0efc7f17",
   "metadata": {},
   "source": [
    "##### Let's check our data for normality"
   ]
  },
  {
   "cell_type": "code",
   "execution_count": 204,
   "id": "7aaf082e",
   "metadata": {},
   "outputs": [
    {
     "name": "stdout",
     "output_type": "stream",
     "text": [
      "rural: defaultdict(<class 'list'>, {'shapiro': [1], 'kstest': [1]})\n"
     ]
    }
   ],
   "source": [
    "# First test for rural\n",
    "significant_results = defaultdict(list)\n",
    "\n",
    "for test_name, test in dict_normal_tests.items():\n",
    "    significant_results[test_name].append(test(df_rural.FEXP))\n",
    "\n",
    "print(\"rural:\", significant_results)"
   ]
  },
  {
   "cell_type": "code",
   "execution_count": 205,
   "id": "3ebbd72b",
   "metadata": {},
   "outputs": [
    {
     "name": "stdout",
     "output_type": "stream",
     "text": [
      "non_rural: defaultdict(<class 'list'>, {'shapiro': [1], 'kstest': [1]})\n"
     ]
    }
   ],
   "source": [
    "# Second test for non-rural\n",
    "significant_results = defaultdict(list)\n",
    "\n",
    "for test_name, test in dict_normal_tests.items():\n",
    "    significant_results[test_name].append(test(df_non_rural.FEXP))\n",
    "\n",
    "print(\"non_rural:\", significant_results)   "
   ]
  },
  {
   "cell_type": "markdown",
   "id": "e66b2150",
   "metadata": {},
   "source": [
    "* We see that both criteria show that the distribution of costs for these groups is not normal. \n",
    "* The hypothesis of normal distribution is rejected.\n"
   ]
  },
  {
   "cell_type": "markdown",
   "id": "1440a714",
   "metadata": {},
   "source": [
    "\n",
    "####  Let's continue the analysis: \n",
    "* let's consider histograms and find out whether the differences between the distributions of the compared populations are significant from the normal one. \n",
    "* Let's build histograms."
   ]
  },
  {
   "cell_type": "code",
   "execution_count": 206,
   "id": "9e6687fb",
   "metadata": {},
   "outputs": [
    {
     "name": "stderr",
     "output_type": "stream",
     "text": [
      "C:\\ProgramData\\Anaconda3\\lib\\site-packages\\seaborn\\distributions.py:2619: FutureWarning: `distplot` is a deprecated function and will be removed in a future version. Please adapt your code to use either `displot` (a figure-level function with similar flexibility) or `histplot` (an axes-level function for histograms).\n",
      "  warnings.warn(msg, FutureWarning)\n",
      "C:\\ProgramData\\Anaconda3\\lib\\site-packages\\seaborn\\distributions.py:2619: FutureWarning: `distplot` is a deprecated function and will be removed in a future version. Please adapt your code to use either `displot` (a figure-level function with similar flexibility) or `histplot` (an axes-level function for histograms).\n",
      "  warnings.warn(msg, FutureWarning)\n"
     ]
    },
    {
     "data": {
      "text/plain": [
       "<AxesSubplot:xlabel='FEXP', ylabel='Density'>"
      ]
     },
     "execution_count": 206,
     "metadata": {},
     "output_type": "execute_result"
    },
    {
     "data": {
      "image/png": "[encoded data removed]",
      "text/plain": [
       "<Figure size 720x432 with 1 Axes>"
      ]
     },
     "metadata": {
      "needs_background": "light"
     },
     "output_type": "display_data"
    }
   ],
   "source": [
    "# The Red color distplot refers to RURAL row\n",
    "sns.distplot(df_rural.FEXP,color='red')\n",
    "\n",
    "# The Blue color distplot refers to NON-RURAL row\n",
    "sns.distplot(df_non_rural.FEXP, color='blue')"
   ]
  },
  {
   "cell_type": "markdown",
   "id": "45a02073",
   "metadata": {},
   "source": [
    "* There are pronounced asymmetries on the presented histograms. \n",
    "* All this allows us to conclude that the distribution of expenditures in both groups differs significantly from the normal one. \n",
    "* The distribution in groups differs significantly from normal, we can conclude that it is impossible to compare the means (you cannot use the Student's t-test), but you need to compare the medians using the Mann-Whitney test."
   ]
  },
  {
   "cell_type": "markdown",
   "id": "650301ec",
   "metadata": {},
   "source": [
    "### Checking for equality of medians \n",
    "\n",
    "#### To test the hypothesis about the equality of medians, we use the Mann-Whitney test for independent samples. \n",
    "\n",
    "It tests the following hypothesis:\n",
    "* H: medians are equal\n",
    "* K: medians are not equal"
   ]
  },
  {
   "cell_type": "markdown",
   "id": "ae408c75",
   "metadata": {},
   "source": [
    "* First of let's define the function"
   ]
  },
  {
   "cell_type": "code",
   "execution_count": 207,
   "id": "8ecc1434",
   "metadata": {},
   "outputs": [],
   "source": [
    "# Let's define Mann-Whitney function to check the results\n",
    "# I will use the 'stats' library for Mann-Whitney\n",
    "# I will use the Hypothese 0.05 for Alpha\n",
    "def checkMannwhitneyu(a, b, alpha=0.05):\n",
    "    \"\"\"Mann-Whitney test.\n",
    "    Returns 1 if differences are significant.\"\"\"\n",
    "    _, pvalue = stats.mannwhitneyu(a, b, alternative='two-sided')\n",
    "    return int(pvalue < alpha)"
   ]
  },
  {
   "cell_type": "code",
   "execution_count": 208,
   "id": "34a7faa2",
   "metadata": {},
   "outputs": [
    {
     "data": {
      "text/plain": [
       "0"
      ]
     },
     "execution_count": 208,
     "metadata": {},
     "output_type": "execute_result"
    }
   ],
   "source": [
    "checkMannwhitneyu(df_rural.FEXP, df_non_rural.FEXP)"
   ]
  },
  {
   "cell_type": "markdown",
   "id": "0b9a904b",
   "metadata": {},
   "source": [
    "#### Let's check it with Bootstrap Sampling\n",
    "\n",
    "###### Why Bootstrap Sampling?\n",
    "Bootstrap sampling is a technique using which you can estimate parameters like mean for an entire population without explicitly considering each and every data point in the population."
   ]
  },
  {
   "cell_type": "markdown",
   "id": "4b260c99",
   "metadata": {},
   "source": [
    "* First of let's define the function"
   ]
  },
  {
   "cell_type": "code",
   "execution_count": 209,
   "id": "8d0833ca",
   "metadata": {},
   "outputs": [],
   "source": [
    "# Let's define Bootstrap function to check the results\n",
    "# I will use the Hypothese 0.05 for Alpha\n",
    "# Parameter func for mean values using numpy library\n",
    "def checkBootstrapSampling(a, b, func=np.mean, B=1000, alpha=0.05):\n",
    "    \"\"\"Бутстрап. Возвращает 1, если отличия значимы.\"\"\"\n",
    "    a_bootstrap = np.random.choice(a, size=(len(a), B))\n",
    "    b_bootstrap = np.random.choice(b, size=(len(b), B))\n",
    "    list_diff = func(a_bootstrap, axis=0) - func(b_bootstrap, axis=0)\n",
    "    left_bound = np.quantile(list_diff, alpha / 2)\n",
    "    right_bound = np.quantile(list_diff, 1 - alpha / 2)\n",
    "    res = 1 if (left_bound > 0) or (right_bound < 0) else 0\n",
    "    return res"
   ]
  },
  {
   "cell_type": "code",
   "execution_count": 210,
   "id": "65e43a66",
   "metadata": {},
   "outputs": [
    {
     "data": {
      "text/plain": [
       "0"
      ]
     },
     "execution_count": 210,
     "metadata": {},
     "output_type": "execute_result"
    }
   ],
   "source": [
    "checkBootstrapSampling(df_rural.FEXP, df_non_rural.FEXP, func=np.median)"
   ]
  },
  {
   "cell_type": "markdown",
   "id": "b4b1d70c",
   "metadata": {},
   "source": [
    "###### The hypothesis of equality of medians is not rejected. We interpret the result: \n",
    "* hospital expenses for the year in cities and outside the city can be considered approximately equal."
   ]
  },
  {
   "cell_type": "markdown",
   "id": "e95252ce",
   "metadata": {},
   "source": [
    "#### For a more visual representation of the results of the analysis, we present a box diagram built on the basis of the compared samples:"
   ]
  },
  {
   "cell_type": "code",
   "execution_count": 211,
   "id": "117dc22a",
   "metadata": {},
   "outputs": [
    {
     "data": {
      "image/png": "[encoded data removed]",
      "text/plain": [
       "<Figure size 720x432 with 1 Axes>"
      ]
     },
     "metadata": {
      "needs_background": "light"
     },
     "output_type": "display_data"
    }
   ],
   "source": [
    "boxplot = df.boxplot(column=['FEXP'], by=['RURAL'])"
   ]
  },
  {
   "cell_type": "markdown",
   "id": "a880d904",
   "metadata": {},
   "source": [
    "* As you can see, the averages are really about the same"
   ]
  },
  {
   "cell_type": "markdown",
   "id": "0a2547bc",
   "metadata": {},
   "source": [
    "# Task 2: Unions and State Labor Law \n",
    "Variable Names:\n",
    "\n",
    "* DENS: Percent of public sector employees in unions, 1982\n",
    "* COMP: State bargaining laws cover public employees (1) or not (0)\n",
    "* RTW: State right-to-work law (1) or not (0)\n",
    "* PVT: Percent of private sector employees in unions, 1982\n",
    "\n",
    "Number of cases: 50\n",
    "\n",
    "Meltz analyzed factors associated with differences in the percent of public sector employees belonging to unions by states in the United States and by provinces in Canada. While he did not run formal regression analyses, he finds the major source of difference in public union density to be the differences in percent of private sector employees in unions.\n",
    "\n",
    "The dummy variables for presence of state bargaining laws covering public employees and presence of state right to work laws in the datafile provide an opportunity to examine a two-predictor regression involving dummy variables. In this case there is interaction between the two dummy variables and this calls for interpretation. The interaction variable forms a two-way classification table and the regression equation estimates the means of the observations in the four cells. In the current case the main effect of right-to-work laws is not significant, but the interaction with comprehensive state bargaining laws is. The presence of right-to-work laws is said then to modify the relation between unionization and state bargaining laws covering public employees. Right-to-work laws would be termed a moderator variable.\n",
    "\n",
    "Reference: NM Meltz, \"Interstate and Interprovincial Differences in Union Density,\" Industrial Relations, 28:2 (Spring 1989), 142-158.\n",
    "\n",
    "##### Compare the percentage of municipal employees who were unionized in 1982 in different US states. Comparing states that differ in whether these states passed the corresponding law (code 1) or did not pass it (code 0) \n",
    "##### Option 2: compares states that have passed the State right-to-work law and those that have not."
   ]
  },
  {
   "cell_type": "code",
   "execution_count": 225,
   "id": "693d991d",
   "metadata": {},
   "outputs": [
    {
     "data": {
      "text/html": [
       "<div>\n",
       "<style scoped>\n",
       "    .dataframe tbody tr th:only-of-type {\n",
       "        vertical-align: middle;\n",
       "    }\n",
       "\n",
       "    .dataframe tbody tr th {\n",
       "        vertical-align: top;\n",
       "    }\n",
       "\n",
       "    .dataframe thead th {\n",
       "        text-align: right;\n",
       "    }\n",
       "</style>\n",
       "<table border=\"1\" class=\"dataframe\">\n",
       "  <thead>\n",
       "    <tr style=\"text-align: right;\">\n",
       "      <th></th>\n",
       "      <th>STATE</th>\n",
       "      <th>DENS</th>\n",
       "      <th>COMP</th>\n",
       "      <th>RTW</th>\n",
       "      <th>PVT</th>\n",
       "    </tr>\n",
       "  </thead>\n",
       "  <tbody>\n",
       "    <tr>\n",
       "      <th>0</th>\n",
       "      <td>NY</td>\n",
       "      <td>56.9</td>\n",
       "      <td>1</td>\n",
       "      <td>0</td>\n",
       "      <td>31.2</td>\n",
       "    </tr>\n",
       "    <tr>\n",
       "      <th>1</th>\n",
       "      <td>MI</td>\n",
       "      <td>49.6</td>\n",
       "      <td>1</td>\n",
       "      <td>0</td>\n",
       "      <td>30.2</td>\n",
       "    </tr>\n",
       "    <tr>\n",
       "      <th>2</th>\n",
       "      <td>WA</td>\n",
       "      <td>32.4</td>\n",
       "      <td>1</td>\n",
       "      <td>0</td>\n",
       "      <td>33.1</td>\n",
       "    </tr>\n",
       "    <tr>\n",
       "      <th>3</th>\n",
       "      <td>HI</td>\n",
       "      <td>54.6</td>\n",
       "      <td>1</td>\n",
       "      <td>0</td>\n",
       "      <td>24.7</td>\n",
       "    </tr>\n",
       "    <tr>\n",
       "      <th>4</th>\n",
       "      <td>AK</td>\n",
       "      <td>30.7</td>\n",
       "      <td>1</td>\n",
       "      <td>0</td>\n",
       "      <td>30.1</td>\n",
       "    </tr>\n",
       "  </tbody>\n",
       "</table>\n",
       "</div>"
      ],
      "text/plain": [
       "    STATE  DENS  COMP  RTW   PVT\n",
       "0      NY  56.9     1    0  31.2\n",
       "1      MI  49.6     1    0  30.2\n",
       "2      WA  32.4     1    0  33.1\n",
       "3      HI  54.6     1    0  24.7\n",
       "4      AK  30.7     1    0  30.1"
      ]
     },
     "execution_count": 225,
     "metadata": {},
     "output_type": "execute_result"
    }
   ],
   "source": [
    "# I will read and separate the data with '\\t'\n",
    "df = pd.read_csv(\"Unions and State Labor Law/Unions and State Labor Law_data\", sep=\"\\t\")\n",
    "df.head()"
   ]
  },
  {
   "cell_type": "markdown",
   "id": "c6739578",
   "metadata": {},
   "source": [
    "* I will calculate the percentage of municipal employees as DENS + PVT\n",
    "* Then I will group by 'RTW'"
   ]
  },
  {
   "cell_type": "code",
   "execution_count": 213,
   "id": "3539167e",
   "metadata": {},
   "outputs": [],
   "source": [
    "df[\"MP\"] = df.DENS + df.PVT"
   ]
  },
  {
   "cell_type": "code",
   "execution_count": 214,
   "id": "d2b97a41",
   "metadata": {},
   "outputs": [
    {
     "data": {
      "text/html": [
       "<div>\n",
       "<style scoped>\n",
       "    .dataframe tbody tr th:only-of-type {\n",
       "        vertical-align: middle;\n",
       "    }\n",
       "\n",
       "    .dataframe tbody tr th {\n",
       "        vertical-align: top;\n",
       "    }\n",
       "\n",
       "    .dataframe thead th {\n",
       "        text-align: right;\n",
       "    }\n",
       "</style>\n",
       "<table border=\"1\" class=\"dataframe\">\n",
       "  <thead>\n",
       "    <tr style=\"text-align: right;\">\n",
       "      <th></th>\n",
       "      <th>STATE</th>\n",
       "      <th>DENS</th>\n",
       "      <th>COMP</th>\n",
       "      <th>PVT</th>\n",
       "      <th>MP</th>\n",
       "    </tr>\n",
       "    <tr>\n",
       "      <th>RTW</th>\n",
       "      <th></th>\n",
       "      <th></th>\n",
       "      <th></th>\n",
       "      <th></th>\n",
       "      <th></th>\n",
       "    </tr>\n",
       "  </thead>\n",
       "  <tbody>\n",
       "    <tr>\n",
       "      <th>0</th>\n",
       "      <td>30</td>\n",
       "      <td>30</td>\n",
       "      <td>30</td>\n",
       "      <td>30</td>\n",
       "      <td>30</td>\n",
       "    </tr>\n",
       "    <tr>\n",
       "      <th>1</th>\n",
       "      <td>20</td>\n",
       "      <td>20</td>\n",
       "      <td>20</td>\n",
       "      <td>20</td>\n",
       "      <td>20</td>\n",
       "    </tr>\n",
       "  </tbody>\n",
       "</table>\n",
       "</div>"
      ],
      "text/plain": [
       "       STATE  DENS  COMP  PVT  MP\n",
       "RTW                              \n",
       "0         30    30    30   30  30\n",
       "1         20    20    20   20  20"
      ]
     },
     "execution_count": 214,
     "metadata": {},
     "output_type": "execute_result"
    }
   ],
   "source": [
    "df.groupby([\"RTW\"]).count()"
   ]
  },
  {
   "cell_type": "markdown",
   "id": "07a8e966",
   "metadata": {},
   "source": [
    "* I will divide the data into states where the State right-to-work law is adopted and where it is not adopted"
   ]
  },
  {
   "cell_type": "code",
   "execution_count": 215,
   "id": "6b3fc80b",
   "metadata": {},
   "outputs": [
    {
     "data": {
      "text/html": [
       "<div>\n",
       "<style scoped>\n",
       "    .dataframe tbody tr th:only-of-type {\n",
       "        vertical-align: middle;\n",
       "    }\n",
       "\n",
       "    .dataframe tbody tr th {\n",
       "        vertical-align: top;\n",
       "    }\n",
       "\n",
       "    .dataframe thead th {\n",
       "        text-align: right;\n",
       "    }\n",
       "</style>\n",
       "<table border=\"1\" class=\"dataframe\">\n",
       "  <thead>\n",
       "    <tr style=\"text-align: right;\">\n",
       "      <th></th>\n",
       "      <th>STATE</th>\n",
       "      <th>DENS</th>\n",
       "      <th>COMP</th>\n",
       "      <th>RTW</th>\n",
       "      <th>PVT</th>\n",
       "      <th>MP</th>\n",
       "    </tr>\n",
       "  </thead>\n",
       "  <tbody>\n",
       "    <tr>\n",
       "      <th>15</th>\n",
       "      <td>NV</td>\n",
       "      <td>38.0</td>\n",
       "      <td>0</td>\n",
       "      <td>1</td>\n",
       "      <td>19.4</td>\n",
       "      <td>57.4</td>\n",
       "    </tr>\n",
       "    <tr>\n",
       "      <th>17</th>\n",
       "      <td>IO</td>\n",
       "      <td>35.0</td>\n",
       "      <td>1</td>\n",
       "      <td>1</td>\n",
       "      <td>16.9</td>\n",
       "      <td>51.9</td>\n",
       "    </tr>\n",
       "    <tr>\n",
       "      <th>26</th>\n",
       "      <td>AL</td>\n",
       "      <td>32.4</td>\n",
       "      <td>0</td>\n",
       "      <td>1</td>\n",
       "      <td>14.2</td>\n",
       "      <td>46.6</td>\n",
       "    </tr>\n",
       "    <tr>\n",
       "      <th>28</th>\n",
       "      <td>TN</td>\n",
       "      <td>33.0</td>\n",
       "      <td>0</td>\n",
       "      <td>1</td>\n",
       "      <td>14.0</td>\n",
       "      <td>47.0</td>\n",
       "    </tr>\n",
       "    <tr>\n",
       "      <th>29</th>\n",
       "      <td>UT</td>\n",
       "      <td>42.3</td>\n",
       "      <td>0</td>\n",
       "      <td>1</td>\n",
       "      <td>9.4</td>\n",
       "      <td>51.7</td>\n",
       "    </tr>\n",
       "  </tbody>\n",
       "</table>\n",
       "</div>"
      ],
      "text/plain": [
       "     STATE  DENS  COMP  RTW   PVT    MP\n",
       "15      NV  38.0     0    1  19.4  57.4\n",
       "17      IO  35.0     1    1  16.9  51.9\n",
       "26      AL  32.4     0    1  14.2  46.6\n",
       "28      TN  33.0     0    1  14.0  47.0\n",
       "29      UT  42.3     0    1   9.4  51.7"
      ]
     },
     "execution_count": 215,
     "metadata": {},
     "output_type": "execute_result"
    }
   ],
   "source": [
    "df_RTW = df[df.RTW == 1]\n",
    "df_RTW.head()"
   ]
  },
  {
   "cell_type": "code",
   "execution_count": 216,
   "id": "ef613d37",
   "metadata": {},
   "outputs": [
    {
     "data": {
      "text/html": [
       "<div>\n",
       "<style scoped>\n",
       "    .dataframe tbody tr th:only-of-type {\n",
       "        vertical-align: middle;\n",
       "    }\n",
       "\n",
       "    .dataframe tbody tr th {\n",
       "        vertical-align: top;\n",
       "    }\n",
       "\n",
       "    .dataframe thead th {\n",
       "        text-align: right;\n",
       "    }\n",
       "</style>\n",
       "<table border=\"1\" class=\"dataframe\">\n",
       "  <thead>\n",
       "    <tr style=\"text-align: right;\">\n",
       "      <th></th>\n",
       "      <th>STATE</th>\n",
       "      <th>DENS</th>\n",
       "      <th>COMP</th>\n",
       "      <th>RTW</th>\n",
       "      <th>PVT</th>\n",
       "      <th>MP</th>\n",
       "    </tr>\n",
       "  </thead>\n",
       "  <tbody>\n",
       "    <tr>\n",
       "      <th>0</th>\n",
       "      <td>NY</td>\n",
       "      <td>56.9</td>\n",
       "      <td>1</td>\n",
       "      <td>0</td>\n",
       "      <td>31.2</td>\n",
       "      <td>88.1</td>\n",
       "    </tr>\n",
       "    <tr>\n",
       "      <th>1</th>\n",
       "      <td>MI</td>\n",
       "      <td>49.6</td>\n",
       "      <td>1</td>\n",
       "      <td>0</td>\n",
       "      <td>30.2</td>\n",
       "      <td>79.8</td>\n",
       "    </tr>\n",
       "    <tr>\n",
       "      <th>2</th>\n",
       "      <td>WA</td>\n",
       "      <td>32.4</td>\n",
       "      <td>1</td>\n",
       "      <td>0</td>\n",
       "      <td>33.1</td>\n",
       "      <td>65.5</td>\n",
       "    </tr>\n",
       "    <tr>\n",
       "      <th>3</th>\n",
       "      <td>HI</td>\n",
       "      <td>54.6</td>\n",
       "      <td>1</td>\n",
       "      <td>0</td>\n",
       "      <td>24.7</td>\n",
       "      <td>79.3</td>\n",
       "    </tr>\n",
       "    <tr>\n",
       "      <th>4</th>\n",
       "      <td>AK</td>\n",
       "      <td>30.7</td>\n",
       "      <td>1</td>\n",
       "      <td>0</td>\n",
       "      <td>30.1</td>\n",
       "      <td>60.8</td>\n",
       "    </tr>\n",
       "  </tbody>\n",
       "</table>\n",
       "</div>"
      ],
      "text/plain": [
       "    STATE  DENS  COMP  RTW   PVT    MP\n",
       "0      NY  56.9     1    0  31.2  88.1\n",
       "1      MI  49.6     1    0  30.2  79.8\n",
       "2      WA  32.4     1    0  33.1  65.5\n",
       "3      HI  54.6     1    0  24.7  79.3\n",
       "4      AK  30.7     1    0  30.1  60.8"
      ]
     },
     "execution_count": 216,
     "metadata": {},
     "output_type": "execute_result"
    }
   ],
   "source": [
    "df_non_RTW = df[df.RTW == 0]\n",
    "df_non_RTW.head()"
   ]
  },
  {
   "cell_type": "markdown",
   "id": "3ba2819b",
   "metadata": {},
   "source": [
    "##### Let's check our data for normality"
   ]
  },
  {
   "cell_type": "code",
   "execution_count": 217,
   "id": "a878df81",
   "metadata": {},
   "outputs": [
    {
     "name": "stdout",
     "output_type": "stream",
     "text": [
      "RTW: defaultdict(<class 'list'>, {'shapiro': [0], 'kstest': [1]})\n"
     ]
    }
   ],
   "source": [
    "significant_results = defaultdict(list)\n",
    "\n",
    "for test_name, test in dict_normal_tests.items():\n",
    "    significant_results[test_name].append(test(df_RTW.MP))\n",
    "\n",
    "print(\"RTW:\", significant_results)    "
   ]
  },
  {
   "cell_type": "code",
   "execution_count": 218,
   "id": "fd4a0310",
   "metadata": {},
   "outputs": [
    {
     "name": "stdout",
     "output_type": "stream",
     "text": [
      "non_RTW: defaultdict(<class 'list'>, {'shapiro': [0], 'kstest': [1]})\n"
     ]
    }
   ],
   "source": [
    "significant_results = defaultdict(list)\n",
    "\n",
    "for test_name, test in dict_normal_tests.items():\n",
    "    significant_results[test_name].append(test(df_non_RTW.MP))\n",
    "\n",
    "print(\"non_RTW:\", significant_results)   "
   ]
  },
  {
   "cell_type": "markdown",
   "id": "f61862c3",
   "metadata": {},
   "source": [
    "* We see that both criteria show different results. \n",
    "* Shapiro says that the distributions of the percentage of municipal employees for these groups are normal, while the Kolmogorov-Smirnov test says the opposite for both distributions."
   ]
  },
  {
   "cell_type": "markdown",
   "id": "053997ac",
   "metadata": {},
   "source": [
    "#### Let's continue the analysis: \n",
    "* Let's consider histograms and find out whether the differences between the distributions of the compared populations are significant from the normal one. \n",
    "* Let's build histograms."
   ]
  },
  {
   "cell_type": "code",
   "execution_count": 219,
   "id": "91322c11",
   "metadata": {},
   "outputs": [
    {
     "name": "stderr",
     "output_type": "stream",
     "text": [
      "C:\\ProgramData\\Anaconda3\\lib\\site-packages\\seaborn\\distributions.py:2619: FutureWarning: `distplot` is a deprecated function and will be removed in a future version. Please adapt your code to use either `displot` (a figure-level function with similar flexibility) or `histplot` (an axes-level function for histograms).\n",
      "  warnings.warn(msg, FutureWarning)\n",
      "C:\\ProgramData\\Anaconda3\\lib\\site-packages\\seaborn\\distributions.py:2619: FutureWarning: `distplot` is a deprecated function and will be removed in a future version. Please adapt your code to use either `displot` (a figure-level function with similar flexibility) or `histplot` (an axes-level function for histograms).\n",
      "  warnings.warn(msg, FutureWarning)\n"
     ]
    },
    {
     "data": {
      "text/plain": [
       "<AxesSubplot:xlabel='MP', ylabel='Density'>"
      ]
     },
     "execution_count": 219,
     "metadata": {},
     "output_type": "execute_result"
    },
    {
     "data": {
      "image/png": "[encoded data removed]",
      "text/plain": [
       "<Figure size 720x432 with 1 Axes>"
      ]
     },
     "metadata": {
      "needs_background": "light"
     },
     "output_type": "display_data"
    }
   ],
   "source": [
    "# Red color for RTW\n",
    "sns.distplot(df_RTW.MP, color='red')\n",
    "\n",
    "# Blue color for non-RTW\n",
    "sns.distplot(df_non_RTW.MP, color='blue')"
   ]
  },
  {
   "cell_type": "markdown",
   "id": "2e934a36",
   "metadata": {},
   "source": [
    "* There are no pronounced asymmetries in the presented histograms. \n",
    "* Therefore, we cannot say that the distribution of expenditures in both groups differs significantly from normal or does not differ. \n",
    "* Let's post more qq graphics."
   ]
  },
  {
   "cell_type": "code",
   "execution_count": 220,
   "id": "713de228",
   "metadata": {},
   "outputs": [
    {
     "data": {
      "image/png": "[encoded data removed]",
      "text/plain": [
       "<Figure size 720x432 with 1 Axes>"
      ]
     },
     "metadata": {
      "needs_background": "light"
     },
     "output_type": "display_data"
    },
    {
     "data": {
      "image/png": "[encoded data removed]",
      "text/plain": [
       "<Figure size 720x432 with 1 Axes>"
      ]
     },
     "metadata": {
      "needs_background": "light"
     },
     "output_type": "display_data"
    }
   ],
   "source": [
    "# Let's import statsmodels.api library for ploting\n",
    "import statsmodels.api as sm\n",
    "\n",
    "# Red color for RTW\n",
    "sm.qqplot(df_RTW.MP, fit=True, line='45', markerfacecolor='red', xlabel='RTW (Theoretical Quantiles)', ylabel='RTW (Sample Quantiles)')\n",
    "\n",
    "# Blue color for non-RTW\n",
    "sm.qqplot(df_non_RTW.MP, fit=True, line='45', markerfacecolor='blue', xlabel='Non-RTW (Theoretical Quantiles)', ylabel='Non-RTW (Sample Quantiles)')\n",
    "plt.show()"
   ]
  },
  {
   "cell_type": "markdown",
   "id": "5eeb369d",
   "metadata": {},
   "source": [
    "* On the graphs, the data are located approximately on the same line, so we will trust that we will consider the data to be normal and we will use the Student's-test to test the hypothesis of equality of the means."
   ]
  },
  {
   "cell_type": "markdown",
   "id": "fa7cffe4",
   "metadata": {},
   "source": [
    "### Checking equality of means \n",
    "#### To test the hypothesis of equality of means, we use Student's t-test for independent samples. It tests the following hypothesis:\n",
    "\n",
    "* H: averages are equal\n",
    "* K: averages are not equal"
   ]
  },
  {
   "cell_type": "markdown",
   "id": "c76d20f6",
   "metadata": {},
   "source": [
    "* First let's define the Student's-test function"
   ]
  },
  {
   "cell_type": "code",
   "execution_count": 221,
   "id": "a91be481",
   "metadata": {},
   "outputs": [],
   "source": [
    "# Let's define Mann-Whitney function to check the results\n",
    "# I will use the 'stats' library for Mann-Whitney\n",
    "# I will use the Hypothese 0.05 for Alpha\n",
    "def check_ttest(a, b, alpha=0.02):\n",
    "    \"\"\"Тест Стьюдента. Возвращает 1, если отличия значимы.\"\"\"\n",
    "    _, pvalue = stats.ttest_ind(a, b)\n",
    "    return int(pvalue < alpha)"
   ]
  },
  {
   "cell_type": "code",
   "execution_count": 222,
   "id": "5db7ae10",
   "metadata": {},
   "outputs": [
    {
     "data": {
      "text/plain": [
       "1"
      ]
     },
     "execution_count": 222,
     "metadata": {},
     "output_type": "execute_result"
    }
   ],
   "source": [
    "check_ttest(df_RTW.MP, df_non_RTW.MP)"
   ]
  },
  {
   "cell_type": "markdown",
   "id": "f008d090",
   "metadata": {},
   "source": [
    "* Let's also check it with bootstrap sampling"
   ]
  },
  {
   "cell_type": "code",
   "execution_count": 223,
   "id": "60b814c3",
   "metadata": {},
   "outputs": [
    {
     "data": {
      "text/plain": [
       "1"
      ]
     },
     "execution_count": 223,
     "metadata": {},
     "output_type": "execute_result"
    }
   ],
   "source": [
    "# We already defined the function, so I will just reuse it\n",
    "check_bootstrap(df_RTW.MP, df_non_RTW.MP)"
   ]
  },
  {
   "cell_type": "markdown",
   "id": "1dd60093",
   "metadata": {},
   "source": [
    "##### The hypothesis of equality of means is rejected. We interpret the result: \n",
    "* The percentage of municipal employees in the states in which the State right-to-work law is passed and in which the law is not passed are significantly different."
   ]
  },
  {
   "cell_type": "markdown",
   "id": "24ca8530",
   "metadata": {},
   "source": [
    "#### Let's illustrate the result of this test"
   ]
  },
  {
   "cell_type": "code",
   "execution_count": 224,
   "id": "e0f1d7f6",
   "metadata": {},
   "outputs": [
    {
     "data": {
      "image/png": "[encoded data removed]",
      "text/plain": [
       "<Figure size 720x432 with 1 Axes>"
      ]
     },
     "metadata": {
      "needs_background": "light"
     },
     "output_type": "display_data"
    }
   ],
   "source": [
    "boxplot = df.boxplot(column=['MP'], by=['RTW'])"
   ]
  },
  {
   "cell_type": "markdown",
   "id": "cbca1973",
   "metadata": {},
   "source": [
    "* As you can see, even visually the averages really differ"
   ]
  },
  {
   "cell_type": "code",
   "execution_count": null,
   "id": "1c4007fe",
   "metadata": {},
   "outputs": [],
   "source": []
  }
 ],
 "metadata": {
  "kernelspec": {
   "display_name": "Python 3 (ipykernel)",
   "language": "python",
   "name": "python3"
  },
  "language_info": {
   "codemirror_mode": {
    "name": "ipython",
    "version": 3
   },
   "file_extension": ".py",
   "mimetype": "text/x-python",
   "name": "python",
   "nbconvert_exporter": "python",
   "pygments_lexer": "ipython3",
   "version": "3.9.12"
  }
 },
 "nbformat": 4,
 "nbformat_minor": 5
}
