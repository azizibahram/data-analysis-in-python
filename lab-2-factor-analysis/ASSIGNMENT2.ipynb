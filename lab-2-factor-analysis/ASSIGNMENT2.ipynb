{
 "cells": [
  {
   "cell_type": "markdown",
   "id": "fd8c6346",
   "metadata": {},
   "source": [
    "# Задача 2: Economics of Cities"
   ]
  },
  {
   "cell_type": "markdown",
   "id": "bc16524c",
   "metadata": {},
   "source": [
    "### Let's Import all necessary libraries"
   ]
  },
  {
   "cell_type": "code",
   "execution_count": 339,
   "id": "55ba941e",
   "metadata": {},
   "outputs": [],
   "source": [
    "import numpy as np\n",
    "import pandas as pd\n",
    "\n",
    "import matplotlib\n",
    "import matplotlib.pyplot as plt\n",
    "matplotlib.style.use('ggplot')\n",
    "%matplotlib inline\n",
    "from sklearn.cluster import KMeans\n",
    "import seaborn as sns\n",
    "\n",
    "import os"
   ]
  },
  {
   "cell_type": "code",
   "execution_count": 340,
   "id": "138a5fb1",
   "metadata": {},
   "outputs": [],
   "source": [
    "os.chdir(\"C:/Users/bahra/Desktop/Lect_01/AD на Python/Задачи для лабораторной 1-3/задача_2_Economics of Cities\")"
   ]
  },
  {
   "cell_type": "markdown",
   "id": "8953bf8a",
   "metadata": {},
   "source": [
    "## Standardization Data and Data Cleaning\n",
    "#### I will solve many problems of the file in on line of code\n",
    "\n",
    "* I will make the city column index of the dataframe, so we only get numbers to work with\n",
    "* The data is concatenated by ';' I will seperate them.\n",
    "* The numbers are object type, because of the ',' so will choose decimal variable to do the trick"
   ]
  },
  {
   "cell_type": "code",
   "execution_count": 341,
   "id": "9818cd50",
   "metadata": {},
   "outputs": [],
   "source": [
    "df = pd.read_csv('Econom_Cities_data.csv', sep=\";\", decimal=',' , header = 0, index_col='City')"
   ]
  },
  {
   "cell_type": "code",
   "execution_count": 342,
   "id": "c9b29b10",
   "metadata": {},
   "outputs": [
    {
     "data": {
      "text/html": [
       "<div>\n",
       "<style scoped>\n",
       "    .dataframe tbody tr th:only-of-type {\n",
       "        vertical-align: middle;\n",
       "    }\n",
       "\n",
       "    .dataframe tbody tr th {\n",
       "        vertical-align: top;\n",
       "    }\n",
       "\n",
       "    .dataframe thead th {\n",
       "        text-align: right;\n",
       "    }\n",
       "</style>\n",
       "<table border=\"1\" class=\"dataframe\">\n",
       "  <thead>\n",
       "    <tr style=\"text-align: right;\">\n",
       "      <th></th>\n",
       "      <th>Work</th>\n",
       "      <th>Price</th>\n",
       "      <th>Salary</th>\n",
       "    </tr>\n",
       "    <tr>\n",
       "      <th>City</th>\n",
       "      <th></th>\n",
       "      <th></th>\n",
       "      <th></th>\n",
       "    </tr>\n",
       "  </thead>\n",
       "  <tbody>\n",
       "    <tr>\n",
       "      <th>Amsterdam</th>\n",
       "      <td>1714</td>\n",
       "      <td>65.6</td>\n",
       "      <td>49.0</td>\n",
       "    </tr>\n",
       "    <tr>\n",
       "      <th>Athens</th>\n",
       "      <td>1792</td>\n",
       "      <td>53.8</td>\n",
       "      <td>30.4</td>\n",
       "    </tr>\n",
       "    <tr>\n",
       "      <th>Bogota</th>\n",
       "      <td>2152</td>\n",
       "      <td>37.9</td>\n",
       "      <td>11.5</td>\n",
       "    </tr>\n",
       "    <tr>\n",
       "      <th>Bombay</th>\n",
       "      <td>2052</td>\n",
       "      <td>30.3</td>\n",
       "      <td>5.3</td>\n",
       "    </tr>\n",
       "    <tr>\n",
       "      <th>Brussels</th>\n",
       "      <td>1708</td>\n",
       "      <td>73.8</td>\n",
       "      <td>50.5</td>\n",
       "    </tr>\n",
       "    <tr>\n",
       "      <th>Buenos_Aires</th>\n",
       "      <td>1971</td>\n",
       "      <td>56.1</td>\n",
       "      <td>12.5</td>\n",
       "    </tr>\n",
       "    <tr>\n",
       "      <th>Cairo</th>\n",
       "      <td>-9999</td>\n",
       "      <td>37.1</td>\n",
       "      <td>-9999.0</td>\n",
       "    </tr>\n",
       "    <tr>\n",
       "      <th>Caracas</th>\n",
       "      <td>2041</td>\n",
       "      <td>61.0</td>\n",
       "      <td>10.9</td>\n",
       "    </tr>\n",
       "  </tbody>\n",
       "</table>\n",
       "</div>"
      ],
      "text/plain": [
       "              Work  Price  Salary\n",
       "City                             \n",
       "Amsterdam     1714   65.6    49.0\n",
       "Athens        1792   53.8    30.4\n",
       "Bogota        2152   37.9    11.5\n",
       "Bombay        2052   30.3     5.3\n",
       "Brussels      1708   73.8    50.5\n",
       "Buenos_Aires  1971   56.1    12.5\n",
       "Cairo        -9999   37.1 -9999.0\n",
       "Caracas       2041   61.0    10.9"
      ]
     },
     "execution_count": 342,
     "metadata": {},
     "output_type": "execute_result"
    }
   ],
   "source": [
    "df.head(8)"
   ]
  },
  {
   "cell_type": "code",
   "execution_count": 343,
   "id": "6ad5f6b5",
   "metadata": {},
   "outputs": [
    {
     "name": "stdout",
     "output_type": "stream",
     "text": [
      "(48, 3)\n"
     ]
    }
   ],
   "source": [
    "print(df.shape)"
   ]
  },
  {
   "cell_type": "code",
   "execution_count": 344,
   "id": "ada808b6",
   "metadata": {},
   "outputs": [
    {
     "data": {
      "text/plain": [
       "Work        int64\n",
       "Price     float64\n",
       "Salary    float64\n",
       "dtype: object"
      ]
     },
     "execution_count": 344,
     "metadata": {},
     "output_type": "execute_result"
    }
   ],
   "source": [
    "df.dtypes"
   ]
  },
  {
   "cell_type": "markdown",
   "id": "f6d02dc1",
   "metadata": {},
   "source": [
    "#### Some of the main problems are solved in the data as you see above\n",
    "\n",
    "#### Now let's see what we have inside"
   ]
  },
  {
   "cell_type": "code",
   "execution_count": 345,
   "id": "f5cb553e",
   "metadata": {},
   "outputs": [
    {
     "name": "stdout",
     "output_type": "stream",
     "text": [
      "                Work  Price  Salary\n",
      "City                               \n",
      "Amsterdam       1714   65.6    49.0\n",
      "Athens          1792   53.8    30.4\n",
      "Bogota          2152   37.9    11.5\n",
      "Bombay          2052   30.3     5.3\n",
      "Brussels        1708   73.8    50.5\n",
      "Buenos_Aires    1971   56.1    12.5\n",
      "Cairo          -9999   37.1 -9999.0\n",
      "Caracas         2041   61.0    10.9\n",
      "Chicago         1924   73.9    61.9\n",
      "Copenhagen      1717   91.3    62.9\n",
      "Dublin          1759   76.0    41.4\n",
      "Dusseldorf      1693   78.5    60.2\n",
      "Frankfurt       1650   74.5    60.4\n",
      "Geneva          1880   95.9    90.3\n",
      "Helsinki        1667  113.6    66.6\n",
      "Hong_Kong       2375   63.8    27.8\n",
      "Houston         1978   71.9    46.3\n",
      "Jakarta        -9999   43.6 -9999.0\n",
      "Johannesburg    1945   51.1    24.0\n",
      "Kuala_Lumpur    2167   43.5     9.9\n",
      "Lagos           1786   45.2     2.7\n",
      "Lisbon          1742   56.2    18.8\n",
      "London          1737   84.2    46.2\n",
      "Los_Angeles     2068   79.8    65.2\n",
      "Luxembourg      1768   71.1    71.1\n",
      "Madrid          1710   93.8    50.0\n",
      "Manila          2268   40.0     4.0\n",
      "Mexico_City     1944   49.8     5.7\n",
      "Milan           1773   82.0    53.3\n",
      "Montreal        1827   72.7    56.3\n",
      "Nairobi         1958   45.0     5.8\n",
      "New_York        1942   83.3    65.8\n",
      "Nicosia         1825   47.9    28.3\n",
      "Oslo            1583  115.5    63.7\n",
      "Panama          2078   49.2    13.8\n",
      "Paris           1744   81.6    45.9\n",
      "Rio_de_Janeiro  1749   46.3    10.5\n",
      "San_Paulo       1856   48.9    11.1\n",
      "Seoul           1842   58.3    32.7\n",
      "Singpore        2042   64.4    16.1\n",
      "Stockholm       1805  111.3    39.2\n",
      "Sydney          1668   70.8    52.1\n",
      "Taipei          2145   84.3    34.5\n",
      "Tel_Aviv        2015   67.3    27.0\n",
      "Tokyo           1880  115.0    68.0\n",
      "Toronto         1888   70.2    58.2\n",
      "Vienna          1780   78.0    51.3\n",
      "Zurich          1868  100.0   100.0\n"
     ]
    }
   ],
   "source": [
    "print(df)"
   ]
  },
  {
   "cell_type": "markdown",
   "id": "ad448919",
   "metadata": {},
   "source": [
    "#### As we can see there are outliers in the file\n",
    "* There are negative values in the data, so will fix it later\\'"
   ]
  },
  {
   "cell_type": "code",
   "execution_count": 346,
   "id": "65569f28",
   "metadata": {},
   "outputs": [
    {
     "name": "stdout",
     "output_type": "stream",
     "text": [
      "<class 'pandas.core.frame.DataFrame'>\n",
      "Index: 48 entries, Amsterdam to Zurich\n",
      "Data columns (total 3 columns):\n",
      " #   Column  Non-Null Count  Dtype  \n",
      "---  ------  --------------  -----  \n",
      " 0   Work    48 non-null     int64  \n",
      " 1   Price   48 non-null     float64\n",
      " 2   Salary  48 non-null     float64\n",
      "dtypes: float64(2), int64(1)\n",
      "memory usage: 1.5+ KB\n"
     ]
    }
   ],
   "source": [
    "# Let's see if what types of data we got so far\n",
    "df.info()"
   ]
  },
  {
   "cell_type": "code",
   "execution_count": 347,
   "id": "65f895c3",
   "metadata": {},
   "outputs": [
    {
     "data": {
      "text/html": [
       "<div>\n",
       "<style scoped>\n",
       "    .dataframe tbody tr th:only-of-type {\n",
       "        vertical-align: middle;\n",
       "    }\n",
       "\n",
       "    .dataframe tbody tr th {\n",
       "        vertical-align: top;\n",
       "    }\n",
       "\n",
       "    .dataframe thead th {\n",
       "        text-align: right;\n",
       "    }\n",
       "</style>\n",
       "<table border=\"1\" class=\"dataframe\">\n",
       "  <thead>\n",
       "    <tr style=\"text-align: right;\">\n",
       "      <th></th>\n",
       "      <th>Work</th>\n",
       "      <th>Price</th>\n",
       "      <th>Salary</th>\n",
       "    </tr>\n",
       "  </thead>\n",
       "  <tbody>\n",
       "    <tr>\n",
       "      <th>count</th>\n",
       "      <td>48.000000</td>\n",
       "      <td>48.000000</td>\n",
       "      <td>48.000000</td>\n",
       "    </tr>\n",
       "    <tr>\n",
       "      <th>mean</th>\n",
       "      <td>1384.958333</td>\n",
       "      <td>68.860417</td>\n",
       "      <td>-378.727083</td>\n",
       "    </tr>\n",
       "    <tr>\n",
       "      <th>std</th>\n",
       "      <td>2404.897007</td>\n",
       "      <td>21.784659</td>\n",
       "      <td>2027.338052</td>\n",
       "    </tr>\n",
       "    <tr>\n",
       "      <th>min</th>\n",
       "      <td>-9999.000000</td>\n",
       "      <td>30.300000</td>\n",
       "      <td>-9999.000000</td>\n",
       "    </tr>\n",
       "    <tr>\n",
       "      <th>25%</th>\n",
       "      <td>1740.750000</td>\n",
       "      <td>49.650000</td>\n",
       "      <td>12.250000</td>\n",
       "    </tr>\n",
       "    <tr>\n",
       "      <th>50%</th>\n",
       "      <td>1834.500000</td>\n",
       "      <td>70.500000</td>\n",
       "      <td>40.300000</td>\n",
       "    </tr>\n",
       "    <tr>\n",
       "      <th>75%</th>\n",
       "      <td>1972.750000</td>\n",
       "      <td>81.700000</td>\n",
       "      <td>58.700000</td>\n",
       "    </tr>\n",
       "    <tr>\n",
       "      <th>max</th>\n",
       "      <td>2375.000000</td>\n",
       "      <td>115.500000</td>\n",
       "      <td>100.000000</td>\n",
       "    </tr>\n",
       "  </tbody>\n",
       "</table>\n",
       "</div>"
      ],
      "text/plain": [
       "              Work       Price       Salary\n",
       "count    48.000000   48.000000    48.000000\n",
       "mean   1384.958333   68.860417  -378.727083\n",
       "std    2404.897007   21.784659  2027.338052\n",
       "min   -9999.000000   30.300000 -9999.000000\n",
       "25%    1740.750000   49.650000    12.250000\n",
       "50%    1834.500000   70.500000    40.300000\n",
       "75%    1972.750000   81.700000    58.700000\n",
       "max    2375.000000  115.500000   100.000000"
      ]
     },
     "execution_count": 347,
     "metadata": {},
     "output_type": "execute_result"
    }
   ],
   "source": [
    "# Let's see the basic describtion of our data\n",
    "df.describe(include=[np.number])"
   ]
  },
  {
   "cell_type": "code",
   "execution_count": 348,
   "id": "f450cf86",
   "metadata": {},
   "outputs": [
    {
     "data": {
      "text/html": [
       "<div>\n",
       "<style scoped>\n",
       "    .dataframe tbody tr th:only-of-type {\n",
       "        vertical-align: middle;\n",
       "    }\n",
       "\n",
       "    .dataframe tbody tr th {\n",
       "        vertical-align: top;\n",
       "    }\n",
       "\n",
       "    .dataframe thead th {\n",
       "        text-align: right;\n",
       "    }\n",
       "</style>\n",
       "<table border=\"1\" class=\"dataframe\">\n",
       "  <thead>\n",
       "    <tr style=\"text-align: right;\">\n",
       "      <th></th>\n",
       "      <th>Work</th>\n",
       "      <th>Price</th>\n",
       "      <th>Salary</th>\n",
       "    </tr>\n",
       "    <tr>\n",
       "      <th>City</th>\n",
       "      <th></th>\n",
       "      <th></th>\n",
       "      <th></th>\n",
       "    </tr>\n",
       "  </thead>\n",
       "  <tbody>\n",
       "    <tr>\n",
       "      <th>Cairo</th>\n",
       "      <td>-9999</td>\n",
       "      <td>37.1</td>\n",
       "      <td>-9999.0</td>\n",
       "    </tr>\n",
       "    <tr>\n",
       "      <th>Jakarta</th>\n",
       "      <td>-9999</td>\n",
       "      <td>43.6</td>\n",
       "      <td>-9999.0</td>\n",
       "    </tr>\n",
       "  </tbody>\n",
       "</table>\n",
       "</div>"
      ],
      "text/plain": [
       "         Work  Price  Salary\n",
       "City                        \n",
       "Cairo   -9999   37.1 -9999.0\n",
       "Jakarta -9999   43.6 -9999.0"
      ]
     },
     "execution_count": 348,
     "metadata": {},
     "output_type": "execute_result"
    }
   ],
   "source": [
    "# As you see can, that outliers is making our data look ugly\n",
    "# Let's locate them\n",
    "df[df['Work'] < 0]"
   ]
  },
  {
   "cell_type": "markdown",
   "id": "1930f3ec",
   "metadata": {},
   "source": [
    "#### These outliers can be deleted or we can change the values \n",
    "* for now I will change the values"
   ]
  },
  {
   "cell_type": "code",
   "execution_count": 349,
   "id": "d43a543c",
   "metadata": {},
   "outputs": [],
   "source": [
    "# df = df.drop(df[df.Work < 0].index)"
   ]
  },
  {
   "cell_type": "code",
   "execution_count": 350,
   "id": "28159abf",
   "metadata": {},
   "outputs": [],
   "source": [
    "df = df.replace({'Work': -9999, 'Salary': -9999.0}, 0).astype(float)"
   ]
  },
  {
   "cell_type": "markdown",
   "id": "cf6cda73",
   "metadata": {},
   "source": [
    "### Let's do some preprocessing for data cleaning"
   ]
  },
  {
   "cell_type": "code",
   "execution_count": 351,
   "id": "e236b8a9",
   "metadata": {},
   "outputs": [],
   "source": [
    "from sklearn import preprocessing"
   ]
  },
  {
   "cell_type": "code",
   "execution_count": 352,
   "id": "dea0a08a",
   "metadata": {},
   "outputs": [],
   "source": [
    "stand_1 = preprocessing.MinMaxScaler()\n",
    "\n",
    "stand_1.fit(df)\n",
    "\n",
    "X = stand_1.transform(df)\n",
    "\n",
    "X = pd.DataFrame(X, index=df.index, columns=df.columns)"
   ]
  },
  {
   "cell_type": "code",
   "execution_count": 353,
   "id": "7b16f254",
   "metadata": {},
   "outputs": [
    {
     "data": {
      "text/html": [
       "<div>\n",
       "<style scoped>\n",
       "    .dataframe tbody tr th:only-of-type {\n",
       "        vertical-align: middle;\n",
       "    }\n",
       "\n",
       "    .dataframe tbody tr th {\n",
       "        vertical-align: top;\n",
       "    }\n",
       "\n",
       "    .dataframe thead th {\n",
       "        text-align: right;\n",
       "    }\n",
       "</style>\n",
       "<table border=\"1\" class=\"dataframe\">\n",
       "  <thead>\n",
       "    <tr style=\"text-align: right;\">\n",
       "      <th></th>\n",
       "      <th>Work</th>\n",
       "      <th>Price</th>\n",
       "      <th>Salary</th>\n",
       "    </tr>\n",
       "    <tr>\n",
       "      <th>City</th>\n",
       "      <th></th>\n",
       "      <th></th>\n",
       "      <th></th>\n",
       "    </tr>\n",
       "  </thead>\n",
       "  <tbody>\n",
       "    <tr>\n",
       "      <th>Amsterdam</th>\n",
       "      <td>0.721684</td>\n",
       "      <td>0.414319</td>\n",
       "      <td>0.490</td>\n",
       "    </tr>\n",
       "    <tr>\n",
       "      <th>Athens</th>\n",
       "      <td>0.754526</td>\n",
       "      <td>0.275822</td>\n",
       "      <td>0.304</td>\n",
       "    </tr>\n",
       "    <tr>\n",
       "      <th>Bogota</th>\n",
       "      <td>0.906105</td>\n",
       "      <td>0.089202</td>\n",
       "      <td>0.115</td>\n",
       "    </tr>\n",
       "    <tr>\n",
       "      <th>Bombay</th>\n",
       "      <td>0.864000</td>\n",
       "      <td>0.000000</td>\n",
       "      <td>0.053</td>\n",
       "    </tr>\n",
       "    <tr>\n",
       "      <th>Brussels</th>\n",
       "      <td>0.719158</td>\n",
       "      <td>0.510563</td>\n",
       "      <td>0.505</td>\n",
       "    </tr>\n",
       "    <tr>\n",
       "      <th>Buenos_Aires</th>\n",
       "      <td>0.829895</td>\n",
       "      <td>0.302817</td>\n",
       "      <td>0.125</td>\n",
       "    </tr>\n",
       "    <tr>\n",
       "      <th>Cairo</th>\n",
       "      <td>0.000000</td>\n",
       "      <td>0.079812</td>\n",
       "      <td>0.000</td>\n",
       "    </tr>\n",
       "    <tr>\n",
       "      <th>Caracas</th>\n",
       "      <td>0.859368</td>\n",
       "      <td>0.360329</td>\n",
       "      <td>0.109</td>\n",
       "    </tr>\n",
       "    <tr>\n",
       "      <th>Chicago</th>\n",
       "      <td>0.810105</td>\n",
       "      <td>0.511737</td>\n",
       "      <td>0.619</td>\n",
       "    </tr>\n",
       "    <tr>\n",
       "      <th>Copenhagen</th>\n",
       "      <td>0.722947</td>\n",
       "      <td>0.715962</td>\n",
       "      <td>0.629</td>\n",
       "    </tr>\n",
       "    <tr>\n",
       "      <th>Dublin</th>\n",
       "      <td>0.740632</td>\n",
       "      <td>0.536385</td>\n",
       "      <td>0.414</td>\n",
       "    </tr>\n",
       "    <tr>\n",
       "      <th>Dusseldorf</th>\n",
       "      <td>0.712842</td>\n",
       "      <td>0.565728</td>\n",
       "      <td>0.602</td>\n",
       "    </tr>\n",
       "    <tr>\n",
       "      <th>Frankfurt</th>\n",
       "      <td>0.694737</td>\n",
       "      <td>0.518779</td>\n",
       "      <td>0.604</td>\n",
       "    </tr>\n",
       "    <tr>\n",
       "      <th>Geneva</th>\n",
       "      <td>0.791579</td>\n",
       "      <td>0.769953</td>\n",
       "      <td>0.903</td>\n",
       "    </tr>\n",
       "    <tr>\n",
       "      <th>Helsinki</th>\n",
       "      <td>0.701895</td>\n",
       "      <td>0.977700</td>\n",
       "      <td>0.666</td>\n",
       "    </tr>\n",
       "    <tr>\n",
       "      <th>Hong_Kong</th>\n",
       "      <td>1.000000</td>\n",
       "      <td>0.393192</td>\n",
       "      <td>0.278</td>\n",
       "    </tr>\n",
       "    <tr>\n",
       "      <th>Houston</th>\n",
       "      <td>0.832842</td>\n",
       "      <td>0.488263</td>\n",
       "      <td>0.463</td>\n",
       "    </tr>\n",
       "    <tr>\n",
       "      <th>Jakarta</th>\n",
       "      <td>0.000000</td>\n",
       "      <td>0.156103</td>\n",
       "      <td>0.000</td>\n",
       "    </tr>\n",
       "    <tr>\n",
       "      <th>Johannesburg</th>\n",
       "      <td>0.818947</td>\n",
       "      <td>0.244131</td>\n",
       "      <td>0.240</td>\n",
       "    </tr>\n",
       "    <tr>\n",
       "      <th>Kuala_Lumpur</th>\n",
       "      <td>0.912421</td>\n",
       "      <td>0.154930</td>\n",
       "      <td>0.099</td>\n",
       "    </tr>\n",
       "    <tr>\n",
       "      <th>Lagos</th>\n",
       "      <td>0.752000</td>\n",
       "      <td>0.174883</td>\n",
       "      <td>0.027</td>\n",
       "    </tr>\n",
       "    <tr>\n",
       "      <th>Lisbon</th>\n",
       "      <td>0.733474</td>\n",
       "      <td>0.303991</td>\n",
       "      <td>0.188</td>\n",
       "    </tr>\n",
       "    <tr>\n",
       "      <th>London</th>\n",
       "      <td>0.731368</td>\n",
       "      <td>0.632629</td>\n",
       "      <td>0.462</td>\n",
       "    </tr>\n",
       "    <tr>\n",
       "      <th>Los_Angeles</th>\n",
       "      <td>0.870737</td>\n",
       "      <td>0.580986</td>\n",
       "      <td>0.652</td>\n",
       "    </tr>\n",
       "    <tr>\n",
       "      <th>Luxembourg</th>\n",
       "      <td>0.744421</td>\n",
       "      <td>0.478873</td>\n",
       "      <td>0.711</td>\n",
       "    </tr>\n",
       "    <tr>\n",
       "      <th>Madrid</th>\n",
       "      <td>0.720000</td>\n",
       "      <td>0.745305</td>\n",
       "      <td>0.500</td>\n",
       "    </tr>\n",
       "    <tr>\n",
       "      <th>Manila</th>\n",
       "      <td>0.954947</td>\n",
       "      <td>0.113850</td>\n",
       "      <td>0.040</td>\n",
       "    </tr>\n",
       "    <tr>\n",
       "      <th>Mexico_City</th>\n",
       "      <td>0.818526</td>\n",
       "      <td>0.228873</td>\n",
       "      <td>0.057</td>\n",
       "    </tr>\n",
       "    <tr>\n",
       "      <th>Milan</th>\n",
       "      <td>0.746526</td>\n",
       "      <td>0.606808</td>\n",
       "      <td>0.533</td>\n",
       "    </tr>\n",
       "    <tr>\n",
       "      <th>Montreal</th>\n",
       "      <td>0.769263</td>\n",
       "      <td>0.497653</td>\n",
       "      <td>0.563</td>\n",
       "    </tr>\n",
       "    <tr>\n",
       "      <th>Nairobi</th>\n",
       "      <td>0.824421</td>\n",
       "      <td>0.172535</td>\n",
       "      <td>0.058</td>\n",
       "    </tr>\n",
       "    <tr>\n",
       "      <th>New_York</th>\n",
       "      <td>0.817684</td>\n",
       "      <td>0.622066</td>\n",
       "      <td>0.658</td>\n",
       "    </tr>\n",
       "    <tr>\n",
       "      <th>Nicosia</th>\n",
       "      <td>0.768421</td>\n",
       "      <td>0.206573</td>\n",
       "      <td>0.283</td>\n",
       "    </tr>\n",
       "    <tr>\n",
       "      <th>Oslo</th>\n",
       "      <td>0.666526</td>\n",
       "      <td>1.000000</td>\n",
       "      <td>0.637</td>\n",
       "    </tr>\n",
       "    <tr>\n",
       "      <th>Panama</th>\n",
       "      <td>0.874947</td>\n",
       "      <td>0.221831</td>\n",
       "      <td>0.138</td>\n",
       "    </tr>\n",
       "    <tr>\n",
       "      <th>Paris</th>\n",
       "      <td>0.734316</td>\n",
       "      <td>0.602113</td>\n",
       "      <td>0.459</td>\n",
       "    </tr>\n",
       "    <tr>\n",
       "      <th>Rio_de_Janeiro</th>\n",
       "      <td>0.736421</td>\n",
       "      <td>0.187793</td>\n",
       "      <td>0.105</td>\n",
       "    </tr>\n",
       "    <tr>\n",
       "      <th>San_Paulo</th>\n",
       "      <td>0.781474</td>\n",
       "      <td>0.218310</td>\n",
       "      <td>0.111</td>\n",
       "    </tr>\n",
       "    <tr>\n",
       "      <th>Seoul</th>\n",
       "      <td>0.775579</td>\n",
       "      <td>0.328638</td>\n",
       "      <td>0.327</td>\n",
       "    </tr>\n",
       "    <tr>\n",
       "      <th>Singpore</th>\n",
       "      <td>0.859789</td>\n",
       "      <td>0.400235</td>\n",
       "      <td>0.161</td>\n",
       "    </tr>\n",
       "    <tr>\n",
       "      <th>Stockholm</th>\n",
       "      <td>0.760000</td>\n",
       "      <td>0.950704</td>\n",
       "      <td>0.392</td>\n",
       "    </tr>\n",
       "    <tr>\n",
       "      <th>Sydney</th>\n",
       "      <td>0.702316</td>\n",
       "      <td>0.475352</td>\n",
       "      <td>0.521</td>\n",
       "    </tr>\n",
       "    <tr>\n",
       "      <th>Taipei</th>\n",
       "      <td>0.903158</td>\n",
       "      <td>0.633803</td>\n",
       "      <td>0.345</td>\n",
       "    </tr>\n",
       "    <tr>\n",
       "      <th>Tel_Aviv</th>\n",
       "      <td>0.848421</td>\n",
       "      <td>0.434272</td>\n",
       "      <td>0.270</td>\n",
       "    </tr>\n",
       "    <tr>\n",
       "      <th>Tokyo</th>\n",
       "      <td>0.791579</td>\n",
       "      <td>0.994131</td>\n",
       "      <td>0.680</td>\n",
       "    </tr>\n",
       "    <tr>\n",
       "      <th>Toronto</th>\n",
       "      <td>0.794947</td>\n",
       "      <td>0.468310</td>\n",
       "      <td>0.582</td>\n",
       "    </tr>\n",
       "    <tr>\n",
       "      <th>Vienna</th>\n",
       "      <td>0.749474</td>\n",
       "      <td>0.559859</td>\n",
       "      <td>0.513</td>\n",
       "    </tr>\n",
       "    <tr>\n",
       "      <th>Zurich</th>\n",
       "      <td>0.786526</td>\n",
       "      <td>0.818075</td>\n",
       "      <td>1.000</td>\n",
       "    </tr>\n",
       "  </tbody>\n",
       "</table>\n",
       "</div>"
      ],
      "text/plain": [
       "                    Work     Price  Salary\n",
       "City                                      \n",
       "Amsterdam       0.721684  0.414319   0.490\n",
       "Athens          0.754526  0.275822   0.304\n",
       "Bogota          0.906105  0.089202   0.115\n",
       "Bombay          0.864000  0.000000   0.053\n",
       "Brussels        0.719158  0.510563   0.505\n",
       "Buenos_Aires    0.829895  0.302817   0.125\n",
       "Cairo           0.000000  0.079812   0.000\n",
       "Caracas         0.859368  0.360329   0.109\n",
       "Chicago         0.810105  0.511737   0.619\n",
       "Copenhagen      0.722947  0.715962   0.629\n",
       "Dublin          0.740632  0.536385   0.414\n",
       "Dusseldorf      0.712842  0.565728   0.602\n",
       "Frankfurt       0.694737  0.518779   0.604\n",
       "Geneva          0.791579  0.769953   0.903\n",
       "Helsinki        0.701895  0.977700   0.666\n",
       "Hong_Kong       1.000000  0.393192   0.278\n",
       "Houston         0.832842  0.488263   0.463\n",
       "Jakarta         0.000000  0.156103   0.000\n",
       "Johannesburg    0.818947  0.244131   0.240\n",
       "Kuala_Lumpur    0.912421  0.154930   0.099\n",
       "Lagos           0.752000  0.174883   0.027\n",
       "Lisbon          0.733474  0.303991   0.188\n",
       "London          0.731368  0.632629   0.462\n",
       "Los_Angeles     0.870737  0.580986   0.652\n",
       "Luxembourg      0.744421  0.478873   0.711\n",
       "Madrid          0.720000  0.745305   0.500\n",
       "Manila          0.954947  0.113850   0.040\n",
       "Mexico_City     0.818526  0.228873   0.057\n",
       "Milan           0.746526  0.606808   0.533\n",
       "Montreal        0.769263  0.497653   0.563\n",
       "Nairobi         0.824421  0.172535   0.058\n",
       "New_York        0.817684  0.622066   0.658\n",
       "Nicosia         0.768421  0.206573   0.283\n",
       "Oslo            0.666526  1.000000   0.637\n",
       "Panama          0.874947  0.221831   0.138\n",
       "Paris           0.734316  0.602113   0.459\n",
       "Rio_de_Janeiro  0.736421  0.187793   0.105\n",
       "San_Paulo       0.781474  0.218310   0.111\n",
       "Seoul           0.775579  0.328638   0.327\n",
       "Singpore        0.859789  0.400235   0.161\n",
       "Stockholm       0.760000  0.950704   0.392\n",
       "Sydney          0.702316  0.475352   0.521\n",
       "Taipei          0.903158  0.633803   0.345\n",
       "Tel_Aviv        0.848421  0.434272   0.270\n",
       "Tokyo           0.791579  0.994131   0.680\n",
       "Toronto         0.794947  0.468310   0.582\n",
       "Vienna          0.749474  0.559859   0.513\n",
       "Zurich          0.786526  0.818075   1.000"
      ]
     },
     "execution_count": 353,
     "metadata": {},
     "output_type": "execute_result"
    }
   ],
   "source": [
    "X"
   ]
  },
  {
   "cell_type": "markdown",
   "id": "f691a418",
   "metadata": {},
   "source": [
    "#### Now it looks good\n",
    "* As you can see in the describtion"
   ]
  },
  {
   "cell_type": "code",
   "execution_count": 354,
   "id": "f306fe03",
   "metadata": {},
   "outputs": [
    {
     "data": {
      "text/html": [
       "<div>\n",
       "<style scoped>\n",
       "    .dataframe tbody tr th:only-of-type {\n",
       "        vertical-align: middle;\n",
       "    }\n",
       "\n",
       "    .dataframe tbody tr th {\n",
       "        vertical-align: top;\n",
       "    }\n",
       "\n",
       "    .dataframe thead th {\n",
       "        text-align: right;\n",
       "    }\n",
       "</style>\n",
       "<table border=\"1\" class=\"dataframe\">\n",
       "  <thead>\n",
       "    <tr style=\"text-align: right;\">\n",
       "      <th></th>\n",
       "      <th>Work</th>\n",
       "      <th>Price</th>\n",
       "      <th>Salary</th>\n",
       "    </tr>\n",
       "  </thead>\n",
       "  <tbody>\n",
       "    <tr>\n",
       "      <th>count</th>\n",
       "      <td>48.000000</td>\n",
       "      <td>48.000000</td>\n",
       "      <td>48.000000</td>\n",
       "    </tr>\n",
       "    <tr>\n",
       "      <th>mean</th>\n",
       "      <td>0.758561</td>\n",
       "      <td>0.452587</td>\n",
       "      <td>0.378979</td>\n",
       "    </tr>\n",
       "    <tr>\n",
       "      <th>std</th>\n",
       "      <td>0.175242</td>\n",
       "      <td>0.255688</td>\n",
       "      <td>0.255076</td>\n",
       "    </tr>\n",
       "    <tr>\n",
       "      <th>min</th>\n",
       "      <td>0.000000</td>\n",
       "      <td>0.000000</td>\n",
       "      <td>0.000000</td>\n",
       "    </tr>\n",
       "    <tr>\n",
       "      <th>25%</th>\n",
       "      <td>0.732947</td>\n",
       "      <td>0.227113</td>\n",
       "      <td>0.122500</td>\n",
       "    </tr>\n",
       "    <tr>\n",
       "      <th>50%</th>\n",
       "      <td>0.772421</td>\n",
       "      <td>0.471831</td>\n",
       "      <td>0.403000</td>\n",
       "    </tr>\n",
       "    <tr>\n",
       "      <th>75%</th>\n",
       "      <td>0.830632</td>\n",
       "      <td>0.603286</td>\n",
       "      <td>0.587000</td>\n",
       "    </tr>\n",
       "    <tr>\n",
       "      <th>max</th>\n",
       "      <td>1.000000</td>\n",
       "      <td>1.000000</td>\n",
       "      <td>1.000000</td>\n",
       "    </tr>\n",
       "  </tbody>\n",
       "</table>\n",
       "</div>"
      ],
      "text/plain": [
       "            Work      Price     Salary\n",
       "count  48.000000  48.000000  48.000000\n",
       "mean    0.758561   0.452587   0.378979\n",
       "std     0.175242   0.255688   0.255076\n",
       "min     0.000000   0.000000   0.000000\n",
       "25%     0.732947   0.227113   0.122500\n",
       "50%     0.772421   0.471831   0.403000\n",
       "75%     0.830632   0.603286   0.587000\n",
       "max     1.000000   1.000000   1.000000"
      ]
     },
     "execution_count": 354,
     "metadata": {},
     "output_type": "execute_result"
    }
   ],
   "source": [
    "X.describe(include='all')"
   ]
  },
  {
   "cell_type": "markdown",
   "id": "12d5552f",
   "metadata": {},
   "source": [
    "## Scatter Plot for visual view"
   ]
  },
  {
   "cell_type": "code",
   "execution_count": 355,
   "id": "1d0b1a07",
   "metadata": {},
   "outputs": [
    {
     "data": {
      "text/plain": [
       "<seaborn.axisgrid.PairGrid at 0x234eaa65460>"
      ]
     },
     "execution_count": 355,
     "metadata": {},
     "output_type": "execute_result"
    },
    {
     "data": {
      "image/png": "[encoded data removed]",
      "text/plain": [
       "<Figure size 540x540 with 12 Axes>"
      ]
     },
     "metadata": {
      "needs_background": "light"
     },
     "output_type": "display_data"
    }
   ],
   "source": [
    "# Let's do cross comparison between our column with pairplot using seaborn library\n",
    "sns.pairplot(df[['Work', 'Price', 'Salary']])"
   ]
  },
  {
   "cell_type": "markdown",
   "id": "dbfdc762",
   "metadata": {},
   "source": [
    "## Initial Data\n",
    "#### What can we got?\n",
    "* We can get Histograms out of same columns\n",
    "* We can get scatter-plots out of two different columns\n",
    "\n",
    "#### What can we interprete?\n",
    "* As you can see, Salary x Work is like constant till x axis 2000, after that we can see that salary goes up after hourly work goes forward\n",
    "* If we choose Salary with Price, we can see that when Work goes forward Salary also goes high"
   ]
  },
  {
   "cell_type": "markdown",
   "id": "3b3fddb9",
   "metadata": {},
   "source": [
    "# Let's do Hierarchical Analysis"
   ]
  },
  {
   "cell_type": "code",
   "execution_count": 356,
   "id": "7dddd29a",
   "metadata": {},
   "outputs": [],
   "source": [
    "# Library for dendrogram and other libraries\n",
    "from scipy.cluster.hierarchy import dendrogram, linkage, fcluster"
   ]
  },
  {
   "cell_type": "code",
   "execution_count": 357,
   "id": "580fa979",
   "metadata": {},
   "outputs": [
    {
     "data": {
      "image/png": "[encoded data removed]",
      "text/plain": [
       "<Figure size 864x864 with 1 Axes>"
      ]
     },
     "metadata": {
      "needs_background": "light"
     },
     "output_type": "display_data"
    }
   ],
   "source": [
    "link = linkage(X, 'ward', 'euclidean')\n",
    "\n",
    "fig = plt.figure(figsize=(12,12))\n",
    "dn = dendrogram(link,\n",
    "                # массив с названиями объектов для подписи по оси X\n",
    "                labels=X.index.tolist(),\n",
    "                # повернуть подписи вертикально\n",
    "                #color_threshold=1.1,\n",
    "                orientation = \"right\",\n",
    "                leaf_rotation=0.)"
   ]
  },
  {
   "cell_type": "markdown",
   "id": "18d8ac9b",
   "metadata": {},
   "source": [
    "## Plot the \"Scree\" plot to determine the best number of clusters"
   ]
  },
  {
   "cell_type": "code",
   "execution_count": 358,
   "id": "d87a573a",
   "metadata": {
    "scrolled": false
   },
   "outputs": [
    {
     "data": {
      "text/plain": [
       "Text(0, 0.5, 'Distance')"
      ]
     },
     "execution_count": 358,
     "metadata": {},
     "output_type": "execute_result"
    },
    {
     "data": {
      "image/png": "[encoded data removed]",
      "text/plain": [
       "<Figure size 432x288 with 1 Axes>"
      ]
     },
     "metadata": {
      "needs_background": "light"
     },
     "output_type": "display_data"
    }
   ],
   "source": [
    "dist = link[:, 2]\n",
    "dist_rev = dist[::-1]\n",
    "idxs = range(1, len(dist) + 1)\n",
    "plt.plot(idxs, dist_rev, marker='o')\n",
    "plt.title('Distance between clusters')\n",
    "plt.xlabel('Merge step')\n",
    "plt.ylabel('Distance')"
   ]
  },
  {
   "cell_type": "markdown",
   "id": "81915788",
   "metadata": {},
   "source": [
    "### let's add levels at which we stop the union"
   ]
  },
  {
   "cell_type": "code",
   "execution_count": 359,
   "id": "d3867fb3",
   "metadata": {},
   "outputs": [
    {
     "data": {
      "text/plain": [
       "Text(22, 0.95, '4 Cluster')"
      ]
     },
     "execution_count": 359,
     "metadata": {},
     "output_type": "execute_result"
    },
    {
     "data": {
      "image/png": "[encoded data removed]",
      "text/plain": [
       "<Figure size 432x288 with 1 Axes>"
      ]
     },
     "metadata": {
      "needs_background": "light"
     },
     "output_type": "display_data"
    }
   ],
   "source": [
    "dist_rev = dist[::-1]\n",
    "idxs = range(1, len(dist) + 1)\n",
    "plt.plot(idxs, dist_rev, marker='o')\n",
    "plt.title('Distance between clusters')\n",
    "plt.xlabel('Merge step')\n",
    "plt.ylabel('Distance')\n",
    "plt.axhline(1.3, c='k', linestyle='dashed')\n",
    "plt.axhline(0.9, c='k', linestyle='dashed')\n",
    "plt.text(25, 1.35, '3 Cluster')\n",
    "plt.text(22, 0.95, '4 Cluster')"
   ]
  },
  {
   "cell_type": "markdown",
   "id": "716e5aa3",
   "metadata": {},
   "source": [
    "# Observations\n",
    "* It can be seen from the picture that if we stop cluster merging at a distance of approximately 0.9, we will get 4 clusters, and at 1.3 we will get 3 clusters.\n",
    "\n",
    "* Based on the total, we select 0.9 -- 4 clusters, because further, the distance between the clusters ceases to change significantly."
   ]
  },
  {
   "cell_type": "code",
   "execution_count": 360,
   "id": "7668129d",
   "metadata": {},
   "outputs": [],
   "source": [
    "df['cluster'] = fcluster(link, 0.9, criterion='distance')"
   ]
  },
  {
   "cell_type": "code",
   "execution_count": 361,
   "id": "1b39fdfc",
   "metadata": {},
   "outputs": [],
   "source": [
    "df[\"standard_of_living_coef\"] = df[\"Salary\"] / df[\"Price\"]"
   ]
  },
  {
   "cell_type": "code",
   "execution_count": 546,
   "id": "0d869ca0",
   "metadata": {},
   "outputs": [
    {
     "ename": "KeyError",
     "evalue": "'cluster'",
     "output_type": "error",
     "traceback": [
      "\u001b[1;31m---------------------------------------------------------------------------\u001b[0m",
      "\u001b[1;31mKeyError\u001b[0m                                  Traceback (most recent call last)",
      "Input \u001b[1;32mIn [546]\u001b[0m, in \u001b[0;36m<cell line: 1>\u001b[1;34m()\u001b[0m\n\u001b[1;32m----> 1\u001b[0m \u001b[43mdf\u001b[49m\u001b[38;5;241;43m.\u001b[39;49m\u001b[43mgroupby\u001b[49m\u001b[43m(\u001b[49m\u001b[38;5;124;43m'\u001b[39;49m\u001b[38;5;124;43mcluster\u001b[39;49m\u001b[38;5;124;43m'\u001b[39;49m\u001b[43m)\u001b[49m\u001b[38;5;241m.\u001b[39mmean()\n",
      "File \u001b[1;32mC:\\ProgramData\\Anaconda3\\lib\\site-packages\\pandas\\core\\frame.py:7712\u001b[0m, in \u001b[0;36mDataFrame.groupby\u001b[1;34m(self, by, axis, level, as_index, sort, group_keys, squeeze, observed, dropna)\u001b[0m\n\u001b[0;32m   7707\u001b[0m axis \u001b[38;5;241m=\u001b[39m \u001b[38;5;28mself\u001b[39m\u001b[38;5;241m.\u001b[39m_get_axis_number(axis)\n\u001b[0;32m   7709\u001b[0m \u001b[38;5;66;03m# https://github.com/python/mypy/issues/7642\u001b[39;00m\n\u001b[0;32m   7710\u001b[0m \u001b[38;5;66;03m# error: Argument \"squeeze\" to \"DataFrameGroupBy\" has incompatible type\u001b[39;00m\n\u001b[0;32m   7711\u001b[0m \u001b[38;5;66;03m# \"Union[bool, NoDefault]\"; expected \"bool\"\u001b[39;00m\n\u001b[1;32m-> 7712\u001b[0m \u001b[38;5;28;01mreturn\u001b[39;00m \u001b[43mDataFrameGroupBy\u001b[49m\u001b[43m(\u001b[49m\n\u001b[0;32m   7713\u001b[0m \u001b[43m    \u001b[49m\u001b[43mobj\u001b[49m\u001b[38;5;241;43m=\u001b[39;49m\u001b[38;5;28;43mself\u001b[39;49m\u001b[43m,\u001b[49m\n\u001b[0;32m   7714\u001b[0m \u001b[43m    \u001b[49m\u001b[43mkeys\u001b[49m\u001b[38;5;241;43m=\u001b[39;49m\u001b[43mby\u001b[49m\u001b[43m,\u001b[49m\n\u001b[0;32m   7715\u001b[0m \u001b[43m    \u001b[49m\u001b[43maxis\u001b[49m\u001b[38;5;241;43m=\u001b[39;49m\u001b[43maxis\u001b[49m\u001b[43m,\u001b[49m\n\u001b[0;32m   7716\u001b[0m \u001b[43m    \u001b[49m\u001b[43mlevel\u001b[49m\u001b[38;5;241;43m=\u001b[39;49m\u001b[43mlevel\u001b[49m\u001b[43m,\u001b[49m\n\u001b[0;32m   7717\u001b[0m \u001b[43m    \u001b[49m\u001b[43mas_index\u001b[49m\u001b[38;5;241;43m=\u001b[39;49m\u001b[43mas_index\u001b[49m\u001b[43m,\u001b[49m\n\u001b[0;32m   7718\u001b[0m \u001b[43m    \u001b[49m\u001b[43msort\u001b[49m\u001b[38;5;241;43m=\u001b[39;49m\u001b[43msort\u001b[49m\u001b[43m,\u001b[49m\n\u001b[0;32m   7719\u001b[0m \u001b[43m    \u001b[49m\u001b[43mgroup_keys\u001b[49m\u001b[38;5;241;43m=\u001b[39;49m\u001b[43mgroup_keys\u001b[49m\u001b[43m,\u001b[49m\n\u001b[0;32m   7720\u001b[0m \u001b[43m    \u001b[49m\u001b[43msqueeze\u001b[49m\u001b[38;5;241;43m=\u001b[39;49m\u001b[43msqueeze\u001b[49m\u001b[43m,\u001b[49m\u001b[43m  \u001b[49m\u001b[38;5;66;43;03m# type: ignore[arg-type]\u001b[39;49;00m\n\u001b[0;32m   7721\u001b[0m \u001b[43m    \u001b[49m\u001b[43mobserved\u001b[49m\u001b[38;5;241;43m=\u001b[39;49m\u001b[43mobserved\u001b[49m\u001b[43m,\u001b[49m\n\u001b[0;32m   7722\u001b[0m \u001b[43m    \u001b[49m\u001b[43mdropna\u001b[49m\u001b[38;5;241;43m=\u001b[39;49m\u001b[43mdropna\u001b[49m\u001b[43m,\u001b[49m\n\u001b[0;32m   7723\u001b[0m \u001b[43m\u001b[49m\u001b[43m)\u001b[49m\n",
      "File \u001b[1;32mC:\\ProgramData\\Anaconda3\\lib\\site-packages\\pandas\\core\\groupby\\groupby.py:882\u001b[0m, in \u001b[0;36mGroupBy.__init__\u001b[1;34m(self, obj, keys, axis, level, grouper, exclusions, selection, as_index, sort, group_keys, squeeze, observed, mutated, dropna)\u001b[0m\n\u001b[0;32m    879\u001b[0m \u001b[38;5;28;01mif\u001b[39;00m grouper \u001b[38;5;129;01mis\u001b[39;00m \u001b[38;5;28;01mNone\u001b[39;00m:\n\u001b[0;32m    880\u001b[0m     \u001b[38;5;28;01mfrom\u001b[39;00m \u001b[38;5;21;01mpandas\u001b[39;00m\u001b[38;5;21;01m.\u001b[39;00m\u001b[38;5;21;01mcore\u001b[39;00m\u001b[38;5;21;01m.\u001b[39;00m\u001b[38;5;21;01mgroupby\u001b[39;00m\u001b[38;5;21;01m.\u001b[39;00m\u001b[38;5;21;01mgrouper\u001b[39;00m \u001b[38;5;28;01mimport\u001b[39;00m get_grouper\n\u001b[1;32m--> 882\u001b[0m     grouper, exclusions, obj \u001b[38;5;241m=\u001b[39m \u001b[43mget_grouper\u001b[49m\u001b[43m(\u001b[49m\n\u001b[0;32m    883\u001b[0m \u001b[43m        \u001b[49m\u001b[43mobj\u001b[49m\u001b[43m,\u001b[49m\n\u001b[0;32m    884\u001b[0m \u001b[43m        \u001b[49m\u001b[43mkeys\u001b[49m\u001b[43m,\u001b[49m\n\u001b[0;32m    885\u001b[0m \u001b[43m        \u001b[49m\u001b[43maxis\u001b[49m\u001b[38;5;241;43m=\u001b[39;49m\u001b[43maxis\u001b[49m\u001b[43m,\u001b[49m\n\u001b[0;32m    886\u001b[0m \u001b[43m        \u001b[49m\u001b[43mlevel\u001b[49m\u001b[38;5;241;43m=\u001b[39;49m\u001b[43mlevel\u001b[49m\u001b[43m,\u001b[49m\n\u001b[0;32m    887\u001b[0m \u001b[43m        \u001b[49m\u001b[43msort\u001b[49m\u001b[38;5;241;43m=\u001b[39;49m\u001b[43msort\u001b[49m\u001b[43m,\u001b[49m\n\u001b[0;32m    888\u001b[0m \u001b[43m        \u001b[49m\u001b[43mobserved\u001b[49m\u001b[38;5;241;43m=\u001b[39;49m\u001b[43mobserved\u001b[49m\u001b[43m,\u001b[49m\n\u001b[0;32m    889\u001b[0m \u001b[43m        \u001b[49m\u001b[43mmutated\u001b[49m\u001b[38;5;241;43m=\u001b[39;49m\u001b[38;5;28;43mself\u001b[39;49m\u001b[38;5;241;43m.\u001b[39;49m\u001b[43mmutated\u001b[49m\u001b[43m,\u001b[49m\n\u001b[0;32m    890\u001b[0m \u001b[43m        \u001b[49m\u001b[43mdropna\u001b[49m\u001b[38;5;241;43m=\u001b[39;49m\u001b[38;5;28;43mself\u001b[39;49m\u001b[38;5;241;43m.\u001b[39;49m\u001b[43mdropna\u001b[49m\u001b[43m,\u001b[49m\n\u001b[0;32m    891\u001b[0m \u001b[43m    \u001b[49m\u001b[43m)\u001b[49m\n\u001b[0;32m    893\u001b[0m \u001b[38;5;28mself\u001b[39m\u001b[38;5;241m.\u001b[39mobj \u001b[38;5;241m=\u001b[39m obj\n\u001b[0;32m    894\u001b[0m \u001b[38;5;28mself\u001b[39m\u001b[38;5;241m.\u001b[39maxis \u001b[38;5;241m=\u001b[39m obj\u001b[38;5;241m.\u001b[39m_get_axis_number(axis)\n",
      "File \u001b[1;32mC:\\ProgramData\\Anaconda3\\lib\\site-packages\\pandas\\core\\groupby\\grouper.py:882\u001b[0m, in \u001b[0;36mget_grouper\u001b[1;34m(obj, key, axis, level, sort, observed, mutated, validate, dropna)\u001b[0m\n\u001b[0;32m    880\u001b[0m         in_axis, level, gpr \u001b[38;5;241m=\u001b[39m \u001b[38;5;28;01mFalse\u001b[39;00m, gpr, \u001b[38;5;28;01mNone\u001b[39;00m\n\u001b[0;32m    881\u001b[0m     \u001b[38;5;28;01melse\u001b[39;00m:\n\u001b[1;32m--> 882\u001b[0m         \u001b[38;5;28;01mraise\u001b[39;00m \u001b[38;5;167;01mKeyError\u001b[39;00m(gpr)\n\u001b[0;32m    883\u001b[0m \u001b[38;5;28;01melif\u001b[39;00m \u001b[38;5;28misinstance\u001b[39m(gpr, Grouper) \u001b[38;5;129;01mand\u001b[39;00m gpr\u001b[38;5;241m.\u001b[39mkey \u001b[38;5;129;01mis\u001b[39;00m \u001b[38;5;129;01mnot\u001b[39;00m \u001b[38;5;28;01mNone\u001b[39;00m:\n\u001b[0;32m    884\u001b[0m     \u001b[38;5;66;03m# Add key to exclusions\u001b[39;00m\n\u001b[0;32m    885\u001b[0m     exclusions\u001b[38;5;241m.\u001b[39madd(gpr\u001b[38;5;241m.\u001b[39mkey)\n",
      "\u001b[1;31mKeyError\u001b[0m: 'cluster'"
     ]
    }
   ],
   "source": [
    "df.groupby('cluster').size()"
   ]
  },
  {
   "cell_type": "markdown",
   "id": "f40977da",
   "metadata": {},
   "source": [
    "* Look at the 3rd cluster that consists of two objects"
   ]
  },
  {
   "cell_type": "code",
   "execution_count": 363,
   "id": "9342648b",
   "metadata": {},
   "outputs": [
    {
     "data": {
      "text/html": [
       "<div>\n",
       "<style scoped>\n",
       "    .dataframe tbody tr th:only-of-type {\n",
       "        vertical-align: middle;\n",
       "    }\n",
       "\n",
       "    .dataframe tbody tr th {\n",
       "        vertical-align: top;\n",
       "    }\n",
       "\n",
       "    .dataframe thead th {\n",
       "        text-align: right;\n",
       "    }\n",
       "</style>\n",
       "<table border=\"1\" class=\"dataframe\">\n",
       "  <thead>\n",
       "    <tr style=\"text-align: right;\">\n",
       "      <th></th>\n",
       "      <th>Work</th>\n",
       "      <th>Price</th>\n",
       "      <th>Salary</th>\n",
       "      <th>cluster</th>\n",
       "      <th>standard_of_living_coef</th>\n",
       "    </tr>\n",
       "    <tr>\n",
       "      <th>City</th>\n",
       "      <th></th>\n",
       "      <th></th>\n",
       "      <th></th>\n",
       "      <th></th>\n",
       "      <th></th>\n",
       "    </tr>\n",
       "  </thead>\n",
       "  <tbody>\n",
       "    <tr>\n",
       "      <th>Cairo</th>\n",
       "      <td>0.0</td>\n",
       "      <td>37.1</td>\n",
       "      <td>0.0</td>\n",
       "      <td>3</td>\n",
       "      <td>0.0</td>\n",
       "    </tr>\n",
       "    <tr>\n",
       "      <th>Jakarta</th>\n",
       "      <td>0.0</td>\n",
       "      <td>43.6</td>\n",
       "      <td>0.0</td>\n",
       "      <td>3</td>\n",
       "      <td>0.0</td>\n",
       "    </tr>\n",
       "  </tbody>\n",
       "</table>\n",
       "</div>"
      ],
      "text/plain": [
       "         Work  Price  Salary  cluster  standard_of_living_coef\n",
       "City                                                          \n",
       "Cairo     0.0   37.1     0.0        3                      0.0\n",
       "Jakarta   0.0   43.6     0.0        3                      0.0"
      ]
     },
     "execution_count": 363,
     "metadata": {},
     "output_type": "execute_result"
    }
   ],
   "source": []
  },
  {
   "cell_type": "markdown",
   "id": "060fcd09",
   "metadata": {},
   "source": [
    "* as expected, the cities of Cairo and Jakarta fell into a separate cluster"
   ]
  },
  {
   "cell_type": "markdown",
   "id": "cccfdba1",
   "metadata": {},
   "source": [
    "* Let's calculate the average values ​​of features for all clusters"
   ]
  },
  {
   "cell_type": "code",
   "execution_count": 364,
   "id": "d691fbf5",
   "metadata": {},
   "outputs": [
    {
     "data": {
      "text/html": [
       "<div>\n",
       "<style scoped>\n",
       "    .dataframe tbody tr th:only-of-type {\n",
       "        vertical-align: middle;\n",
       "    }\n",
       "\n",
       "    .dataframe tbody tr th {\n",
       "        vertical-align: top;\n",
       "    }\n",
       "\n",
       "    .dataframe thead th {\n",
       "        text-align: right;\n",
       "    }\n",
       "</style>\n",
       "<table border=\"1\" class=\"dataframe\">\n",
       "  <thead>\n",
       "    <tr style=\"text-align: right;\">\n",
       "      <th></th>\n",
       "      <th>Work</th>\n",
       "      <th>Price</th>\n",
       "      <th>Salary</th>\n",
       "      <th>standard_of_living_coef</th>\n",
       "    </tr>\n",
       "    <tr>\n",
       "      <th>cluster</th>\n",
       "      <th></th>\n",
       "      <th></th>\n",
       "      <th></th>\n",
       "      <th></th>\n",
       "    </tr>\n",
       "  </thead>\n",
       "  <tbody>\n",
       "    <tr>\n",
       "      <th>1</th>\n",
       "      <td>1801.235294</td>\n",
       "      <td>75.758824</td>\n",
       "      <td>55.005882</td>\n",
       "      <td>0.729432</td>\n",
       "    </tr>\n",
       "    <tr>\n",
       "      <th>2</th>\n",
       "      <td>1763.750000</td>\n",
       "      <td>104.550000</td>\n",
       "      <td>67.587500</td>\n",
       "      <td>0.655610</td>\n",
       "    </tr>\n",
       "    <tr>\n",
       "      <th>3</th>\n",
       "      <td>0.000000</td>\n",
       "      <td>40.350000</td>\n",
       "      <td>0.000000</td>\n",
       "      <td>0.000000</td>\n",
       "    </tr>\n",
       "    <tr>\n",
       "      <th>4</th>\n",
       "      <td>1987.857143</td>\n",
       "      <td>52.395238</td>\n",
       "      <td>16.347619</td>\n",
       "      <td>0.298186</td>\n",
       "    </tr>\n",
       "  </tbody>\n",
       "</table>\n",
       "</div>"
      ],
      "text/plain": [
       "                Work       Price     Salary  standard_of_living_coef\n",
       "cluster                                                             \n",
       "1        1801.235294   75.758824  55.005882                 0.729432\n",
       "2        1763.750000  104.550000  67.587500                 0.655610\n",
       "3           0.000000   40.350000   0.000000                 0.000000\n",
       "4        1987.857143   52.395238  16.347619                 0.298186"
      ]
     },
     "execution_count": 364,
     "metadata": {},
     "output_type": "execute_result"
    }
   ],
   "source": [
    "df.groupby('cluster').mean()"
   ]
  },
  {
   "cell_type": "code",
   "execution_count": 365,
   "id": "682c525c",
   "metadata": {},
   "outputs": [
    {
     "data": {
      "text/plain": [
       "array(['Amsterdam', 'Brussels', 'Chicago', 'Dublin', 'Dusseldorf',\n",
       "       'Frankfurt', 'Houston', 'London', 'Los_Angeles', 'Luxembourg',\n",
       "       'Milan', 'Montreal', 'New_York', 'Paris', 'Sydney', 'Toronto',\n",
       "       'Vienna'], dtype=object)"
      ]
     },
     "execution_count": 365,
     "metadata": {},
     "output_type": "execute_result"
    }
   ],
   "source": [
    "# Let's see which countries are in the first cluster\n",
    "df[df.cluster == 1].index.values"
   ]
  },
  {
   "cell_type": "code",
   "execution_count": 366,
   "id": "2118fbd7",
   "metadata": {},
   "outputs": [
    {
     "data": {
      "text/plain": [
       "array(['Copenhagen', 'Geneva', 'Helsinki', 'Madrid', 'Oslo', 'Stockholm',\n",
       "       'Tokyo', 'Zurich'], dtype=object)"
      ]
     },
     "execution_count": 366,
     "metadata": {},
     "output_type": "execute_result"
    }
   ],
   "source": [
    "# Let's see which countries are in the second cluster\n",
    "df[df.cluster == 2].index.values"
   ]
  },
  {
   "cell_type": "code",
   "execution_count": 367,
   "id": "b89c9239",
   "metadata": {},
   "outputs": [
    {
     "data": {
      "text/plain": [
       "array(['Cairo', 'Jakarta'], dtype=object)"
      ]
     },
     "execution_count": 367,
     "metadata": {},
     "output_type": "execute_result"
    }
   ],
   "source": [
    "# Let's see which countries are in the third cluster\n",
    "df[df.cluster == 3].index.values"
   ]
  },
  {
   "cell_type": "code",
   "execution_count": 368,
   "id": "aad08149",
   "metadata": {},
   "outputs": [
    {
     "data": {
      "text/plain": [
       "array(['Athens', 'Bogota', 'Bombay', 'Buenos_Aires', 'Caracas',\n",
       "       'Hong_Kong', 'Johannesburg', 'Kuala_Lumpur', 'Lagos', 'Lisbon',\n",
       "       'Manila', 'Mexico_City', 'Nairobi', 'Nicosia', 'Panama',\n",
       "       'Rio_de_Janeiro', 'San_Paulo', 'Seoul', 'Singpore', 'Taipei',\n",
       "       'Tel_Aviv'], dtype=object)"
      ]
     },
     "execution_count": 368,
     "metadata": {},
     "output_type": "execute_result"
    }
   ],
   "source": [
    "# Let's see which countries are in the forth cluster\n",
    "df[df.cluster == 4].index.values"
   ]
  },
  {
   "cell_type": "markdown",
   "id": "cf92eff4",
   "metadata": {},
   "source": [
    "# Let's do Factor Analysis\n",
    "\n",
    "#### First we need to read our data again\n",
    "    * Because, we did clustering"
   ]
  },
  {
   "cell_type": "markdown",
   "id": "e35aaae7",
   "metadata": {},
   "source": [
    "### Data Cleaning"
   ]
  },
  {
   "cell_type": "code",
   "execution_count": 523,
   "id": "f26d01e3",
   "metadata": {},
   "outputs": [
    {
     "data": {
      "text/html": [
       "<div>\n",
       "<style scoped>\n",
       "    .dataframe tbody tr th:only-of-type {\n",
       "        vertical-align: middle;\n",
       "    }\n",
       "\n",
       "    .dataframe tbody tr th {\n",
       "        vertical-align: top;\n",
       "    }\n",
       "\n",
       "    .dataframe thead th {\n",
       "        text-align: right;\n",
       "    }\n",
       "</style>\n",
       "<table border=\"1\" class=\"dataframe\">\n",
       "  <thead>\n",
       "    <tr style=\"text-align: right;\">\n",
       "      <th></th>\n",
       "      <th>Work</th>\n",
       "      <th>Price</th>\n",
       "      <th>Salary</th>\n",
       "    </tr>\n",
       "    <tr>\n",
       "      <th>City</th>\n",
       "      <th></th>\n",
       "      <th></th>\n",
       "      <th></th>\n",
       "    </tr>\n",
       "  </thead>\n",
       "  <tbody>\n",
       "    <tr>\n",
       "      <th>Amsterdam</th>\n",
       "      <td>1714.0</td>\n",
       "      <td>65.6</td>\n",
       "      <td>49.0</td>\n",
       "    </tr>\n",
       "    <tr>\n",
       "      <th>Athens</th>\n",
       "      <td>1792.0</td>\n",
       "      <td>53.8</td>\n",
       "      <td>30.4</td>\n",
       "    </tr>\n",
       "    <tr>\n",
       "      <th>Bogota</th>\n",
       "      <td>2152.0</td>\n",
       "      <td>37.9</td>\n",
       "      <td>11.5</td>\n",
       "    </tr>\n",
       "    <tr>\n",
       "      <th>Bombay</th>\n",
       "      <td>2052.0</td>\n",
       "      <td>30.3</td>\n",
       "      <td>5.3</td>\n",
       "    </tr>\n",
       "    <tr>\n",
       "      <th>Brussels</th>\n",
       "      <td>1708.0</td>\n",
       "      <td>73.8</td>\n",
       "      <td>50.5</td>\n",
       "    </tr>\n",
       "  </tbody>\n",
       "</table>\n",
       "</div>"
      ],
      "text/plain": [
       "             Work  Price  Salary\n",
       "City                            \n",
       "Amsterdam  1714.0   65.6    49.0\n",
       "Athens     1792.0   53.8    30.4\n",
       "Bogota     2152.0   37.9    11.5\n",
       "Bombay     2052.0   30.3     5.3\n",
       "Brussels   1708.0   73.8    50.5"
      ]
     },
     "execution_count": 523,
     "metadata": {},
     "output_type": "execute_result"
    }
   ],
   "source": [
    "df2 = pd.read_csv('Econom_Cities_data.csv', sep=\";\", decimal=',' , header = 0, index_col='City')\n",
    "df2 = df2.replace({'Work': -9999, 'Salary': -9999.0}, 0).astype(float)\n",
    "df2.head()"
   ]
  },
  {
   "cell_type": "code",
   "execution_count": 524,
   "id": "14768ca6",
   "metadata": {},
   "outputs": [
    {
     "data": {
      "text/html": [
       "<div>\n",
       "<style scoped>\n",
       "    .dataframe tbody tr th:only-of-type {\n",
       "        vertical-align: middle;\n",
       "    }\n",
       "\n",
       "    .dataframe tbody tr th {\n",
       "        vertical-align: top;\n",
       "    }\n",
       "\n",
       "    .dataframe thead th {\n",
       "        text-align: right;\n",
       "    }\n",
       "</style>\n",
       "<table border=\"1\" class=\"dataframe\">\n",
       "  <thead>\n",
       "    <tr style=\"text-align: right;\">\n",
       "      <th></th>\n",
       "      <th>Work</th>\n",
       "      <th>Price</th>\n",
       "      <th>Salary</th>\n",
       "    </tr>\n",
       "  </thead>\n",
       "  <tbody>\n",
       "    <tr>\n",
       "      <th>count</th>\n",
       "      <td>48.000000</td>\n",
       "      <td>48.000000</td>\n",
       "      <td>48.000000</td>\n",
       "    </tr>\n",
       "    <tr>\n",
       "      <th>mean</th>\n",
       "      <td>1801.583333</td>\n",
       "      <td>68.860417</td>\n",
       "      <td>37.897917</td>\n",
       "    </tr>\n",
       "    <tr>\n",
       "      <th>std</th>\n",
       "      <td>416.199361</td>\n",
       "      <td>21.784659</td>\n",
       "      <td>25.507558</td>\n",
       "    </tr>\n",
       "    <tr>\n",
       "      <th>min</th>\n",
       "      <td>0.000000</td>\n",
       "      <td>30.300000</td>\n",
       "      <td>0.000000</td>\n",
       "    </tr>\n",
       "    <tr>\n",
       "      <th>25%</th>\n",
       "      <td>1740.750000</td>\n",
       "      <td>49.650000</td>\n",
       "      <td>12.250000</td>\n",
       "    </tr>\n",
       "    <tr>\n",
       "      <th>50%</th>\n",
       "      <td>1834.500000</td>\n",
       "      <td>70.500000</td>\n",
       "      <td>40.300000</td>\n",
       "    </tr>\n",
       "    <tr>\n",
       "      <th>75%</th>\n",
       "      <td>1972.750000</td>\n",
       "      <td>81.700000</td>\n",
       "      <td>58.700000</td>\n",
       "    </tr>\n",
       "    <tr>\n",
       "      <th>max</th>\n",
       "      <td>2375.000000</td>\n",
       "      <td>115.500000</td>\n",
       "      <td>100.000000</td>\n",
       "    </tr>\n",
       "  </tbody>\n",
       "</table>\n",
       "</div>"
      ],
      "text/plain": [
       "              Work       Price      Salary\n",
       "count    48.000000   48.000000   48.000000\n",
       "mean   1801.583333   68.860417   37.897917\n",
       "std     416.199361   21.784659   25.507558\n",
       "min       0.000000   30.300000    0.000000\n",
       "25%    1740.750000   49.650000   12.250000\n",
       "50%    1834.500000   70.500000   40.300000\n",
       "75%    1972.750000   81.700000   58.700000\n",
       "max    2375.000000  115.500000  100.000000"
      ]
     },
     "execution_count": 524,
     "metadata": {},
     "output_type": "execute_result"
    }
   ],
   "source": [
    "df2.describe()"
   ]
  },
  {
   "cell_type": "code",
   "execution_count": 525,
   "id": "434acc56",
   "metadata": {},
   "outputs": [
    {
     "data": {
      "text/html": [
       "<div>\n",
       "<style scoped>\n",
       "    .dataframe tbody tr th:only-of-type {\n",
       "        vertical-align: middle;\n",
       "    }\n",
       "\n",
       "    .dataframe tbody tr th {\n",
       "        vertical-align: top;\n",
       "    }\n",
       "\n",
       "    .dataframe thead th {\n",
       "        text-align: right;\n",
       "    }\n",
       "</style>\n",
       "<table border=\"1\" class=\"dataframe\">\n",
       "  <thead>\n",
       "    <tr style=\"text-align: right;\">\n",
       "      <th></th>\n",
       "      <th>Work</th>\n",
       "      <th>Price</th>\n",
       "      <th>Salary</th>\n",
       "    </tr>\n",
       "  </thead>\n",
       "  <tbody>\n",
       "    <tr>\n",
       "      <th>Work</th>\n",
       "      <td>1.000000</td>\n",
       "      <td>0.073488</td>\n",
       "      <td>0.107600</td>\n",
       "    </tr>\n",
       "    <tr>\n",
       "      <th>Price</th>\n",
       "      <td>0.073488</td>\n",
       "      <td>1.000000</td>\n",
       "      <td>0.819774</td>\n",
       "    </tr>\n",
       "    <tr>\n",
       "      <th>Salary</th>\n",
       "      <td>0.107600</td>\n",
       "      <td>0.819774</td>\n",
       "      <td>1.000000</td>\n",
       "    </tr>\n",
       "  </tbody>\n",
       "</table>\n",
       "</div>"
      ],
      "text/plain": [
       "            Work     Price    Salary\n",
       "Work    1.000000  0.073488  0.107600\n",
       "Price   0.073488  1.000000  0.819774\n",
       "Salary  0.107600  0.819774  1.000000"
      ]
     },
     "execution_count": 525,
     "metadata": {},
     "output_type": "execute_result"
    }
   ],
   "source": [
    "df2.corr()"
   ]
  },
  {
   "cell_type": "code",
   "execution_count": 526,
   "id": "43c55ef2",
   "metadata": {},
   "outputs": [
    {
     "data": {
      "image/png": "[encoded data removed]",
      "text/plain": [
       "<Figure size 432x288 with 9 Axes>"
      ]
     },
     "metadata": {
      "needs_background": "light"
     },
     "output_type": "display_data"
    }
   ],
   "source": [
    "from pandas.plotting import scatter_matrix\n",
    "scatter_matrix(df2);"
   ]
  },
  {
   "cell_type": "markdown",
   "id": "56e80e3c",
   "metadata": {},
   "source": [
    "* We see that these features are far from normal, there is no correlation between features."
   ]
  },
  {
   "cell_type": "markdown",
   "id": "de67d82d",
   "metadata": {},
   "source": [
    "#### We standardize the variables. From the preliminary analysis it is clear that this is important."
   ]
  },
  {
   "cell_type": "code",
   "execution_count": 527,
   "id": "667b6d19",
   "metadata": {},
   "outputs": [],
   "source": [
    "import math\n",
    "from sklearn import preprocessing\n",
    "#  from sklearn.decomposition import PCA\n",
    "\n",
    "\n",
    "# Функция для стандартизации фич\n",
    "def scale_features(df2):\n",
    "    scaled = preprocessing.StandardScaler().fit_transform(df2)\n",
    "    scaled = pd.DataFrame(scaled, columns=df2.columns)\n",
    "    return scaled"
   ]
  },
  {
   "cell_type": "code",
   "execution_count": 528,
   "id": "fcbd6f36",
   "metadata": {},
   "outputs": [],
   "source": [
    "df_scaled = preprocessing.scale(df2)"
   ]
  },
  {
   "cell_type": "markdown",
   "id": "268e9692",
   "metadata": {},
   "source": [
    "* Let's try using the method of principal components to project data onto a two-dimensional plane. That is, we distinguish two main components. The implementation of the method is contained in the PCA library class sklearn.decomposition."
   ]
  },
  {
   "cell_type": "code",
   "execution_count": 529,
   "id": "7eac3897",
   "metadata": {},
   "outputs": [],
   "source": [
    "from sklearn.decomposition import PCA"
   ]
  },
  {
   "cell_type": "code",
   "execution_count": 530,
   "id": "d142c6a6",
   "metadata": {},
   "outputs": [
    {
     "name": "stdout",
     "output_type": "stream",
     "text": [
      "[0.61310587 0.32705811 0.05983602]\n"
     ]
    }
   ],
   "source": [
    "pca = PCA(n_components=3)\n",
    "pca.fit(df_scaled)\n",
    "print(pca.explained_variance_ratio_)"
   ]
  },
  {
   "cell_type": "markdown",
   "id": "6c0a2a28",
   "metadata": {},
   "source": [
    "* The coordinates of the components themselves are in the components_."
   ]
  },
  {
   "cell_type": "code",
   "execution_count": 531,
   "id": "56650468",
   "metadata": {},
   "outputs": [
    {
     "name": "stdout",
     "output_type": "stream",
     "text": [
      "[[ 0.15087846  0.69745927  0.70056139]\n",
      " [-0.98810466  0.12772698  0.08564466]\n",
      " [ 0.02974693  0.7051499  -0.708434  ]]\n"
     ]
    }
   ],
   "source": [
    "print (pca.components_)"
   ]
  },
  {
   "cell_type": "code",
   "execution_count": 532,
   "id": "8dbd9e98",
   "metadata": {},
   "outputs": [
    {
     "name": "stdout",
     "output_type": "stream",
     "text": [
      "Explained variance by component: [0.61310587 0.32705811 0.05983602]\n"
     ]
    }
   ],
   "source": [
    "print ('Explained variance by component: %s' % pca.explained_variance_ratio_)"
   ]
  },
  {
   "cell_type": "code",
   "execution_count": 533,
   "id": "55838f61",
   "metadata": {},
   "outputs": [
    {
     "data": {
      "text/plain": [
       "array([9.39612927, 6.86267938, 2.9353682 ])"
      ]
     },
     "execution_count": 533,
     "metadata": {},
     "output_type": "execute_result"
    }
   ],
   "source": [
    "pca.singular_values_"
   ]
  },
  {
   "cell_type": "code",
   "execution_count": 534,
   "id": "2c546668",
   "metadata": {},
   "outputs": [
    {
     "data": {
      "text/plain": [
       "array([0.61310587, 0.32705811, 0.05983602])"
      ]
     },
     "execution_count": 534,
     "metadata": {},
     "output_type": "execute_result"
    }
   ],
   "source": [
    "pca.explained_variance_ratio_"
   ]
  },
  {
   "cell_type": "code",
   "execution_count": 535,
   "id": "639a7dab",
   "metadata": {},
   "outputs": [
    {
     "data": {
      "text/plain": [
       "array([[ 1.70567197e-01,  2.28485604e-01, -4.24586282e-01],\n",
       "       [-6.98897211e-01, -9.16849618e-02, -2.82896148e-01],\n",
       "       [-1.60603225e+00, -1.11375178e+00, -2.46534918e-01],\n",
       "       [-2.06064852e+00, -9.39897144e-01, -3.28348437e-01],\n",
       "       [ 4.75312336e-01,  2.96557456e-01, -1.98885279e-01],\n",
       "       [-1.05572752e+00, -5.68257875e-01,  3.07676126e-01],\n",
       "       [-2.73949199e+00,  4.00564576e+00, -1.05366208e-01],\n",
       "       [-9.15952837e-01, -7.12600018e-01,  5.17927062e-01],\n",
       "       [ 8.74092326e-01, -1.82403391e-01, -4.99980995e-01],\n",
       "       [ 1.38898802e+00,  4.20730517e-01,  2.61827770e-02],\n",
       "       [ 3.12601958e-01,  1.56354135e-01,  1.32177373e-01],\n",
       "       [ 8.91113312e-01,  3.93308052e-01, -3.18477780e-01],\n",
       "       [ 7.51491800e-01,  4.73453061e-01, -4.58043688e-01],\n",
       "       [ 2.35803630e+00,  1.49883094e-01, -5.80617102e-01],\n",
       "       [ 2.19487958e+00,  6.85379173e-01,  6.48191594e-01],\n",
       "       [-2.33930012e-01, -1.44001049e+00,  1.59305116e-01],\n",
       "       [ 3.96179787e-01, -3.76745773e-01, -1.23652453e-01],\n",
       "       [-2.52918528e+00,  4.04415961e+00,  1.07259477e-01],\n",
       "       [-9.07838837e-01, -4.96482510e-01, -1.80535162e-01],\n",
       "       [-1.46375846e+00, -1.12198822e+00, -1.73584337e-02],\n",
       "       [-1.74817452e+00, -2.22236589e-01,  2.12817350e-01],\n",
       "       [-9.61526818e-01,  3.13686244e-03,  1.17582193e-01],\n",
       "       [ 7.03078618e-01,  2.74011183e-01,  2.64100286e-01],\n",
       "       [ 1.20933381e+00, -4.81737459e-01, -3.89203725e-01],\n",
       "       [ 9.81698458e-01,  2.06504049e-01, -8.61061431e-01],\n",
       "       [ 1.10926485e+00,  4.08566557e-01,  4.69525756e-01],\n",
       "       [-1.70375650e+00, -1.40506901e+00,  4.10436212e-02],\n",
       "       [-1.45819211e+00, -5.63880695e-01,  2.90500911e-01],\n",
       "       [ 8.42150551e-01,  1.98694547e-01, -4.54362922e-03],\n",
       "       [ 6.44299633e-01,  2.42107472e-02, -3.89063747e-01],\n",
       "       [-1.60559106e+00, -6.25571700e-01,  1.31689488e-01],\n",
       "       [ 1.29306894e+00, -1.56659427e-01, -3.00654282e-01],\n",
       "       [-9.35987948e-01, -2.12944137e-01, -4.14569743e-01],\n",
       "       [ 2.14508942e+00,  8.88332874e-01,  7.85671933e-01],\n",
       "       [-1.20369447e+00, -8.61449116e-01,  5.32066794e-02],\n",
       "       [ 6.13193743e-01,  2.40793036e-01,  1.87975836e-01],\n",
       "       [-1.50964627e+00, -1.00480503e-01,  2.72019521e-02],\n",
       "       [-1.36967072e+00, -3.39757477e-01,  1.03140302e-01],\n",
       "       [-4.71145061e-01, -1.77179153e-01, -1.96637316e-01],\n",
       "       [-6.61251319e-01, -6.77209168e-01,  4.83268394e-01],\n",
       "       [ 1.41051922e+00,  2.47684110e-01,  1.35196922e+00],\n",
       "       [ 4.08002450e-01,  3.80180371e-01, -3.44817217e-01],\n",
       "       [ 5.31046058e-01, -7.43985024e-01,  6.25229528e-01],\n",
       "       [-2.74778741e-01, -5.58261316e-01,  2.70247304e-01],\n",
       "       [ 2.35706690e+00,  1.87387304e-01,  6.70078338e-01],\n",
       "       [ 6.38495300e-01, -1.30508768e-01, -5.19764942e-01],\n",
       "       [ 6.59784503e-01,  1.51412754e-01, -7.87497985e-02],\n",
       "       [ 2.75552340e+00,  2.35880853e-01, -7.19619902e-01]])"
      ]
     },
     "execution_count": 535,
     "metadata": {},
     "output_type": "execute_result"
    }
   ],
   "source": [
    "data = pca.transform(df_scaled)\n",
    "data"
   ]
  },
  {
   "cell_type": "markdown",
   "id": "c1656abe",
   "metadata": {},
   "source": [
    "* Let's try using factor analysis to build new features that would be more convenient to use with minimal loss of information.\n",
    "* We use the class FactorAnalysisfrom sklearn.decomposition. Let's start with two factors."
   ]
  },
  {
   "cell_type": "code",
   "execution_count": 536,
   "id": "c5fa0971",
   "metadata": {},
   "outputs": [
    {
     "data": {
      "text/plain": [
       "FactorAnalysis(n_components=2)"
      ]
     },
     "execution_count": 536,
     "metadata": {},
     "output_type": "execute_result"
    }
   ],
   "source": [
    "from sklearn.decomposition import FactorAnalysis\n",
    "\n",
    "fa = FactorAnalysis(n_components=2)\n",
    "fa.fit(df_scaled)"
   ]
  },
  {
   "cell_type": "code",
   "execution_count": 537,
   "id": "fd797305",
   "metadata": {},
   "outputs": [
    {
     "data": {
      "text/html": [
       "<div>\n",
       "<style scoped>\n",
       "    .dataframe tbody tr th:only-of-type {\n",
       "        vertical-align: middle;\n",
       "    }\n",
       "\n",
       "    .dataframe tbody tr th {\n",
       "        vertical-align: top;\n",
       "    }\n",
       "\n",
       "    .dataframe thead th {\n",
       "        text-align: right;\n",
       "    }\n",
       "</style>\n",
       "<table border=\"1\" class=\"dataframe\">\n",
       "  <thead>\n",
       "    <tr style=\"text-align: right;\">\n",
       "      <th></th>\n",
       "      <th>Work</th>\n",
       "      <th>Price</th>\n",
       "      <th>Salary</th>\n",
       "    </tr>\n",
       "  </thead>\n",
       "  <tbody>\n",
       "    <tr>\n",
       "      <th>0</th>\n",
       "      <td>0.101013</td>\n",
       "      <td>0.904711</td>\n",
       "      <td>0.907019</td>\n",
       "    </tr>\n",
       "    <tr>\n",
       "      <th>1</th>\n",
       "      <td>-0.278079</td>\n",
       "      <td>0.053454</td>\n",
       "      <td>-0.046344</td>\n",
       "    </tr>\n",
       "  </tbody>\n",
       "</table>\n",
       "</div>"
      ],
      "text/plain": [
       "       Work     Price    Salary\n",
       "0  0.101013  0.904711  0.907019\n",
       "1 -0.278079  0.053454 -0.046344"
      ]
     },
     "execution_count": 537,
     "metadata": {},
     "output_type": "execute_result"
    }
   ],
   "source": [
    "pd.DataFrame(fa.components_, columns=df2.columns)"
   ]
  },
  {
   "cell_type": "markdown",
   "id": "44eb2e24",
   "metadata": {},
   "source": [
    "* We see that the first (zero) factor strongly correlates with high salary and price features (cities with more salary increases the price for 12 good), so it can be interpreted as more salary, high price. \n",
    "\n",
    "* The second factor, on the contrary, correlates with the features associated with the high price for low work and salary. That is, we have reduced the space of seven features to two new interpretable features.\n",
    "\n",
    "* The uniqueness of features in the sense of the variance explained by the factors (the more, the worse it is explained by the factors) is contained in the attribute noise_variance_."
   ]
  },
  {
   "cell_type": "code",
   "execution_count": 538,
   "id": "f2166277",
   "metadata": {},
   "outputs": [
    {
     "name": "stdout",
     "output_type": "stream",
     "text": [
      "Uniqueness:\n"
     ]
    },
    {
     "data": {
      "text/plain": [
       "Work      0.918115\n",
       "Price     0.180273\n",
       "Salary    0.176862\n",
       "dtype: float64"
      ]
     },
     "execution_count": 538,
     "metadata": {},
     "output_type": "execute_result"
    }
   ],
   "source": [
    "print('Uniqueness:')\n",
    "pd.Series(fa.noise_variance_, df2.columns)"
   ]
  },
  {
   "cell_type": "markdown",
   "id": "3d18b544",
   "metadata": {},
   "source": [
    "    * Finally, the factors themselves (as new feature vectors) can be obtained by applying the transform"
   ]
  },
  {
   "cell_type": "code",
   "execution_count": 542,
   "id": "7cf496df",
   "metadata": {},
   "outputs": [
    {
     "data": {
      "text/html": [
       "<div>\n",
       "<style scoped>\n",
       "    .dataframe tbody tr th:only-of-type {\n",
       "        vertical-align: middle;\n",
       "    }\n",
       "\n",
       "    .dataframe tbody tr th {\n",
       "        vertical-align: top;\n",
       "    }\n",
       "\n",
       "    .dataframe thead th {\n",
       "        text-align: right;\n",
       "    }\n",
       "</style>\n",
       "<table border=\"1\" class=\"dataframe\">\n",
       "  <thead>\n",
       "    <tr style=\"text-align: right;\">\n",
       "      <th></th>\n",
       "      <th>factor1</th>\n",
       "      <th>factor2</th>\n",
       "    </tr>\n",
       "  </thead>\n",
       "  <tbody>\n",
       "    <tr>\n",
       "      <th>0</th>\n",
       "      <td>0.144397</td>\n",
       "      <td>-0.086038</td>\n",
       "    </tr>\n",
       "    <tr>\n",
       "      <th>1</th>\n",
       "      <td>-0.493208</td>\n",
       "      <td>-0.109938</td>\n",
       "    </tr>\n",
       "    <tr>\n",
       "      <th>2</th>\n",
       "      <td>-1.222956</td>\n",
       "      <td>-0.368210</td>\n",
       "    </tr>\n",
       "    <tr>\n",
       "      <th>3</th>\n",
       "      <td>-1.522454</td>\n",
       "      <td>-0.338210</td>\n",
       "    </tr>\n",
       "    <tr>\n",
       "      <th>4</th>\n",
       "      <td>0.361216</td>\n",
       "      <td>0.005342</td>\n",
       "    </tr>\n",
       "  </tbody>\n",
       "</table>\n",
       "</div>"
      ],
      "text/plain": [
       "    factor1   factor2\n",
       "0  0.144397 -0.086038\n",
       "1 -0.493208 -0.109938\n",
       "2 -1.222956 -0.368210\n",
       "3 -1.522454 -0.338210\n",
       "4  0.361216  0.005342"
      ]
     },
     "execution_count": 542,
     "metadata": {},
     "output_type": "execute_result"
    }
   ],
   "source": [
    "scores = pd.DataFrame(fa.transform(df_scaled), columns=['factor1', 'factor2'])\n",
    "scores.head()"
   ]
  },
  {
   "cell_type": "code",
   "execution_count": 543,
   "id": "4dbcd402",
   "metadata": {},
   "outputs": [
    {
     "data": {
      "text/html": [
       "<div>\n",
       "<style scoped>\n",
       "    .dataframe tbody tr th:only-of-type {\n",
       "        vertical-align: middle;\n",
       "    }\n",
       "\n",
       "    .dataframe tbody tr th {\n",
       "        vertical-align: top;\n",
       "    }\n",
       "\n",
       "    .dataframe thead th {\n",
       "        text-align: right;\n",
       "    }\n",
       "</style>\n",
       "<table border=\"1\" class=\"dataframe\">\n",
       "  <thead>\n",
       "    <tr style=\"text-align: right;\">\n",
       "      <th></th>\n",
       "      <th>factor1</th>\n",
       "      <th>factor2</th>\n",
       "    </tr>\n",
       "  </thead>\n",
       "  <tbody>\n",
       "    <tr>\n",
       "      <th>0</th>\n",
       "      <td>0.144397</td>\n",
       "      <td>-0.086038</td>\n",
       "    </tr>\n",
       "    <tr>\n",
       "      <th>1</th>\n",
       "      <td>-0.493208</td>\n",
       "      <td>-0.109938</td>\n",
       "    </tr>\n",
       "    <tr>\n",
       "      <th>2</th>\n",
       "      <td>-1.222956</td>\n",
       "      <td>-0.368210</td>\n",
       "    </tr>\n",
       "    <tr>\n",
       "      <th>3</th>\n",
       "      <td>-1.522454</td>\n",
       "      <td>-0.338210</td>\n",
       "    </tr>\n",
       "    <tr>\n",
       "      <th>4</th>\n",
       "      <td>0.361216</td>\n",
       "      <td>0.005342</td>\n",
       "    </tr>\n",
       "    <tr>\n",
       "      <th>5</th>\n",
       "      <td>-0.792499</td>\n",
       "      <td>-0.032773</td>\n",
       "    </tr>\n",
       "    <tr>\n",
       "      <th>6</th>\n",
       "      <td>-1.526566</td>\n",
       "      <td>1.152199</td>\n",
       "    </tr>\n",
       "    <tr>\n",
       "      <th>7</th>\n",
       "      <td>-0.710721</td>\n",
       "      <td>-0.003524</td>\n",
       "    </tr>\n",
       "    <tr>\n",
       "      <th>8</th>\n",
       "      <td>0.596171</td>\n",
       "      <td>-0.242654</td>\n",
       "    </tr>\n",
       "    <tr>\n",
       "      <th>9</th>\n",
       "      <td>1.007694</td>\n",
       "      <td>0.100081</td>\n",
       "    </tr>\n",
       "    <tr>\n",
       "      <th>10</th>\n",
       "      <td>0.231534</td>\n",
       "      <td>0.083768</td>\n",
       "    </tr>\n",
       "    <tr>\n",
       "      <th>11</th>\n",
       "      <td>0.661231</td>\n",
       "      <td>-0.017152</td>\n",
       "    </tr>\n",
       "    <tr>\n",
       "      <th>12</th>\n",
       "      <td>0.572817</td>\n",
       "      <td>-0.040056</td>\n",
       "    </tr>\n",
       "    <tr>\n",
       "      <th>13</th>\n",
       "      <td>1.662563</td>\n",
       "      <td>-0.206560</td>\n",
       "    </tr>\n",
       "    <tr>\n",
       "      <th>14</th>\n",
       "      <td>1.588901</td>\n",
       "      <td>0.374402</td>\n",
       "    </tr>\n",
       "    <tr>\n",
       "      <th>15</th>\n",
       "      <td>-0.301542</td>\n",
       "      <td>-0.347490</td>\n",
       "    </tr>\n",
       "    <tr>\n",
       "      <th>16</th>\n",
       "      <td>0.241294</td>\n",
       "      <td>-0.157485</td>\n",
       "    </tr>\n",
       "    <tr>\n",
       "      <th>17</th>\n",
       "      <td>-1.378251</td>\n",
       "      <td>1.232588</td>\n",
       "    </tr>\n",
       "    <tr>\n",
       "      <th>18</th>\n",
       "      <td>-0.678258</td>\n",
       "      <td>-0.184760</td>\n",
       "    </tr>\n",
       "    <tr>\n",
       "      <th>19</th>\n",
       "      <td>-1.126646</td>\n",
       "      <td>-0.293936</td>\n",
       "    </tr>\n",
       "    <tr>\n",
       "      <th>20</th>\n",
       "      <td>-1.241211</td>\n",
       "      <td>0.046221</td>\n",
       "    </tr>\n",
       "    <tr>\n",
       "      <th>21</th>\n",
       "      <td>-0.670755</td>\n",
       "      <td>0.061080</td>\n",
       "    </tr>\n",
       "    <tr>\n",
       "      <th>22</th>\n",
       "      <td>0.513650</td>\n",
       "      <td>0.154925</td>\n",
       "    </tr>\n",
       "    <tr>\n",
       "      <th>23</th>\n",
       "      <td>0.800282</td>\n",
       "      <td>-0.295705</td>\n",
       "    </tr>\n",
       "    <tr>\n",
       "      <th>24</th>\n",
       "      <td>0.711405</td>\n",
       "      <td>-0.260004</td>\n",
       "    </tr>\n",
       "    <tr>\n",
       "      <th>25</th>\n",
       "      <td>0.807666</td>\n",
       "      <td>0.256037</td>\n",
       "    </tr>\n",
       "    <tr>\n",
       "      <th>26</th>\n",
       "      <td>-1.321355</td>\n",
       "      <td>-0.348936</td>\n",
       "    </tr>\n",
       "    <tr>\n",
       "      <th>27</th>\n",
       "      <td>-1.072371</td>\n",
       "      <td>-0.029364</td>\n",
       "    </tr>\n",
       "    <tr>\n",
       "      <th>28</th>\n",
       "      <td>0.605782</td>\n",
       "      <td>0.037641</td>\n",
       "    </tr>\n",
       "    <tr>\n",
       "      <th>29</th>\n",
       "      <td>0.454733</td>\n",
       "      <td>-0.141085</td>\n",
       "    </tr>\n",
       "    <tr>\n",
       "      <th>30</th>\n",
       "      <td>-1.179538</td>\n",
       "      <td>-0.098919</td>\n",
       "    </tr>\n",
       "    <tr>\n",
       "      <th>31</th>\n",
       "      <td>0.888793</td>\n",
       "      <td>-0.174704</td>\n",
       "    </tr>\n",
       "    <tr>\n",
       "      <th>32</th>\n",
       "      <td>-0.668787</td>\n",
       "      <td>-0.185125</td>\n",
       "    </tr>\n",
       "    <tr>\n",
       "      <th>33</th>\n",
       "      <td>1.572305</td>\n",
       "      <td>0.480512</td>\n",
       "    </tr>\n",
       "    <tr>\n",
       "      <th>34</th>\n",
       "      <td>-0.921251</td>\n",
       "      <td>-0.200995</td>\n",
       "    </tr>\n",
       "    <tr>\n",
       "      <th>35</th>\n",
       "      <td>0.448533</td>\n",
       "      <td>0.120941</td>\n",
       "    </tr>\n",
       "    <tr>\n",
       "      <th>36</th>\n",
       "      <td>-1.061753</td>\n",
       "      <td>0.011486</td>\n",
       "    </tr>\n",
       "    <tr>\n",
       "      <th>37</th>\n",
       "      <td>-0.987677</td>\n",
       "      <td>-0.032711</td>\n",
       "    </tr>\n",
       "    <tr>\n",
       "      <th>38</th>\n",
       "      <td>-0.343417</td>\n",
       "      <td>-0.108813</td>\n",
       "    </tr>\n",
       "    <tr>\n",
       "      <th>39</th>\n",
       "      <td>-0.529563</td>\n",
       "      <td>-0.010673</td>\n",
       "    </tr>\n",
       "    <tr>\n",
       "      <th>40</th>\n",
       "      <td>0.994393</td>\n",
       "      <td>0.510460</td>\n",
       "    </tr>\n",
       "    <tr>\n",
       "      <th>41</th>\n",
       "      <td>0.323578</td>\n",
       "      <td>-0.020246</td>\n",
       "    </tr>\n",
       "    <tr>\n",
       "      <th>42</th>\n",
       "      <td>0.293622</td>\n",
       "      <td>-0.004411</td>\n",
       "    </tr>\n",
       "    <tr>\n",
       "      <th>43</th>\n",
       "      <td>-0.247037</td>\n",
       "      <td>-0.058694</td>\n",
       "    </tr>\n",
       "    <tr>\n",
       "      <th>44</th>\n",
       "      <td>1.654302</td>\n",
       "      <td>0.237808</td>\n",
       "    </tr>\n",
       "    <tr>\n",
       "      <th>45</th>\n",
       "      <td>0.437122</td>\n",
       "      <td>-0.230074</td>\n",
       "    </tr>\n",
       "    <tr>\n",
       "      <th>46</th>\n",
       "      <td>0.474867</td>\n",
       "      <td>0.002210</td>\n",
       "    </tr>\n",
       "    <tr>\n",
       "      <th>47</th>\n",
       "      <td>1.948966</td>\n",
       "      <td>-0.238459</td>\n",
       "    </tr>\n",
       "  </tbody>\n",
       "</table>\n",
       "</div>"
      ],
      "text/plain": [
       "     factor1   factor2\n",
       "0   0.144397 -0.086038\n",
       "1  -0.493208 -0.109938\n",
       "2  -1.222956 -0.368210\n",
       "3  -1.522454 -0.338210\n",
       "4   0.361216  0.005342\n",
       "5  -0.792499 -0.032773\n",
       "6  -1.526566  1.152199\n",
       "7  -0.710721 -0.003524\n",
       "8   0.596171 -0.242654\n",
       "9   1.007694  0.100081\n",
       "10  0.231534  0.083768\n",
       "11  0.661231 -0.017152\n",
       "12  0.572817 -0.040056\n",
       "13  1.662563 -0.206560\n",
       "14  1.588901  0.374402\n",
       "15 -0.301542 -0.347490\n",
       "16  0.241294 -0.157485\n",
       "17 -1.378251  1.232588\n",
       "18 -0.678258 -0.184760\n",
       "19 -1.126646 -0.293936\n",
       "20 -1.241211  0.046221\n",
       "21 -0.670755  0.061080\n",
       "22  0.513650  0.154925\n",
       "23  0.800282 -0.295705\n",
       "24  0.711405 -0.260004\n",
       "25  0.807666  0.256037\n",
       "26 -1.321355 -0.348936\n",
       "27 -1.072371 -0.029364\n",
       "28  0.605782  0.037641\n",
       "29  0.454733 -0.141085\n",
       "30 -1.179538 -0.098919\n",
       "31  0.888793 -0.174704\n",
       "32 -0.668787 -0.185125\n",
       "33  1.572305  0.480512\n",
       "34 -0.921251 -0.200995\n",
       "35  0.448533  0.120941\n",
       "36 -1.061753  0.011486\n",
       "37 -0.987677 -0.032711\n",
       "38 -0.343417 -0.108813\n",
       "39 -0.529563 -0.010673\n",
       "40  0.994393  0.510460\n",
       "41  0.323578 -0.020246\n",
       "42  0.293622 -0.004411\n",
       "43 -0.247037 -0.058694\n",
       "44  1.654302  0.237808\n",
       "45  0.437122 -0.230074\n",
       "46  0.474867  0.002210\n",
       "47  1.948966 -0.238459"
      ]
     },
     "execution_count": 543,
     "metadata": {},
     "output_type": "execute_result"
    }
   ],
   "source": [
    "scores"
   ]
  },
  {
   "cell_type": "markdown",
   "id": "07cf6b84",
   "metadata": {},
   "source": [
    "### Now let's try to build not two, but three factors. What will change?"
   ]
  },
  {
   "cell_type": "code",
   "execution_count": 545,
   "id": "141a44cc",
   "metadata": {},
   "outputs": [
    {
     "data": {
      "text/html": [
       "<div>\n",
       "<style scoped>\n",
       "    .dataframe tbody tr th:only-of-type {\n",
       "        vertical-align: middle;\n",
       "    }\n",
       "\n",
       "    .dataframe tbody tr th {\n",
       "        vertical-align: top;\n",
       "    }\n",
       "\n",
       "    .dataframe thead th {\n",
       "        text-align: right;\n",
       "    }\n",
       "</style>\n",
       "<table border=\"1\" class=\"dataframe\">\n",
       "  <thead>\n",
       "    <tr style=\"text-align: right;\">\n",
       "      <th></th>\n",
       "      <th>Work</th>\n",
       "      <th>Price</th>\n",
       "      <th>Salary</th>\n",
       "    </tr>\n",
       "  </thead>\n",
       "  <tbody>\n",
       "    <tr>\n",
       "      <th>0</th>\n",
       "      <td>0.115880</td>\n",
       "      <td>0.783186</td>\n",
       "      <td>0.785158</td>\n",
       "    </tr>\n",
       "    <tr>\n",
       "      <th>1</th>\n",
       "      <td>-0.083969</td>\n",
       "      <td>0.005816</td>\n",
       "      <td>0.001664</td>\n",
       "    </tr>\n",
       "    <tr>\n",
       "      <th>2</th>\n",
       "      <td>0.000000</td>\n",
       "      <td>0.000000</td>\n",
       "      <td>-0.000000</td>\n",
       "    </tr>\n",
       "  </tbody>\n",
       "</table>\n",
       "</div>"
      ],
      "text/plain": [
       "       Work     Price    Salary\n",
       "0  0.115880  0.783186  0.785158\n",
       "1 -0.083969  0.005816  0.001664\n",
       "2  0.000000  0.000000 -0.000000"
      ]
     },
     "execution_count": 545,
     "metadata": {},
     "output_type": "execute_result"
    }
   ],
   "source": [
    "fa = FactorAnalysis(n_components=3)\n",
    "fa.fit(df_scaled)\n",
    "pd.DataFrame(fa.components_, columns=df2.columns)"
   ]
  },
  {
   "cell_type": "markdown",
   "id": "014fc69b",
   "metadata": {},
   "source": [
    "* The zero factor changed, it means if you work more you will get more salary and also the price also change accordingly\n",
    "* The first facator also changed, it means price and salary have inter-related, like our first analysis in the above (with 2 factor)\n",
    "* The 3 third factor, will it cannot be interpreted becuase it is related to those 2 cities"
   ]
  }
 ],
 "metadata": {
  "kernelspec": {
   "display_name": "Python 3 (ipykernel)",
   "language": "python",
   "name": "python3"
  },
  "language_info": {
   "codemirror_mode": {
    "name": "ipython",
    "version": 3
   },
   "file_extension": ".py",
   "mimetype": "text/x-python",
   "name": "python",
   "nbconvert_exporter": "python",
   "pygments_lexer": "ipython3",
   "version": "3.9.12"
  }
 },
 "nbformat": 4,
 "nbformat_minor": 5
}
